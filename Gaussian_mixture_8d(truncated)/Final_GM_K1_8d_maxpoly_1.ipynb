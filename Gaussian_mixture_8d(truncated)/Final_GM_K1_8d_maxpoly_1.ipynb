{
 "cells": [
  {
   "cell_type": "markdown",
   "metadata": {},
   "source": [
    "### Gaussian mixture \n",
    "\n",
    "## $\\pi (x) = \\frac{1}{2(2\\pi)^{d/2}} \\left( e ^{\\frac{-| x-a|^2}{2}}  + e ^{\\frac{-| x+a|^2}{2}} \\right), \\quad x \\in\\mathbb R^d$\n",
    "\n",
    "$U(x) = \\frac{1}{2} \\|x - a\\|_2^2 - \\text{log}(1 + e^{-2x^\\top a})$\n",
    "\n",
    "$\\nabla U(x) = x-a +2a(1 + e^{2 x^\\top a})^{-1}$\n",
    "\n",
    "$ m = 1 - \\|a \\|_2^2 \\quad $ (strongly convex function)\n",
    "\n",
    "$M = 1 \\quad$  (Lipschitz continuous gradient)\n",
    "\n",
    "$a = (\\frac{1}{\\sqrt{2d}}, \\dots, \\frac{1}{\\sqrt{2d}})$\n",
    "\n",
    "##### Setup:\n",
    "\n",
    "d = 8\n",
    "\n",
    "n = 10000\n",
    "\n",
    "N = 50000\n",
    "\n",
    "N_train = None\n",
    "\n",
    "N_test = 100\n",
    "\n",
    "polynomials_max_deg = 1\n",
    "\n",
    "$f(x) = \\sum_{i=1}^{d}x_i$\n",
    "\n",
    "$K = 1$"
   ]
  },
  {
   "cell_type": "code",
   "execution_count": 68,
   "metadata": {
    "collapsed": true
   },
   "outputs": [],
   "source": [
    "import numpy as np\n",
    "import scipy \n",
    "from scipy.stats import bernoulli\n",
    "from scipy.stats import multivariate_normal\n",
    "from scipy.misc import comb\n",
    "from matplotlib import pyplot as plt\n",
    "from scipy.special import hermitenorm\n",
    "from tqdm import tqdm\n",
    "from numpy.polynomial.hermite_e import HermiteE\n",
    "import matplotlib.mlab as mlab\n",
    "%matplotlib inline\n",
    "from joblib import Parallel, delayed\n",
    "from scipy.optimize import minimize\n",
    "from itertools import product\n",
    "import sys\n",
    "import warnings\n",
    "from sklearn import linear_model\n",
    "import math\n",
    "if not sys.warnoptions:\n",
    "    warnings.simplefilter(\"ignore\")\n",
    "from numpy.random import normal  \n",
    "import timeit"
   ]
  },
  {
   "cell_type": "markdown",
   "metadata": {},
   "source": [
    "### Parameters inicialization, ULA algorithm"
   ]
  },
  {
   "cell_type": "code",
   "execution_count": 69,
   "metadata": {
    "collapsed": true
   },
   "outputs": [],
   "source": [
    "d = 8\n",
    "a = np.ones((d,1)) / np.sqrt(2*d)\n",
    "\n",
    "def f_grad(x):\n",
    "    return x-a+2*a/(1 + np.exp(2* (x.T @ a)))\n",
    "\n",
    "def generate_lmc(a,d,N):\n",
    "    h = 0.1\n",
    "    K = 50000\n",
    "    vkh = np.empty((K + N,d,1))\n",
    "    ksi = np.random.randn(K+N,d,1)\n",
    "    vkh[0] = (np.random.normal(0,1,d)).reshape(d,1)\n",
    "    for i in range(1,K+N):\n",
    "        grad = f_grad(vkh[i-1])\n",
    "        vkh[i] = vkh[i-1] - h*grad + np.sqrt(2*h) * ksi[i]\n",
    "    return vkh[K:], ksi[K:]"
   ]
  },
  {
   "cell_type": "markdown",
   "metadata": {},
   "source": [
    "### Sample generation"
   ]
  },
  {
   "cell_type": "code",
   "execution_count": 103,
   "metadata": {
    "collapsed": true
   },
   "outputs": [],
   "source": [
    "np.random.seed(2342)\n",
    "X, Z = generate_lmc(a,d, 100000)"
   ]
  },
  {
   "cell_type": "code",
   "execution_count": 104,
   "metadata": {},
   "outputs": [
    {
     "data": {
      "image/png": "[encoded data removed]",
      "text/plain": [
       "<matplotlib.figure.Figure at 0x7ff946726b38>"
      ]
     },
     "metadata": {},
     "output_type": "display_data"
    }
   ],
   "source": [
    "plt.figure(figsize=(10,10))\n",
    "n, bins, patches = plt.hist(X[:,1].reshape(-1,1), 25, density=True, facecolor='g', alpha=0.75)\n",
    "x = np.linspace(-5,5,100)\n",
    "plt.show()"
   ]
  },
  {
   "cell_type": "markdown",
   "metadata": {},
   "source": [
    "### Ordinary weighted estimator with $$f(x) = x$$"
   ]
  },
  {
   "cell_type": "code",
   "execution_count": 105,
   "metadata": {
    "collapsed": true
   },
   "outputs": [],
   "source": [
    "def local_weighted_estimator(X):\n",
    "    return X.sum(axis = 1).mean()"
   ]
  },
  {
   "cell_type": "code",
   "execution_count": 106,
   "metadata": {},
   "outputs": [
    {
     "name": "stdout",
     "output_type": "stream",
     "text": [
      "Weighted estimator =  -0.0120671860099\n"
     ]
    }
   ],
   "source": [
    "print (\"Weighted estimator = \",local_weighted_estimator(X))"
   ]
  },
  {
   "cell_type": "markdown",
   "metadata": {},
   "source": [
    "### Generation of N_train independent paths"
   ]
  },
  {
   "cell_type": "code",
   "execution_count": 107,
   "metadata": {
    "collapsed": true
   },
   "outputs": [],
   "source": [
    "def generate_lmc_from_initial(x_initial,a,d,N):\n",
    "    h = 0.1\n",
    "    vkh = np.empty((N,d,1))\n",
    "    ksi = np.random.randn(N,d,1)\n",
    "    vkh[0] = x_initial\n",
    "    for i in range(1,N):\n",
    "        grad = f_grad(vkh[i-1])\n",
    "        vkh[i] = vkh[i-1] - h*grad + np.sqrt(2*h) * ksi[i]\n",
    "    return vkh, ksi\n",
    "\n",
    "def generate_paths(x_initial,N_train,a,d,N):\n",
    "    XX = []\n",
    "    ZZ = []\n",
    "    for i in range(N_train):\n",
    "        X, Z = generate_lmc_from_initial(x_initial[-i],a,d,N)\n",
    "        XX.append(X)\n",
    "        ZZ.append(Z)\n",
    "    return np.array(XX),np.array(ZZ)"
   ]
  },
  {
   "cell_type": "code",
   "execution_count": 108,
   "metadata": {
    "collapsed": true
   },
   "outputs": [],
   "source": [
    "np.random.seed(123)\n",
    "XX, ZZ = generate_paths(X,50,a,d,1000)"
   ]
  },
  {
   "cell_type": "code",
   "execution_count": 109,
   "metadata": {},
   "outputs": [
    {
     "data": {
      "text/plain": [
       "(50, 1000, 8, 1)"
      ]
     },
     "execution_count": 109,
     "metadata": {},
     "output_type": "execute_result"
    }
   ],
   "source": [
    "XX.shape"
   ]
  },
  {
   "cell_type": "markdown",
   "metadata": {},
   "source": [
    "### Generate validation path"
   ]
  },
  {
   "cell_type": "code",
   "execution_count": 110,
   "metadata": {
    "collapsed": true
   },
   "outputs": [],
   "source": [
    "np.random.seed(42)\n",
    "X_validate, Z_validate = generate_lmc_from_initial(X[-5000],a,d,1000)"
   ]
  },
  {
   "cell_type": "code",
   "execution_count": 111,
   "metadata": {},
   "outputs": [
    {
     "data": {
      "image/png": "[encoded data removed]",
      "text/plain": [
       "<matplotlib.figure.Figure at 0x7ff9466b5978>"
      ]
     },
     "metadata": {},
     "output_type": "display_data"
    }
   ],
   "source": [
    "plt.figure(figsize=(10,10))\n",
    "n, bins, patches = plt.hist(X_validate[:,1].reshape(-1,1), 20, density=True, facecolor='g', alpha=0.75)\n",
    "x = np.linspace(-5,5,100)\n",
    "plt.title((local_weighted_estimator(X_validate)))\n",
    "plt.show()"
   ]
  },
  {
   "cell_type": "markdown",
   "metadata": {},
   "source": [
    "### (normalized) Hermite polynomials"
   ]
  },
  {
   "cell_type": "code",
   "execution_count": 112,
   "metadata": {
    "collapsed": true
   },
   "outputs": [],
   "source": [
    "def generate_k_vec(d, K):\n",
    "    r = list(range(K+1))\n",
    "    k = []\n",
    "    for roll in product(r, repeat = d):\n",
    "        k.append(list(roll))\n",
    "    k.remove([0,0,0,0,0,0,0,0])\n",
    "    return k\n",
    "def H(k, x):\n",
    "    h = hermitenorm(k)(x) /  np.sqrt(math.factorial(k))\n",
    "    return h\n",
    "def Hermite_val(k_vec,x_vec):\n",
    "    P = 1.0\n",
    "    d = x_vec.shape[0]\n",
    "    for i in range(d):\n",
    "        P = P * H(k_vec[i],x_vec[i])\n",
    "    return P"
   ]
  },
  {
   "cell_type": "code",
   "execution_count": 113,
   "metadata": {
    "collapsed": true
   },
   "outputs": [],
   "source": [
    "# k_comb = generate_k_vec(d,1)"
   ]
  },
  {
   "cell_type": "code",
   "execution_count": 114,
   "metadata": {
    "collapsed": true
   },
   "outputs": [],
   "source": [
    "k_comb = [[1,0,0,0,0,0,0,0],[0,1,0,0,0,0,0,0],[0,0,1,0,0,0,0,0],[0,0,0,1,0,0,0,0],\n",
    "                    [0,0,0,0,1,0,0,0],[0,0,0,0,0,1,0,0],[0,0,0,0,0,0,1,0],[0,0,0,0,0,0,0,1]]"
   ]
  },
  {
   "cell_type": "code",
   "execution_count": 115,
   "metadata": {},
   "outputs": [
    {
     "data": {
      "text/plain": [
       "8"
      ]
     },
     "execution_count": 115,
     "metadata": {},
     "output_type": "execute_result"
    }
   ],
   "source": [
    "len(k_comb)"
   ]
  },
  {
   "cell_type": "markdown",
   "metadata": {},
   "source": [
    "### Reduced variant"
   ]
  },
  {
   "cell_type": "markdown",
   "metadata": {},
   "source": [
    "## Fitting linear regression for \n",
    "\n",
    "## $Q_{p,l}(x) = \\mathbb{E} \\left[f(X_p) | X_l = x\\right] = G_{p-l}(x) = \\mathbb{E} \\left[ f(\\varPhi ^{p-l} (x, \\xi))\\right]$\n",
    "\n",
    "\n",
    "### $\\forall l: \\quad G_r(x) = \\mathbb{E} \\left[f(X_{l+r}) | X_l = x \\right] $\n",
    "\n",
    "### Algorithm (trajectory + all variations):\n",
    "\n",
    "## $\\hat{G}_r = argmin_{\\psi \\in \\Psi} \\sum_{s = 1}^{N_{train}} \\sum_{l = N + 1}^{N+n-r} \\left| f(X_{l+r}^{(s)}) - \\psi(X_l^{(s)})\\right|^2$\n",
    "\n",
    "### where $\\quad  1 \\leq r \\leq n-1$\n",
    "\n",
    "## $\\hat{G}_0(x) = f(x)$"
   ]
  },
  {
   "cell_type": "code",
   "execution_count": 116,
   "metadata": {
    "collapsed": true
   },
   "outputs": [],
   "source": [
    "def pol_ar_1d(x): #x.shape = (8,1)\n",
    "    return np.array([1,x[0],x[1],x[2],x[3],x[4],x[5],x[6],x[7]])\n",
    "\n",
    "def generate_X_reduced(XX, r):\n",
    "    N_train = XX.shape[0]\n",
    "    N = XX.shape[1]\n",
    "    X = np.empty((N_train * (N-r) ,9))\n",
    "    all_points = XX[:, :N-r].reshape(-1,d)\n",
    "    X[:,0] = np.ones(N_train * (N-r))\n",
    "    X[:,1] = all_points[:,0].squeeze()\n",
    "    X[:,2] = all_points[:,1].squeeze()\n",
    "    X[:,3] = all_points[:,2].squeeze()\n",
    "    X[:,4] = all_points[:,3].squeeze()\n",
    "    X[:,5] = all_points[:,4].squeeze()\n",
    "    X[:,6] = all_points[:,5].squeeze()\n",
    "    X[:,7] = all_points[:,6].squeeze()\n",
    "    X[:,8] = all_points[:,7].squeeze()\n",
    "    return X \n",
    "\n",
    "\n",
    "def generate_y_reduced(XX,r):\n",
    "    N_train = XX.shape[0]\n",
    "    N = XX.shape[1]\n",
    "    y = np.zeros(N_train * (N-r))\n",
    "    y = XX[:, r:].sum(axis = 2).reshape(-1)\n",
    "    return y\n",
    "\n",
    "def G_pml_fit(XX):\n",
    "    N_train = XX.shape[0]\n",
    "    N = XX.shape[1]\n",
    "    Betas = np.zeros((N,9))\n",
    "    for r in tqdm(range(N)):\n",
    "        X = generate_X_reduced(XX,r)\n",
    "        y = generate_y_reduced(XX,r)\n",
    "        beta = np.linalg.inv(X.T @ X) @ X.T @ y\n",
    "        Betas[r] = beta\n",
    "    return Betas\n",
    "\n",
    "def G_pml_predict(x,pml,Betas):\n",
    "    x_pol = pol_ar_1d(x)\n",
    "    beta = Betas[pml]\n",
    "    return (x_pol @ beta)"
   ]
  },
  {
   "cell_type": "code",
   "execution_count": 117,
   "metadata": {},
   "outputs": [
    {
     "name": "stderr",
     "output_type": "stream",
     "text": [
      "100%|██████████| 1000/1000 [00:03<00:00, 273.21it/s]\n"
     ]
    }
   ],
   "source": [
    "Betas_reduced = G_pml_fit(XX)"
   ]
  },
  {
   "cell_type": "code",
   "execution_count": 118,
   "metadata": {},
   "outputs": [
    {
     "data": {
      "text/plain": [
       "(1000, 9)"
      ]
     },
     "execution_count": 118,
     "metadata": {},
     "output_type": "execute_result"
    }
   ],
   "source": [
    "Betas_reduced.shape"
   ]
  },
  {
   "cell_type": "code",
   "execution_count": 119,
   "metadata": {
    "collapsed": true
   },
   "outputs": [],
   "source": [
    "np.save('GM(8d)_Betas_reduced.npy',Betas_reduced)"
   ]
  },
  {
   "cell_type": "code",
   "execution_count": 120,
   "metadata": {
    "collapsed": true
   },
   "outputs": [],
   "source": [
    "degrees = np.array([[0,0,0,0,0,0,0,0],[1,0,0,0,0,0,0,0],[0,1,0,0,0,0,0,0],[0,0,1,0,0,0,0,0],[0,0,0,1,0,0,0,0],\n",
    "                    [0,0,0,0,1,0,0,0],[0,0,0,0,0,1,0,0],[0,0,0,0,0,0,1,0],[0,0,0,0,0,0,0,1]])"
   ]
  },
  {
   "cell_type": "code",
   "execution_count": 121,
   "metadata": {
    "collapsed": true
   },
   "outputs": [],
   "source": [
    "def a_plk(X,p,l,k_vec):\n",
    "    h = 0.1\n",
    "    S = 0\n",
    "    Small_s = np.zeros(8)\n",
    "    x_hat = X[l-1] - h*f_grad(X[l-1])\n",
    "    for ind,deg in enumerate(degrees):\n",
    "        Small_s[:] = 0\n",
    "        for d, i in enumerate(deg):\n",
    "            for t in range (i+1):\n",
    "                for s in range (int(t/2 +1)):\n",
    "                    if (k_vec[d] == t - 2*s):\n",
    "                        Small_s[d] = Small_s[d] + comb(N=i, k = t, exact = True) * x_hat[0]**(i-t) * \\\n",
    "                        math.factorial(t)*1/math.factorial(s)*1 / np.sqrt(math.factorial(t-2*s)) *np.sqrt(2*h)**t /2**s\n",
    "                    else:\n",
    "                        pass\n",
    "        S = S + Betas_reduced[p-l,ind] * Small_s.prod()\n",
    "    return S"
   ]
  },
  {
   "cell_type": "code",
   "execution_count": 122,
   "metadata": {
    "collapsed": true
   },
   "outputs": [],
   "source": [
    "def estimator(XX):\n",
    "    Pi = np.empty(XX.shape[0])\n",
    "    for i in tqdm(range(XX.shape[0])):\n",
    "        Pi[i] = local_weighted_estimator(XX[i])\n",
    "    return Pi\n",
    "\n",
    "def M_bias(k_vec,X,Z,Betas_reduced,i):\n",
    "    N = X.shape[0]\n",
    "    S = 0\n",
    "    for p in range(N):\n",
    "        for l in range (p+1):\n",
    "            if (p-l<100):\n",
    "                s = a_plk(X,p,l,k_vec)* Hermite_val(k_vec,Z[l])\n",
    "                S = S + s\n",
    "    return S/N\n",
    "\n",
    "def estimator_bias(k,XX,ZZ,Betas,first, last):\n",
    "    M_results = Parallel(n_jobs=-1)(delayed(M_bias)(k,XX[i],ZZ[i],Betas_reduced,i)for i in range(first, last))\n",
    "    return np.array(M_results).reshape(-1)"
   ]
  },
  {
   "cell_type": "markdown",
   "metadata": {},
   "source": [
    "### check formula ( full)"
   ]
  },
  {
   "cell_type": "code",
   "execution_count": 98,
   "metadata": {},
   "outputs": [
    {
     "name": "stdout",
     "output_type": "stream",
     "text": [
      "P = -0.281969786824\n",
      "M ([1, 0, 0, 0, 0, 0, 0, 0]) = [-0.03159257] [Time:219.0979124759324]\n",
      "M ([0, 1, 0, 0, 0, 0, 0, 0]) = [-0.20742939] [Time:438.8385169659741]\n",
      "M ([0, 0, 1, 0, 0, 0, 0, 0]) = [-0.27565173] [Time:657.9631948819151]\n",
      "M ([0, 0, 0, 1, 0, 0, 0, 0]) = [-0.11095527] [Time:877.2312429719605]\n",
      "M ([0, 0, 0, 0, 1, 0, 0, 0]) = [ 0.3921346] [Time:1096.1146751809865]\n",
      "M ([0, 0, 0, 0, 0, 1, 0, 0]) = [-0.09290857] [Time:1316.5492193559185]\n",
      "M ([0, 0, 0, 0, 0, 0, 1, 0]) = [-0.10467204] [Time:1536.5138202869566]\n",
      "M ([0, 0, 0, 0, 0, 0, 0, 1]) = [ 0.16934347] [Time:1755.132161063957]\n"
     ]
    }
   ],
   "source": [
    "time_1 = timeit.default_timer()\n",
    "print (\"P =\",local_weighted_estimator(X_validate))\n",
    "for i in range(len(k_comb)):\n",
    "    print (\"M ({}) = {} [Time:{}]\".format(k_comb[i],M_bias(k_comb[i],X_validate,Z_validate,Betas_reduced,0),\n",
    "                                           timeit.default_timer()-time_1))"
   ]
  },
  {
   "cell_type": "code",
   "execution_count": 123,
   "metadata": {
    "collapsed": true
   },
   "outputs": [],
   "source": [
    "# X = XX[7]\n",
    "# Z = ZZ[7]\n",
    "# time_1 = timeit.default_timer()\n",
    "# print (\"P =\",local_weighted_estimator(X))\n",
    "# for i in range(len(k_comb)):\n",
    "#     print (\"M ({}) = {} [Time:{}]\".format(k_comb[i],M_bias(k_comb[i],X,Z,Betas_reduced,0),timeit.default_timer()-time_1))"
   ]
  },
  {
   "cell_type": "markdown",
   "metadata": {},
   "source": [
    "## Check on test sample"
   ]
  },
  {
   "cell_type": "code",
   "execution_count": 133,
   "metadata": {},
   "outputs": [
    {
     "name": "stderr",
     "output_type": "stream",
     "text": [
      "100%|██████████| 100/100 [00:00<00:00, 22132.36it/s]"
     ]
    },
    {
     "name": "stdout",
     "output_type": "stream",
     "text": [
      "Variance of Pi =  0.324733870636\n"
     ]
    },
    {
     "name": "stderr",
     "output_type": "stream",
     "text": [
      "\n"
     ]
    }
   ],
   "source": [
    "# np.random.seed(987)\n",
    "# X, Z = generate_lmc(a,d,100000)\n",
    "# XX_test, ZZ_test = generate_paths(X,100,a,d,1000)\n",
    "# P_test = estimator(XX_test)\n",
    "\n",
    "# print ('Variance of Pi = ',P_test.var(dtype=np.float64,ddof = 1))\n",
    "\n",
    "# np.save('GM_8d_XX_test.npy', XX_test)\n",
    "# np.save('GM_8d_ZZ_test.npy', ZZ_test)"
   ]
  },
  {
   "cell_type": "code",
   "execution_count": 136,
   "metadata": {
    "collapsed": true
   },
   "outputs": [],
   "source": [
    "XX_test = np.load('GM_8d_XX_test.npy')\n",
    "ZZ_test = np.load('GM_8d_ZZ_test.npy')\n",
    "P_test = estimator(XX_test)"
   ]
  },
  {
   "cell_type": "code",
   "execution_count": null,
   "metadata": {
    "collapsed": true
   },
   "outputs": [],
   "source": [
    "M_1 = estimator_bias(k_comb[0],XX_test,ZZ_test,Betas_reduced, 0, 100)\n",
    "np.save('GM(2d)_M_results_test_1.npy',M_1)\n",
    "\n",
    "M_2 = estimator_bias(k_comb[1],XX_test,ZZ_test,Betas_reduced, 0, 100)\n",
    "np.save('GM(2d)_M_results_test_2.npy',M_2)\n",
    "\n",
    "M_3 = estimator_bias(k_comb[2],XX_test,ZZ_test,Betas_reduced, 0, 100)\n",
    "np.save('GM(2d)_M_results_test_3.npy',M_3)\n",
    "\n",
    "M_4 = estimator_bias(k_comb[3],XX_test,ZZ_test,Betas_reduced, 0, 100) \n",
    "np.save('GM(2d)_M_results_test_4.npy',M_4)\n",
    "\n",
    "M_5 = estimator_bias(k_comb[4],XX_test,ZZ_test,Betas_reduced, 0, 100)\n",
    "np.save('GM(2d)_M_results_test_5.npy',M_5)\n",
    "\n",
    "M_6 = estimator_bias(k_comb[5],XX_test,ZZ_test,Betas_reduced, 0, 100)\n",
    "np.save('GM(2d)_M_results_test_6.npy',M_6)\n",
    "\n",
    "M_7 = estimator_bias(k_comb[6],XX_test,ZZ_test,Betas_reduced, 0, 100)\n",
    "np.save('GM(2d)_M_results_test_7.npy',M_7)\n",
    "\n",
    "M_8 = estimator_bias(k_comb[7],XX_test,ZZ_test,Betas_reduced, 0, 100)\n",
    "np.save('GM(2d)_M_results_test_8.npy',M_8)"
   ]
  },
  {
   "cell_type": "code",
   "execution_count": 159,
   "metadata": {},
   "outputs": [
    {
     "data": {
      "image/png": "[encoded data removed]",
      "text/plain": [
       "<matplotlib.figure.Figure at 0x7ff945fc3eb8>"
      ]
     },
     "metadata": {},
     "output_type": "display_data"
    }
   ],
   "source": [
    "plt.figure(figsize=(10,10))\n",
    "n, bins, patches = plt.hist(P_test.reshape(-1,1),15,facecolor='r', density=True,\n",
    "                            alpha=1, label=r\"$\\pi$\")\n",
    "\n",
    "n, bins, patches = plt.hist((P_test-M_1 - M_2 -M_3 -M_4-M_5 -M_6 -M_7).reshape(-1,1),15, density=True, facecolor='g', \n",
    "                            alpha=0.7, label=\"Distribution of $\\pi - M^1_N$\")\n",
    "\n",
    "#plt.legend(loc=2, prop={'size': 17})\n",
    "plt.grid(which='major', axis='x', linewidth=0.45, linestyle='-', color='0.75')\n",
    "plt.grid(which='major', axis='y', linewidth=0.45, linestyle='-', color='0.75')\n",
    "\n",
    "plt.tick_params(\n",
    "    axis='y',\n",
    "    color = 'w',\n",
    "    labelcolor = 'w',\n",
    "    which='both')\n",
    "# plt.xlim(-0.5, 0.5)\n",
    "plt.show()"
   ]
  },
  {
   "cell_type": "code",
   "execution_count": 160,
   "metadata": {},
   "outputs": [
    {
     "name": "stdout",
     "output_type": "stream",
     "text": [
      "Variance of Pi =  0.324733870636\n",
      "-----------------------------------------------------\n",
      "Variance of new estimator (K=1)=  0.286992479989\n",
      "=====================================================\n",
      "Variance of new estimator (K=1)=  0.263239493416\n",
      "=====================================================\n",
      "Variance of new estimator (K=1)=  0.21623564939\n",
      "=====================================================\n",
      "Variance of new estimator (K=1)=  0.175302259992\n",
      "=====================================================\n",
      "Variance of new estimator (K=1)=  0.121543295222\n",
      "=====================================================\n",
      "Variance of new estimator (K=1)=  0.11262402002\n",
      "=====================================================\n",
      "Variance of new estimator (K=1)=  0.0534394973384\n",
      "=====================================================\n",
      "Variance of new estimator (K=1)=  0.00978211277393\n",
      "=====================================================\n"
     ]
    }
   ],
   "source": [
    "print ('Variance of Pi = ',P_test.var(ddof = 1))\n",
    "print ('-----------------------------------------------------')\n",
    "print ('Variance of new estimator (K=1)= ',(P_test-M_1).var(ddof = 1))\n",
    "print (\"=====================================================\")\n",
    "print ('Variance of new estimator (K=1)= ',(P_test-M_1 - M_2).var(ddof = 1))\n",
    "print (\"=====================================================\")\n",
    "print ('Variance of new estimator (K=1)= ',(P_test-M_1 - M_2-M_3).var(ddof = 1))\n",
    "print (\"=====================================================\")\n",
    "print ('Variance of new estimator (K=1)= ',(P_test-M_1 - M_2-M_3 - M_4).var(ddof = 1))\n",
    "print (\"=====================================================\")\n",
    "print ('Variance of new estimator (K=1)= ',(P_test-M_1 - M_2-M_3-M_4 - M_5).var(ddof = 1))\n",
    "print (\"=====================================================\")\n",
    "print ('Variance of new estimator (K=1)= ',(P_test-M_1 - M_2-M_3 - M_4 - M_5 -M_6).var(ddof = 1))\n",
    "print (\"=====================================================\")\n",
    "print ('Variance of new estimator (K=1)= ',(P_test-M_1 - M_2-M_3- M_4 - M_5 -M_6-M_7).var(ddof = 1))\n",
    "print (\"=====================================================\")\n",
    "print ('Variance of new estimator (K=1)= ',(P_test-M_1 - M_2-M_3- M_4 - M_5 -M_6-M_7 - M_8).var(ddof = 1))\n",
    "print (\"=====================================================\")"
   ]
  },
  {
   "cell_type": "code",
   "execution_count": 150,
   "metadata": {},
   "outputs": [
    {
     "data": {
      "image/png": "[encoded data removed]",
      "text/plain": [
       "<matplotlib.figure.Figure at 0x7ff946490748>"
      ]
     },
     "metadata": {},
     "output_type": "display_data"
    }
   ],
   "source": [
    "plt.figure(figsize=(10,10))\n",
    "\n",
    "# generate some random test data\n",
    "all_data = [P_test, P_test - M_1,P_test - M_1 -M_3,P_test - M_1 - M_3 - M_4 , \n",
    "           P_test - M_1 - M_2 -M_3 -M_4, P_test - M_1 - M_2 -M_3 -M_4 -M_5, P_test - M_1 - M_2 -M_3 -M_4 -M_5 -M_6,\n",
    "           P_test - M_1 - M_2 -M_3 -M_4 -M_5 -M_6 -M_7, P_test - M_1 - M_2 -M_3 -M_4 -M_5 -M_6 - M_7 - M_8]\n",
    "\n",
    "# plot violin plot\n",
    "plt.boxplot(all_data)\n",
    "plt.title('violin plot')\n",
    "\n",
    "plt.show()"
   ]
  },
  {
   "cell_type": "code",
   "execution_count": null,
   "metadata": {
    "collapsed": true
   },
   "outputs": [],
   "source": []
  }
 ],
 "metadata": {
  "kernelspec": {
   "display_name": "Python 3",
   "language": "python",
   "name": "python3"
  },
  "language_info": {
   "codemirror_mode": {
    "name": "ipython",
    "version": 3
   },
   "file_extension": ".py",
   "mimetype": "text/x-python",
   "name": "python",
   "nbconvert_exporter": "python",
   "pygments_lexer": "ipython3",
   "version": "3.6.3"
  }
 },
 "nbformat": 4,
 "nbformat_minor": 2
}
