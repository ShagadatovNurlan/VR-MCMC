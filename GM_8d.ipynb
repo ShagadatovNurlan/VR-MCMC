{
 "cells": [
  {
   "cell_type": "code",
   "execution_count": 1,
   "metadata": {},
   "outputs": [],
   "source": [
    "import numpy as np\n",
    "from tqdm import tqdm\n",
    "import timeit\n",
    "from matplotlib import pyplot as plt\n",
    "from Code import ULA\n",
    "from Code import Algo1\n",
    "from Code import ZVnbrosse"
   ]
  },
  {
   "cell_type": "markdown",
   "metadata": {},
   "source": [
    "### Gaussian mixture \n",
    "\n",
    "## $\\pi (x) = \\frac{1}{2(2\\pi)^{d/2}} \\left( e ^{\\frac{-| x-a|^2}{2}}  + e ^{\\frac{-| x+a|^2}{2}} \\right), \\quad x \\in\\mathbb R^d$\n",
    "\n",
    "$U(x) = \\frac{1}{2} \\|x - a\\|_2^2 - \\text{log}(1 + e^{-2x^\\top a})$\n",
    "\n",
    "$\\nabla U(x) = x-a +2a(1 + e^{2 x^\\top a})^{-1}$\n",
    "\n",
    "$ m = 1 - \\|a \\|_2^2 \\quad $ (strongly convex function)\n",
    "\n",
    "$M = 1 \\quad$  (Lipschitz continuous gradient)\n",
    "\n",
    "$a = (\\frac{1}{\\sqrt{2d}}, \\dots, \\frac{1}{\\sqrt{2d}})$"
   ]
  },
  {
   "cell_type": "markdown",
   "metadata": {},
   "source": [
    "## Setup"
   ]
  },
  {
   "cell_type": "code",
   "execution_count": 2,
   "metadata": {},
   "outputs": [],
   "source": [
    "dim = 8\n",
    "h = 0.2\n",
    "n = 2000\n",
    "N_train = 10\n",
    "N_test = 100\n",
    "n_tilde = 50\n",
    "deg = 1\n",
    "def f_grad(x):\n",
    "    a = np.ones(dim) / np.sqrt(2*dim)\n",
    "    return x - a + 2 * a/(1 + np.exp(2* (x.T @ a)))\n",
    "\n",
    "def local_weighted_estimator(X):\n",
    "    return X.sum(axis=1).mean()\n",
    "\n",
    "def estimator(XX):\n",
    "    Pi = np.empty(XX.shape[0])\n",
    "    for i in tqdm(range(XX.shape[0])):\n",
    "        Pi[i] = local_weighted_estimator(XX[i])\n",
    "    return Pi"
   ]
  },
  {
   "cell_type": "code",
   "execution_count": 3,
   "metadata": {},
   "outputs": [],
   "source": [
    "f_target = 'sum'"
   ]
  },
  {
   "cell_type": "markdown",
   "metadata": {},
   "source": [
    "### Generate sample and plot"
   ]
  },
  {
   "cell_type": "code",
   "execution_count": 4,
   "metadata": {},
   "outputs": [],
   "source": [
    "np.random.seed(2342)\n",
    "X, G, Z = ULA.ULA_with_burnin(d=dim, step=h, burn_in=10000, n=100000,f_grad=f_grad)"
   ]
  },
  {
   "cell_type": "code",
   "execution_count": 5,
   "metadata": {},
   "outputs": [
    {
     "name": "stdout",
     "output_type": "stream",
     "text": [
      "expectation =  -0.11087391048305542\n"
     ]
    },
    {
     "data": {
      "image/png": "[encoded data removed]",
      "text/plain": [
       "<Figure size 1080x360 with 3 Axes>"
      ]
     },
     "metadata": {
      "needs_background": "light"
     },
     "output_type": "display_data"
    }
   ],
   "source": [
    "print ('expectation = ', local_weighted_estimator(X))\n",
    "ULA.plot_distr(X,Z,G,0)"
   ]
  },
  {
   "cell_type": "markdown",
   "metadata": {},
   "source": [
    "### Generate train ant test trajectories"
   ]
  },
  {
   "cell_type": "code",
   "execution_count": 6,
   "metadata": {},
   "outputs": [],
   "source": [
    "np.random.seed(123)\n",
    "\n",
    "XX, GG, ZZ = ULA.generate_train_trajectories(X, N_train=N_train,d = dim, step = h, n = n, f_grad=f_grad)\n",
    "XX_test, GG_test, ZZ_test = ULA.generate_test_trajetories(N_test=N_test, d =dim, step=h, \n",
    "                                                          burn_in=10000, n = n, f_grad=f_grad)"
   ]
  },
  {
   "cell_type": "markdown",
   "metadata": {},
   "source": [
    "### Algorithm 1 "
   ]
  },
  {
   "cell_type": "code",
   "execution_count": 7,
   "metadata": {},
   "outputs": [
    {
     "name": "stderr",
     "output_type": "stream",
     "text": [
      "100%|██████████| 1000/1000 [00:15<00:00, 62.87it/s]\n"
     ]
    }
   ],
   "source": [
    "Betas, degrees = Algo1.G_pml_fit_mean(XX, f_target, max_deg = deg)"
   ]
  },
  {
   "cell_type": "code",
   "execution_count": 8,
   "metadata": {},
   "outputs": [],
   "source": [
    "k_comb = np.zeros((dim,dim), dtype=np.int16)\n",
    "for i in range(dim):\n",
    "    k_comb[i,i] = 1\n",
    "\n",
    "# k_comb = np.array([[1,0], [0,1], [1,1], [2,0], [0,2]], dtype=np.int16)"
   ]
  },
  {
   "cell_type": "markdown",
   "metadata": {},
   "source": [
    "### Check and time"
   ]
  },
  {
   "cell_type": "code",
   "execution_count": 23,
   "metadata": {},
   "outputs": [
    {
     "name": "stdout",
     "output_type": "stream",
     "text": [
      "mean of target function = 1.5090478696453307\n",
      "            (k = [1 0 0 0 0 0 0 0]) = 1.753392300354784 [Time:78.71322032809258]\n",
      "            (k = [0 1 0 0 0 0 0 0]) = 2.0507604020515298 [Time:156.17301951395348]\n",
      "            (k = [0 0 1 0 0 0 0 0]) = 1.7865643453014401 [Time:233.469683063915]\n",
      "            (k = [0 0 0 1 0 0 0 0]) = 1.1559984215770074 [Time:311.24909043707885]\n",
      "            (k = [0 0 0 0 1 0 0 0]) = 0.65673069966562 [Time:390.07760545401834]\n",
      "            (k = [0 0 0 0 0 1 0 0]) = 0.18290629961905153 [Time:467.1412639950868]\n",
      "            (k = [0 0 0 0 0 0 1 0]) = 0.4921725561060978 [Time:544.2925657329615]\n",
      "            (k = [0 0 0 0 0 0 0 1]) = 0.01825002886694843 [Time:621.4160984240007]\n"
     ]
    }
   ],
   "source": [
    "i_test = 5\n",
    "time_1 = timeit.default_timer()\n",
    "p = local_weighted_estimator(XX_test[i_test])\n",
    "print (\"mean of target function =\", p)\n",
    "for i in range(len(k_comb)):\n",
    "    p = p - Algo1.M_bias(k_comb[i],XX_test[i_test],GG_test[i_test], ZZ_test[i_test], h, degrees,Betas, 100)\n",
    "    print (\"            (k = {}) = {} [Time:{}]\".format(k_comb[i],p,timeit.default_timer()-time_1))"
   ]
  },
  {
   "cell_type": "markdown",
   "metadata": {},
   "source": [
    "## Check results on test trajectories"
   ]
  },
  {
   "cell_type": "code",
   "execution_count": 11,
   "metadata": {},
   "outputs": [
    {
     "name": "stderr",
     "output_type": "stream",
     "text": [
      "100%|██████████| 50/50 [00:00<00:00, 5808.00it/s]\n"
     ]
    }
   ],
   "source": [
    "P_test = estimator(XX_test)"
   ]
  },
  {
   "cell_type": "code",
   "execution_count": 12,
   "metadata": {},
   "outputs": [],
   "source": [
    "res_zv_1 = []\n",
    "for i in range (XX_test.shape[0]):\n",
    "    res_zv_1.append(ZVnbrosse.ZVpolyOne(XX_test[i].reshape(-1,dim), GG_test[i].reshape(-1,dim), f_target))\n",
    "res_zv_1 = np.array(res_zv_1).reshape(-1)\n",
    "\n",
    "res_zv_2 = []\n",
    "for i in range (XX_test.shape[0]):\n",
    "    res_zv_2.append(ZVnbrosse.ZVpolyTwo(XX_test[i].reshape(-1,dim), GG_test[i].reshape(-1,dim), f_target))\n",
    "res_zv_2 = np.array(res_zv_2).reshape(-1)\n",
    "\n",
    "res_cv_1 = []\n",
    "for i in range (XX_test.shape[0]):\n",
    "    res_cv_1.append(ZVnbrosse.CVpolyOne(XX_test[i].reshape(-1,dim), GG_test[i].reshape(-1,dim), f_target))\n",
    "res_cv_1 = np.array(res_cv_1).reshape(-1)\n",
    "\n",
    "res_cv_2 = []\n",
    "for i in range (XX_test.shape[0]):\n",
    "    res_cv_2.append(ZVnbrosse.CVpolyTwo(XX_test[i].reshape(-1,dim), GG_test[i].reshape(-1,dim), f_target))\n",
    "res_cv_2 = np.array(res_cv_2).reshape(-1)"
   ]
  },
  {
   "cell_type": "code",
   "execution_count": 13,
   "metadata": {},
   "outputs": [],
   "source": [
    "def save_plot(M_test, n_tilde):\n",
    "    all_data = [P_test]\n",
    "    all_data.append(P_test - M_test.sum(axis = 0))\n",
    "    all_data.append(res_zv_1)\n",
    "    all_data.append(res_cv_1)\n",
    "        \n",
    "    plt.figure(figsize=(10,10))\n",
    "    plt.violinplot(all_data, showmeans=True, showmedians=False)\n",
    "    plt.xticks(np.arange(1,5), ('O', 'CV_B', 'ZV', 'CV'))\n",
    "    plt.tick_params(labelsize = 15)\n",
    "    plt.grid()\n",
    "    plt.savefig(\"Algo1_logs/GM_{}d_violin_(h = {}, n = {}, K = 1, n_tilde={}, f_target = {}).png\".format(dim, h, n, n_tilde,f_target))\n",
    "\n",
    "    all_data.append(res_zv_2)\n",
    "    all_data.append(res_cv_2)\n",
    "    plt.figure(figsize=(10,10))\n",
    "    plt.violinplot(all_data, showmeans=True, showmedians=False)\n",
    "    plt.xticks(np.arange(1,7), ('O', 'CV_B', 'ZV-1', 'CV-1', 'ZV-2', 'CV-2'))\n",
    "    plt.tick_params(labelsize = 15)\n",
    "    plt.grid()\n",
    "    plt.savefig(\"Algo1_logs/GM_{}d_violin_full_(h = {}, n = {}, K = 1, n_tilde={}, f_target = {}).png\".format(dim, h, n, n_tilde,f_target))"
   ]
  },
  {
   "cell_type": "code",
   "execution_count": 1,
   "metadata": {},
   "outputs": [],
   "source": [
    "for n_tilde in [50, 60, 70]:\n",
    "    M_test = np.empty((len(k_comb),P_test.shape[0]))\n",
    "    for i in range(len(k_comb)):\n",
    "        M_test[i] = Algo1.estimator_bias(k_comb[i], XX_test, GG_test, ZZ_test, h, degrees,Betas, n_tilde, n_jobs=3)\n",
    "    save_plot(M_test, n_tilde)\n",
    "    np.save(\"Algo1_logs/GM_{}d_M_test(h = {}, n = {}, K = 1, n_tilde={}, f_target = {}).npy\".\n",
    "            format(dim, h, n, n_tilde,f_target), M_test)\n",
    "    print(\"plots_saved for n_tilde = {}\".format(n_tilde))"
   ]
  },
  {
   "cell_type": "code",
   "execution_count": 4,
   "metadata": {},
   "outputs": [],
   "source": [
    "# plt.figure(figsize=(10,10))\n",
    "# plt.hist(P_test,15, facecolor='r', density=True, alpha=1, label=r\"$\\pi$\")\n",
    "\n",
    "# plt.hist((P_test-M_test.sum(axis=0)),15, density=True, facecolor='g', alpha=0.7, label=\"Distribution of $\\pi - M^2_N$\")\n",
    "\n",
    "# plt.hist(res_zv_1,15, facecolor='y', density=True, alpha=0.5, label=\"ZV 1\")\n",
    "# # plt.hist(res_zv_2,15, facecolor='b', density=True, alpha=0.5, label=\"ZV 2\")\n",
    "# plt.hist(res_cv_1,15, facecolor='pink', density=True, alpha=0.5, label=\"CV 1\")\n",
    "# # plt.hist(res_cv_2,15, facecolor='black', density=True, alpha=0.5, label=\"CV 2\")\n",
    "\n",
    "# plt.legend(loc=2, prop={'size': 17})\n",
    "# plt.grid(linestyle='-', linewidth=0.2, color='black')\n",
    "# plt.tick_params(axis='y',color = 'w', labelcolor = 'w', which='both')\n",
    "# plt.xlim(-0.65, 0.65)\n",
    "# plt.show()"
   ]
  },
  {
   "cell_type": "code",
   "execution_count": 34,
   "metadata": {},
   "outputs": [
    {
     "data": {
      "image/png": "[encoded data removed]",
      "text/plain": [
       "<matplotlib.figure.Figure at 0x7f79db385da0>"
      ]
     },
     "metadata": {},
     "output_type": "display_data"
    }
   ],
   "source": [
    "all_data = [P_test]\n",
    "all_data.append(P_test - M_test.sum(axis = 0))\n",
    "all_data.append(res_zv_1)\n",
    "# all_data.append(res_zv_2)\n",
    "all_data.append(res_cv_1)\n",
    "# all_data.append(res_cv_2)\n",
    "    \n",
    "plt.figure(figsize=(10,10))\n",
    "plt.violinplot(all_data, showmeans=True, showmedians=False)\n",
    "# plt.title('violin plot')\n",
    "plt.xticks(np.arange(1,5), ('pi', 'CV_B', 'ZV_1', 'CV_1'))\n",
    "plt.grid()\n",
    "plt.show()"
   ]
  },
  {
   "cell_type": "code",
   "execution_count": 26,
   "metadata": {},
   "outputs": [
    {
     "name": "stdout",
     "output_type": "stream",
     "text": [
      "          Variance of Pi =  0.3711099836815068\n",
      "Variance of new estimator = 0.31891832266754117\n",
      "Variance of new estimator = 0.33036527637028423\n",
      "Variance of new estimator = 0.2764876049484643\n",
      "Variance of new estimator = 0.22590539822325406\n",
      "Variance of new estimator = 0.15503941573185095\n",
      "Variance of new estimator = 0.09005029626510941\n",
      "Variance of new estimator = 0.0587670875020595\n",
      "Variance of new estimator = 0.0067224191730256766\n",
      "        Variance of CV 1 =  0.03805640101946027\n",
      "        Variance of CV 2 =  0.002472331194200221\n",
      "        Variance of ZV 1 =  0.001530551457672664\n",
      "        Variance of ZV 2 =  0.00229419458098056\n"
     ]
    }
   ],
   "source": [
    "print ('          Variance of Pi = ',P_test.var(ddof = 1))\n",
    "for i in range(len(k_comb)):\n",
    "    print ('Variance of new estimator =',(P_test-M_test[:i+1].sum(axis = 0)).var(ddof = 1))\n",
    "print ('        Variance of CV 1 = ',res_cv_1.var(ddof=1))\n",
    "print ('        Variance of CV 2 = ',res_cv_2.var(ddof=1))\n",
    "print ('        Variance of ZV 1 = ',res_zv_1.var(ddof=1))\n",
    "print ('        Variance of ZV 2 = ',res_zv_2.var(ddof=1))"
   ]
  },
  {
   "cell_type": "code",
   "execution_count": 32,
   "metadata": {},
   "outputs": [
    {
     "name": "stdout",
     "output_type": "stream",
     "text": [
      "VRF CVB =  55.20482643668215\n",
      "VRF CV1 =  9.751578545005831\n",
      "VRF CV2 =  150.10528708778352\n",
      "VRF ZV1 =  242.46815212982887\n",
      "VRF ZV2 =  161.76046563709124\n"
     ]
    }
   ],
   "source": [
    "print ('VRF CVB = ',P_test.var(ddof = 1)/ (P_test - M_test.sum(axis = 0)).var(ddof=1))\n",
    "print ('VRF CV1 = ',P_test.var(ddof = 1)/res_cv_1.var(ddof = 1))\n",
    "print ('VRF CV2 = ',P_test.var(ddof = 1)/res_cv_2.var(ddof = 1))\n",
    "print ('VRF ZV1 = ',P_test.var(ddof = 1)/res_zv_1.var(ddof = 1))\n",
    "print ('VRF ZV2 = ',P_test.var(ddof = 1)/res_zv_2.var(ddof = 1))"
   ]
  }
 ],
 "metadata": {
  "kernelspec": {
   "display_name": "Python 3",
   "language": "python",
   "name": "python3"
  },
  "language_info": {
   "codemirror_mode": {
    "name": "ipython",
    "version": 3
   },
   "file_extension": ".py",
   "mimetype": "text/x-python",
   "name": "python",
   "nbconvert_exporter": "python",
   "pygments_lexer": "ipython3",
   "version": "3.7.3"
  }
 },
 "nbformat": 4,
 "nbformat_minor": 2
}
