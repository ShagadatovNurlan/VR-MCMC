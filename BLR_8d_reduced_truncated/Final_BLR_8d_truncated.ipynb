{
 "cells": [
  {
   "cell_type": "markdown",
   "metadata": {},
   "source": [
    "### Binary Logistic Regression (dim = 8)\n",
    "\n",
    "N = 1000\n",
    "\n",
    "N_train = 50\n",
    "\n",
    "N_test = 100\n",
    "\n",
    "polynomials_max_deg = 1\n",
    "\n",
    "$\\tilde{n} = 100$\n",
    "\n",
    "$f(\\theta) = \\sum_{i = 1}^d \\theta_i$\n",
    "\n",
    "$K=1$"
   ]
  },
  {
   "cell_type": "code",
   "execution_count": 1,
   "metadata": {
    "collapsed": true
   },
   "outputs": [],
   "source": [
    "import numpy as np\n",
    "import scipy \n",
    "from scipy.stats import bernoulli\n",
    "from scipy.stats import multivariate_normal\n",
    "from scipy.misc import comb\n",
    "from matplotlib import pyplot as plt\n",
    "from scipy.special import hermitenorm\n",
    "from tqdm import tqdm\n",
    "from numpy.polynomial.hermite_e import HermiteE\n",
    "import matplotlib.mlab as mlab\n",
    "%matplotlib inline\n",
    "from joblib import Parallel, delayed\n",
    "from scipy.optimize import minimize\n",
    "from itertools import product\n",
    "import sys\n",
    "import warnings\n",
    "from sklearn import linear_model\n",
    "import math\n",
    "if not sys.warnoptions:\n",
    "    warnings.simplefilter(\"ignore\")\n",
    "from numpy.random import normal  \n",
    "import timeit"
   ]
  },
  {
   "cell_type": "markdown",
   "metadata": {},
   "source": [
    "## BLR data generation"
   ]
  },
  {
   "cell_type": "code",
   "execution_count": 6,
   "metadata": {
    "collapsed": true
   },
   "outputs": [],
   "source": [
    "d = 8\n",
    "def r(theta, x):\n",
    "    return np.exp(theta.T @ x)/(1+np.exp(theta.T @ x))\n",
    "def generate_data(p, n):\n",
    "    X = np.empty((n,p))\n",
    "    Y = np.empty(n)\n",
    "    for i in range(n):\n",
    "        prob = multivariate_normal.rvs(0,1,p)\n",
    "        X[i, prob < 0] = -1\n",
    "        X[i, prob >= 0] = +1\n",
    "        X[i] = X[i]/np.linalg.norm(X[i])\n",
    "        Y[i] = bernoulli.rvs(r(np.ones(p),X[i].reshape(p,1)))\n",
    "    return X,Y.reshape((n,1))"
   ]
  },
  {
   "cell_type": "code",
   "execution_count": 7,
   "metadata": {
    "collapsed": true
   },
   "outputs": [],
   "source": [
    "np.random.seed(55)\n",
    "X_reg, Y_reg = generate_data(d,100)"
   ]
  },
  {
   "cell_type": "code",
   "execution_count": 8,
   "metadata": {
    "collapsed": true
   },
   "outputs": [],
   "source": [
    "def sigma(X):\n",
    "    n = X.shape[0]\n",
    "    p = X.shape[1]\n",
    "    S = np.zeros((p,p))\n",
    "    for i in range(n):\n",
    "        S = S + X[i].reshape((p,1)) @ X[i].reshape(1,p)\n",
    "    return S \n",
    "    \n",
    "def f_grad(theta, X, Y, Sigma):\n",
    "    n = X.shape[0]\n",
    "    p = X.shape[1]\n",
    "    lambda_c = 3*p / np.pi**2\n",
    "    LOG = np.zeros((p,1))\n",
    "    for i in range(n):\n",
    "        LOG = LOG + X[i].reshape((p,1)) / (1+np.exp(theta.T @ X[i].reshape((p,1))))\n",
    "    F = X.T @ Y - LOG + lambda_c * Sigma @ theta\n",
    "    return F\n",
    "\n",
    "def MLE(X,Y,Sigma):\n",
    "    n = X.shape[0]\n",
    "    p = X.shape[1]\n",
    "    lambda_c = 3*p / np.pi**2\n",
    "    eps = 1e-6\n",
    "    mu = np.max(np.linalg.eigvals(Sigma))\n",
    "    M = (lambda_c + 0.25*n) * mu\n",
    "    theta_k =[]\n",
    "    theta_k.append(np.ones((p,1)))\n",
    "    theta_k.append(theta_k[0] - 1/(2*M) * f_grad(theta_k[0],X,Y,Sigma))\n",
    "    i = 2\n",
    "    while(np.linalg.norm(theta_k[i-1] - theta_k[i-2])**2 > eps**2):\n",
    "        theta_k.append(theta_k[i-1] - 1/(2*M) * f_grad(theta_k[i-1],X,Y,Sigma))\n",
    "        i = i+1\n",
    "    return theta_k[-1]    "
   ]
  },
  {
   "cell_type": "markdown",
   "metadata": {},
   "source": [
    "## MLE estimator of parameter vector"
   ]
  },
  {
   "cell_type": "code",
   "execution_count": 9,
   "metadata": {},
   "outputs": [
    {
     "data": {
      "text/plain": [
       "array([[-0.07992548],\n",
       "       [-0.04057937],\n",
       "       [-0.12193687],\n",
       "       [-0.09644522],\n",
       "       [-0.09996443],\n",
       "       [-0.15080062],\n",
       "       [-0.15221555],\n",
       "       [ 0.06542268]])"
      ]
     },
     "execution_count": 9,
     "metadata": {},
     "output_type": "execute_result"
    }
   ],
   "source": [
    "Sigma = sigma(X_reg)\n",
    "MLE(X_reg,Y_reg,Sigma)"
   ]
  },
  {
   "cell_type": "markdown",
   "metadata": {},
   "source": [
    "### Parameters inicialization, ULA algorithm"
   ]
  },
  {
   "cell_type": "code",
   "execution_count": 10,
   "metadata": {
    "collapsed": true
   },
   "outputs": [],
   "source": [
    "def lmc_regression_without_precond(X,Y,Sigma, N):\n",
    "    n = X.shape[0]\n",
    "    p = X.shape[1]   \n",
    "    h = 0.01\n",
    "    K = 10000\n",
    "    #-----------------------------------------------------\n",
    "    vkh = np.empty((K + N,p,1), dtype=np.float64)\n",
    "    ksi = multivariate_normal.rvs(np.zeros(p), np.eye(p),K+N).reshape(K+N, p,1)\n",
    "    vkh[0] = (np.random.normal(0,1,p)).reshape(p,1)\n",
    "    for i in range(1,K+N):\n",
    "        grad = f_grad(vkh[i-1], X,Y,Sigma)\n",
    "        vkh[i] = vkh[i-1] - h*grad + np.sqrt(2*h) * ksi[i]\n",
    "    return vkh, ksi"
   ]
  },
  {
   "cell_type": "markdown",
   "metadata": {},
   "source": [
    "### Sample generation"
   ]
  },
  {
   "cell_type": "code",
   "execution_count": 49,
   "metadata": {
    "collapsed": true
   },
   "outputs": [],
   "source": [
    "np.random.seed(42)\n",
    "X, Z = lmc_regression_without_precond(X_reg,Y_reg,Sigma, 50000)"
   ]
  },
  {
   "cell_type": "code",
   "execution_count": 50,
   "metadata": {},
   "outputs": [
    {
     "data": {
      "image/png": "[encoded data removed]",
      "text/plain": [
       "<matplotlib.figure.Figure at 0x7f9e5387fbe0>"
      ]
     },
     "metadata": {},
     "output_type": "display_data"
    }
   ],
   "source": [
    "plt.figure(figsize=(10,10))\n",
    "n, bins, patches = plt.hist(X[:,0].reshape(-1,1), 45, density=True, facecolor='g', alpha=0.75)\n",
    "plt.show()"
   ]
  },
  {
   "cell_type": "code",
   "execution_count": 51,
   "metadata": {},
   "outputs": [
    {
     "data": {
      "image/png": "[encoded data removed]",
      "text/plain": [
       "<matplotlib.figure.Figure at 0x7f9e600ec710>"
      ]
     },
     "metadata": {},
     "output_type": "display_data"
    }
   ],
   "source": [
    "plt.figure(figsize=(10,10))\n",
    "n, bins, patches = plt.hist(X[:,1].reshape(-1,1), 45, density=True, facecolor='g', alpha=0.75)\n",
    "plt.show()"
   ]
  },
  {
   "cell_type": "markdown",
   "metadata": {},
   "source": [
    "### Ordinary weighted estimator"
   ]
  },
  {
   "cell_type": "code",
   "execution_count": 52,
   "metadata": {
    "collapsed": true
   },
   "outputs": [],
   "source": [
    "def local_weighted_estimator(X):\n",
    "    return X.sum(axis = 1).mean()"
   ]
  },
  {
   "cell_type": "code",
   "execution_count": 53,
   "metadata": {},
   "outputs": [
    {
     "name": "stdout",
     "output_type": "stream",
     "text": [
      "Weighted estimator =  -0.682621857294\n"
     ]
    }
   ],
   "source": [
    "print (\"Weighted estimator = \",local_weighted_estimator(X))"
   ]
  },
  {
   "cell_type": "markdown",
   "metadata": {},
   "source": [
    "### Generation of N_train independent paths"
   ]
  },
  {
   "cell_type": "code",
   "execution_count": 54,
   "metadata": {
    "collapsed": true
   },
   "outputs": [],
   "source": [
    "def generate_lmc_from_initial(x_initial,Sigma,N):\n",
    "    h = 0.01\n",
    "    vkh = np.empty((N,d,1))\n",
    "    ksi = np.random.randn(N,d,1)\n",
    "    vkh[0] = x_initial\n",
    "    for i in range(1,N):\n",
    "        grad = f_grad(vkh[i-1], X_reg,Y_reg,Sigma)\n",
    "        vkh[i] = vkh[i-1] - h*grad + np.sqrt(2*h) * ksi[i]\n",
    "    return vkh, ksi\n",
    "\n",
    "def generate_paths(x_initial,N_train,Sigma,N):\n",
    "    XX = []\n",
    "    ZZ = []\n",
    "    for i in range(N_train):\n",
    "        X, Z = generate_lmc_from_initial(x_initial[-i],Sigma,N)\n",
    "        XX.append(X)\n",
    "        ZZ.append(Z)\n",
    "    return np.array(XX),np.array(ZZ)"
   ]
  },
  {
   "cell_type": "code",
   "execution_count": 55,
   "metadata": {
    "collapsed": true
   },
   "outputs": [],
   "source": [
    "np.random.seed(123)\n",
    "XX, ZZ = generate_paths(X,50,Sigma,1000)"
   ]
  },
  {
   "cell_type": "code",
   "execution_count": 57,
   "metadata": {
    "collapsed": true
   },
   "outputs": [],
   "source": [
    "np.random.seed(42)\n",
    "X_validate, Z_validate = generate_lmc_from_initial(X[-5000],Sigma,1000)"
   ]
  },
  {
   "cell_type": "markdown",
   "metadata": {},
   "source": [
    "### (normalized) Hermite polynomials"
   ]
  },
  {
   "cell_type": "code",
   "execution_count": 58,
   "metadata": {
    "collapsed": true
   },
   "outputs": [],
   "source": [
    "def H(k, x):\n",
    "    h = hermitenorm(k)(x) /  np.sqrt(math.factorial(k))\n",
    "    return h\n",
    "def Hermite_val(k_vec,x_vec):\n",
    "    P = 1.0\n",
    "    d = x_vec.shape[0]\n",
    "    for i in range(d):\n",
    "        P = P * H(k_vec[i],x_vec[i])\n",
    "    return P\n",
    "\n",
    "k_comb = [[1,0,0,0,0,0,0,0],[0,1,0,0,0,0,0,0],[0,0,1,0,0,0,0,0],[0,0,0,1,0,0,0,0],\n",
    "                    [0,0,0,0,1,0,0,0],[0,0,0,0,0,1,0,0],[0,0,0,0,0,0,1,0],[0,0,0,0,0,0,0,1]]"
   ]
  },
  {
   "cell_type": "markdown",
   "metadata": {},
   "source": [
    "### Fitting linear regression for $Q_{p,l}(x) = \\mathbb{E} \\left[f(X_p) | X_l = x\\right]$"
   ]
  },
  {
   "cell_type": "code",
   "execution_count": 39,
   "metadata": {
    "collapsed": true
   },
   "outputs": [],
   "source": [
    "def pol_ar_1d(x): #x.shape = (8,1)\n",
    "    return np.array([1,x[0],x[1],x[2],x[3],x[4],x[5],x[6],x[7]])\n",
    "\n",
    "def generate_X_reduced(XX, r):\n",
    "    N_train = XX.shape[0]\n",
    "    N = XX.shape[1]\n",
    "    X = np.empty((N_train * (N-r) ,9))\n",
    "    all_points = XX[:, :N-r].reshape(-1,d)\n",
    "    X[:,0] = np.ones(N_train * (N-r))\n",
    "    X[:,1] = all_points[:,0].squeeze()\n",
    "    X[:,2] = all_points[:,1].squeeze()\n",
    "    X[:,3] = all_points[:,2].squeeze()\n",
    "    X[:,4] = all_points[:,3].squeeze()\n",
    "    X[:,5] = all_points[:,4].squeeze()\n",
    "    X[:,6] = all_points[:,5].squeeze()\n",
    "    X[:,7] = all_points[:,6].squeeze()\n",
    "    X[:,8] = all_points[:,7].squeeze()\n",
    "    return X \n",
    "\n",
    "\n",
    "def generate_y_reduced(XX,r):\n",
    "    N_train = XX.shape[0]\n",
    "    N = XX.shape[1]\n",
    "    y = np.zeros(N_train * (N-r))\n",
    "    y = XX[:, r:].sum(axis = 2).reshape(-1)\n",
    "    return y\n",
    "\n",
    "def G_pml_fit(XX):\n",
    "    N_train = XX.shape[0]\n",
    "    N = XX.shape[1]\n",
    "    Betas = np.zeros((N,9))\n",
    "    for r in tqdm(range(N)):\n",
    "        X = generate_X_reduced(XX,r)\n",
    "        y = generate_y_reduced(XX,r)\n",
    "        beta = np.linalg.inv(X.T @ X) @ X.T @ y\n",
    "        Betas[r] = beta\n",
    "    return Betas\n",
    "\n",
    "def G_pml_predict(x,pml,Betas):\n",
    "    x_pol = pol_ar_1d(x)\n",
    "    beta = Betas[pml]\n",
    "    return (x_pol @ beta)"
   ]
  },
  {
   "cell_type": "code",
   "execution_count": 40,
   "metadata": {},
   "outputs": [
    {
     "name": "stderr",
     "output_type": "stream",
     "text": [
      "100%|██████████| 1000/1000 [00:03<00:00, 275.09it/s]\n"
     ]
    }
   ],
   "source": [
    "Betas = G_pml_fit(XX)"
   ]
  },
  {
   "cell_type": "code",
   "execution_count": 41,
   "metadata": {
    "collapsed": true
   },
   "outputs": [],
   "source": [
    "np.save('BLR_XX.npy',XX)\n",
    "np.save('BLR_ZZ.npy',ZZ)\n",
    "np.save('BLR_Betas.npy',Betas)"
   ]
  },
  {
   "cell_type": "code",
   "execution_count": 42,
   "metadata": {
    "collapsed": true
   },
   "outputs": [],
   "source": [
    "Betas = np.load('BLR_Betas.npy')\n",
    "XX = np.load('BLR_XX.npy')\n",
    "ZZ = np.load('BLR_ZZ.npy')"
   ]
  },
  {
   "cell_type": "code",
   "execution_count": 59,
   "metadata": {
    "collapsed": true
   },
   "outputs": [],
   "source": [
    "degrees = np.array([[0,0,0,0,0,0,0,0],[1,0,0,0,0,0,0,0],[0,1,0,0,0,0,0,0],[0,0,1,0,0,0,0,0],[0,0,0,1,0,0,0,0],\n",
    "                    [0,0,0,0,1,0,0,0],[0,0,0,0,0,1,0,0],[0,0,0,0,0,0,1,0],[0,0,0,0,0,0,0,1]])"
   ]
  },
  {
   "cell_type": "code",
   "execution_count": 70,
   "metadata": {
    "collapsed": true
   },
   "outputs": [],
   "source": [
    "def a_plk(X,p,l,k_vec):\n",
    "    h = 0.01\n",
    "    S = 0\n",
    "    x_hat = X[l-1] - h*f_grad(X[l-1],X_reg,Y_reg,Sigma)\n",
    "    Small_s = np.zeros(8)\n",
    "    for ind,deg in enumerate(degrees):\n",
    "        Small_s[:] = 0\n",
    "        for d, i in enumerate(deg):\n",
    "            for t in range (i+1):\n",
    "                for s in range (int(t/2 +1)):\n",
    "                    if (k_vec[d] == t - 2*s):\n",
    "                        Small_s[d] = Small_s[d] + comb(N=i, k = t, exact = True) * x_hat[0]**(i-t) * \\\n",
    "                        math.factorial(t)*1/math.factorial(s)*1 / np.sqrt(math.factorial(t-2*s)) *np.sqrt(2*h)**t /2**s\n",
    "                    else:\n",
    "                        pass\n",
    "        S = S + Betas[p-l,ind] * Small_s.prod()\n",
    "    return S"
   ]
  },
  {
   "cell_type": "code",
   "execution_count": 71,
   "metadata": {
    "collapsed": true
   },
   "outputs": [],
   "source": [
    "def estimator(XX):\n",
    "    Pi = np.empty(XX.shape[0])\n",
    "    for i in tqdm(range(XX.shape[0])):\n",
    "        Pi[i] = local_weighted_estimator(XX[i])\n",
    "    return Pi\n",
    "\n",
    "def M_bias(k_vec,X,Z,Betas_reduced,i):\n",
    "    N = X.shape[0]\n",
    "    S = 0\n",
    "    for p in range(N):\n",
    "        for l in range (p+1):\n",
    "            if (p-l<100):\n",
    "                s = a_plk(X,p,l,k_vec)* Hermite_val(k_vec,Z[l])\n",
    "                S = S + s\n",
    "    return S/N\n",
    "\n",
    "def estimator_bias(k,XX,ZZ,Betas,first, last):\n",
    "    M_results = Parallel(n_jobs=-1)(delayed(M_bias)(k,XX[i],ZZ[i],Betas,i)for i in range(first, last))\n",
    "    return np.array(M_results).reshape(-1)"
   ]
  },
  {
   "cell_type": "code",
   "execution_count": 72,
   "metadata": {},
   "outputs": [
    {
     "name": "stdout",
     "output_type": "stream",
     "text": [
      "P = -0.664417865431\n",
      "M ([1, 0, 0, 0, 0, 0, 0, 0]) = [ 0.01025804] [Time:271.3939569690265]\n",
      "M ([0, 1, 0, 0, 0, 0, 0, 0]) = [ 0.01300883] [Time:543.3090451799799]\n",
      "M ([0, 0, 1, 0, 0, 0, 0, 0]) = [ 0.02379015] [Time:815.8226909210207]\n",
      "M ([0, 0, 0, 1, 0, 0, 0, 0]) = [-0.02229531] [Time:1088.8282512089936]\n",
      "M ([0, 0, 0, 0, 1, 0, 0, 0]) = [-0.01523163] [Time:1361.192909872043]\n",
      "M ([0, 0, 0, 0, 0, 1, 0, 0]) = [ 0.01430963] [Time:1631.4895594669506]\n",
      "M ([0, 0, 0, 0, 0, 0, 1, 0]) = [-0.00264024] [Time:1902.1201537919696]\n",
      "M ([0, 0, 0, 0, 0, 0, 0, 1]) = [-0.00769495] [Time:2173.5519245290197]\n"
     ]
    }
   ],
   "source": [
    "X = XX[8]\n",
    "Z = ZZ[8]\n",
    "time_1 = timeit.default_timer()\n",
    "print (\"P =\",local_weighted_estimator(X))\n",
    "for i in range(len(k_comb)):\n",
    "    print (\"M ({}) = {} [Time:{}]\".format(k_comb[i],M_bias(k_comb[i],X,Z,Betas,i),timeit.default_timer()-time_1))"
   ]
  },
  {
   "cell_type": "markdown",
   "metadata": {},
   "source": [
    "### Check on test"
   ]
  },
  {
   "cell_type": "code",
   "execution_count": 77,
   "metadata": {},
   "outputs": [
    {
     "name": "stderr",
     "output_type": "stream",
     "text": [
      "100%|██████████| 100/100 [00:00<00:00, 22558.51it/s]\n"
     ]
    }
   ],
   "source": [
    "np.random.seed(9651)\n",
    "X, Z = lmc_regression_without_precond(X_reg,Y_reg,Sigma, 50000)\n",
    "\n",
    "XX_test, ZZ_test =  generate_paths(X,100,Sigma,1000)\n",
    "\n",
    "P_test = estimator(XX_test)\n",
    "\n",
    "np.save('BLR_XX_test', XX_test)\n",
    "np.save('BLR_ZZ_test', ZZ_test)\n",
    "# XX_test = np.load('BLR_XX_test.npy')\n",
    "# ZZ_test = np.load('BLR_ZZ_test.npy')"
   ]
  },
  {
   "cell_type": "code",
   "execution_count": 78,
   "metadata": {
    "collapsed": true
   },
   "outputs": [],
   "source": [
    "# XX_test = np.load('BLR_XX_test.npy')\n",
    "# ZZ_test = np.load('BLR_ZZ_test.npy')\n",
    "# P_test = estimator(XX_test)"
   ]
  },
  {
   "cell_type": "code",
   "execution_count": 79,
   "metadata": {},
   "outputs": [
    {
     "data": {
      "text/plain": [
       "(100, 1000, 8, 1)"
      ]
     },
     "execution_count": 79,
     "metadata": {},
     "output_type": "execute_result"
    }
   ],
   "source": [
    "XX_test.shape"
   ]
  },
  {
   "cell_type": "code",
   "execution_count": 82,
   "metadata": {},
   "outputs": [
    {
     "name": "stdout",
     "output_type": "stream",
     "text": [
      "0.00143547333735\n"
     ]
    }
   ],
   "source": [
    "print (P_test.var(dtype=np.float64,ddof=1))"
   ]
  },
  {
   "cell_type": "code",
   "execution_count": 85,
   "metadata": {},
   "outputs": [
    {
     "data": {
      "text/plain": [
       "[[1, 0, 0, 0, 0, 0, 0, 0],\n",
       " [0, 1, 0, 0, 0, 0, 0, 0],\n",
       " [0, 0, 1, 0, 0, 0, 0, 0],\n",
       " [0, 0, 0, 1, 0, 0, 0, 0],\n",
       " [0, 0, 0, 0, 1, 0, 0, 0],\n",
       " [0, 0, 0, 0, 0, 1, 0, 0],\n",
       " [0, 0, 0, 0, 0, 0, 1, 0],\n",
       " [0, 0, 0, 0, 0, 0, 0, 1]]"
      ]
     },
     "execution_count": 85,
     "metadata": {},
     "output_type": "execute_result"
    }
   ],
   "source": [
    "k_comb"
   ]
  },
  {
   "cell_type": "code",
   "execution_count": null,
   "metadata": {
    "collapsed": true
   },
   "outputs": [],
   "source": [
    "M_1 = estimator_bias(k_comb[0],XX_test,ZZ_test,Betas, 0, 100)\n",
    "np.save('BLR(8d)_M_results_test_1.npy',M_1)\n",
    "\n",
    "M_2 = estimator_bias(k_comb[1],XX_test,ZZ_test,Betas, 0, 100)\n",
    "np.save('BLR(8d)_M_results_test_2.npy',M_2)\n",
    "\n",
    "M_3 = estimator_bias(k_comb[2],XX_test,ZZ_test,Betas, 0, 100)\n",
    "np.save('BLR(8d)_M_results_test_3.npy',M_3)\n",
    "\n",
    "M_4 = estimator_bias(k_comb[3],XX_test,ZZ_test,Betas, 0, 100)\n",
    "np.save('BLR(8d)_M_results_test_4.npy',M_4)\n",
    "\n",
    "M_5 = estimator_bias(k_comb[4],XX_test,ZZ_test,Betas, 0, 100)\n",
    "np.save('BLR(8d)_M_results_test_5.npy',M_5)\n",
    "\n",
    "M_6 = estimator_bias(k_comb[5],XX_test,ZZ_test,Betas, 0, 100)\n",
    "np.save('BLR(8d)_M_results_test_6.npy',M_6)\n",
    "\n",
    "M_7 = estimator_bias(k_comb[6],XX_test,ZZ_test,Betas, 0, 100)\n",
    "np.save('BLR(8d)_M_results_test_7.npy',M_7)\n",
    "\n",
    "M_8 = estimator_bias(k_comb[7],XX_test,ZZ_test,Betas, 0, 100)\n",
    "np.save('BLR(8d)_M_results_test_8.npy',M_8)"
   ]
  },
  {
   "cell_type": "code",
   "execution_count": null,
   "metadata": {
    "collapsed": true
   },
   "outputs": [],
   "source": [
    "plt.figure(figsize=(10,10))\n",
    "n, bins, patches = plt.hist(P_test.reshape(-1,1),15,facecolor='r', density=True,\n",
    "                            alpha=1, label=r\"$\\pi$\")\n",
    "\n",
    "n, bins, patches = plt.hist((P_test-M_1 - M_2 -M_3 -M_4-M_5 -M_6 -M_7).reshape(-1,1),15, density=True, facecolor='g', \n",
    "                            alpha=0.7, label=\"Distribution of $\\pi - M^1_N$\")\n",
    "\n",
    "#plt.legend(loc=2, prop={'size': 17})\n",
    "plt.grid(which='major', axis='x', linewidth=0.45, linestyle='-', color='0.75')\n",
    "plt.grid(which='major', axis='y', linewidth=0.45, linestyle='-', color='0.75')\n",
    "\n",
    "plt.tick_params(\n",
    "    axis='y',\n",
    "    color = 'w',\n",
    "    labelcolor = 'w',\n",
    "    which='both')\n",
    "# plt.xlim(-0.5, 0.5)\n",
    "plt.show()"
   ]
  },
  {
   "cell_type": "code",
   "execution_count": 87,
   "metadata": {},
   "outputs": [
    {
     "name": "stdout",
     "output_type": "stream",
     "text": [
      "Variance of Pi =  0.00143547333735\n",
      "-----------------------------------------------------\n",
      "Variance of new estimator (K=1)=  0.00121349772834\n",
      "=====================================================\n",
      "Variance of new estimator (K=1)=  0.000986748516435\n",
      "=====================================================\n",
      "Variance of new estimator (K=1)=  0.00082749406067\n",
      "=====================================================\n",
      "Variance of new estimator (K=1)=  0.000606067208174\n",
      "=====================================================\n",
      "Variance of new estimator (K=1)=  0.000492185047122\n",
      "=====================================================\n",
      "Variance of new estimator (K=1)=  0.000311471991324\n",
      "=====================================================\n",
      "Variance of new estimator (K=1)=  0.000176448552711\n",
      "=====================================================\n",
      "Variance of new estimator (K=1)=  3.71237399802e-05\n",
      "=====================================================\n"
     ]
    }
   ],
   "source": [
    "print ('Variance of Pi = ',P_test.var(ddof = 1))\n",
    "print ('-----------------------------------------------------')\n",
    "print ('Variance of new estimator (K=1)= ',(P_test-M_1).var(ddof = 1))\n",
    "print (\"=====================================================\")\n",
    "print ('Variance of new estimator (K=1)= ',(P_test-M_1 - M_2).var(ddof = 1))\n",
    "print (\"=====================================================\")\n",
    "print ('Variance of new estimator (K=1)= ',(P_test-M_1 - M_2-M_3).var(ddof = 1))\n",
    "print (\"=====================================================\")\n",
    "print ('Variance of new estimator (K=1)= ',(P_test-M_1 - M_2-M_3 - M_4).var(ddof = 1))\n",
    "print (\"=====================================================\")\n",
    "print ('Variance of new estimator (K=1)= ',(P_test-M_1 - M_2-M_3-M_4 - M_5).var(ddof = 1))\n",
    "print (\"=====================================================\")\n",
    "print ('Variance of new estimator (K=1)= ',(P_test-M_1 - M_2-M_3 - M_4 - M_5 -M_6).var(ddof = 1))\n",
    "print (\"=====================================================\")\n",
    "print ('Variance of new estimator (K=1)= ',(P_test-M_1 - M_2-M_3- M_4 - M_5 -M_6-M_7).var(ddof = 1))\n",
    "print (\"=====================================================\")\n",
    "print ('Variance of new estimator (K=1)= ',(P_test-M_1 - M_2-M_3- M_4 - M_5 -M_6-M_7 - M_8).var(ddof = 1))\n",
    "print (\"=====================================================\")"
   ]
  },
  {
   "cell_type": "code",
   "execution_count": null,
   "metadata": {
    "collapsed": true
   },
   "outputs": [],
   "source": [
    "np.random.seed(9651)\n",
    "X, Z = lmc_regression_without_precond(X_reg,Y_reg,Sigma, 50000)\n",
    "\n",
    "XX_test_big, ZZ_test_big =  generate_paths(X,100,Sigma,1000000)\n",
    "\n",
    "P_test_big = estimator(XX_test_big)\n",
    "\n",
    "np.save('BLR_XX_test_big', XX_test_big)\n",
    "np.save('BLR_ZZ_test_big', ZZ_test_big)"
   ]
  },
  {
   "cell_type": "code",
   "execution_count": 88,
   "metadata": {},
   "outputs": [
    {
     "data": {
      "image/png": "[encoded data removed]",
      "text/plain": [
       "<matplotlib.figure.Figure at 0x7f9e53fd3240>"
      ]
     },
     "metadata": {},
     "output_type": "display_data"
    }
   ],
   "source": [
    "plt.figure(figsize=(10,10))\n",
    "\n",
    "# generate some random test data\n",
    "all_data = [P_test, P_test - M_1,P_test - M_1 -M_3,P_test - M_1 - M_3 - M_4 , \n",
    "           P_test - M_1 - M_2 -M_3 -M_4, P_test - M_1 - M_2 -M_3 -M_4 -M_5, P_test - M_1 - M_2 -M_3 -M_4 -M_5 -M_6,\n",
    "           P_test - M_1 - M_2 -M_3 -M_4 -M_5 -M_6 -M_7, P_test - M_1 - M_2 -M_3 -M_4 -M_5 -M_6 - M_7 - M_8]\n",
    "\n",
    "# plot violin plot\n",
    "plt.boxplot(all_data)\n",
    "plt.title('violin plot')\n",
    "\n",
    "plt.show()"
   ]
  }
 ],
 "metadata": {
  "kernelspec": {
   "display_name": "Python 3",
   "language": "python",
   "name": "python3"
  },
  "language_info": {
   "codemirror_mode": {
    "name": "ipython",
    "version": 3
   },
   "file_extension": ".py",
   "mimetype": "text/x-python",
   "name": "python",
   "nbconvert_exporter": "python",
   "pygments_lexer": "ipython3",
   "version": "3.6.3"
  }
 },
 "nbformat": 4,
 "nbformat_minor": 2
}
