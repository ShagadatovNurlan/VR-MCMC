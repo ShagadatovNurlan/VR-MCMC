{
 "cells": [
  {
   "cell_type": "markdown",
   "metadata": {},
   "source": [
    "### Binary Logistic Regression (dim = 2)\n",
    "\n",
    "N = 1000\n",
    "\n",
    "N_train = 500\n",
    "\n",
    "N_test = 200\n",
    "\n",
    "polynomials_max_deg = 3\n",
    "\n",
    "$f(\\theta) = \\theta_1 + \\theta_2 $\n",
    "\n",
    "$K=2$"
   ]
  },
  {
   "cell_type": "code",
   "execution_count": 97,
   "metadata": {
    "collapsed": true
   },
   "outputs": [],
   "source": [
    "import numpy as np\n",
    "import scipy \n",
    "from scipy.stats import bernoulli\n",
    "from scipy.stats import multivariate_normal\n",
    "from scipy.misc import comb\n",
    "from matplotlib import pyplot as plt\n",
    "from scipy.special import hermitenorm\n",
    "from tqdm import tqdm\n",
    "from numpy.polynomial.hermite_e import HermiteE\n",
    "import matplotlib.mlab as mlab\n",
    "%matplotlib inline\n",
    "from joblib import Parallel, delayed\n",
    "from scipy.optimize import minimize\n",
    "from itertools import product\n",
    "import sys\n",
    "import warnings\n",
    "from sklearn import linear_model\n",
    "import math\n",
    "if not sys.warnoptions:\n",
    "    warnings.simplefilter(\"ignore\")\n",
    "from numpy.random import normal  \n",
    "import timeit"
   ]
  },
  {
   "cell_type": "markdown",
   "metadata": {},
   "source": [
    "## BLR data generation"
   ]
  },
  {
   "cell_type": "code",
   "execution_count": 98,
   "metadata": {
    "collapsed": true
   },
   "outputs": [],
   "source": [
    "d = 2\n",
    "def r(theta, x):\n",
    "    return np.exp(theta.T @ x)/(1+np.exp(theta.T @ x))\n",
    "def generate_data(p, n):\n",
    "    X = np.empty((n,p))\n",
    "    Y = np.empty(n)\n",
    "    for i in range(n):\n",
    "        prob = multivariate_normal.rvs(0,1,p)\n",
    "        X[i, prob < 0] = -1\n",
    "        X[i, prob >= 0] = +1\n",
    "        X[i] = X[i]/np.linalg.norm(X[i])\n",
    "        Y[i] = bernoulli.rvs(r(np.ones(p),X[i].reshape(p,1)))\n",
    "    return X,Y.reshape((n,1))"
   ]
  },
  {
   "cell_type": "code",
   "execution_count": 99,
   "metadata": {
    "collapsed": true
   },
   "outputs": [],
   "source": [
    "np.random.seed(55)\n",
    "X_reg, Y_reg = generate_data(2,100)"
   ]
  },
  {
   "cell_type": "code",
   "execution_count": 100,
   "metadata": {
    "collapsed": true
   },
   "outputs": [],
   "source": [
    "def sigma(X):\n",
    "    n = X.shape[0]\n",
    "    p = X.shape[1]\n",
    "    S = np.zeros((p,p))\n",
    "    for i in range(n):\n",
    "        S = S + X[i].reshape((p,1)) @ X[i].reshape(1,p)\n",
    "    return S \n",
    "    \n",
    "def f_grad(theta, X, Y, Sigma):\n",
    "    n = X.shape[0]\n",
    "    p = X.shape[1]\n",
    "    lambda_c = 3*p / np.pi**2\n",
    "    LOG = np.zeros((p,1))\n",
    "    for i in range(n):\n",
    "        LOG = LOG + X[i].reshape((p,1)) / (1+np.exp(theta.T @ X[i].reshape((p,1))))\n",
    "    F = X.T @ Y - LOG + lambda_c * Sigma @ theta\n",
    "    return F\n",
    "\n",
    "def MLE(X,Y,Sigma):\n",
    "    n = X.shape[0]\n",
    "    p = X.shape[1]\n",
    "    lambda_c = 3*p / np.pi**2\n",
    "    eps = 1e-6\n",
    "    mu = np.max(np.linalg.eigvals(Sigma))\n",
    "    M = (lambda_c + 0.25*n) * mu\n",
    "    theta_k =[]\n",
    "    theta_k.append(np.ones((p,1)))\n",
    "    theta_k.append(theta_k[0] - 1/(2*M) * f_grad(theta_k[0],X,Y,Sigma))\n",
    "    i = 2\n",
    "    while(np.linalg.norm(theta_k[i-1] - theta_k[i-2])**2 > eps**2):\n",
    "        theta_k.append(theta_k[i-1] - 1/(2*M) * f_grad(theta_k[i-1],X,Y,Sigma))\n",
    "        i = i+1\n",
    "    return theta_k[-1]    "
   ]
  },
  {
   "cell_type": "markdown",
   "metadata": {},
   "source": [
    "## MLE estimator of parameter vector"
   ]
  },
  {
   "cell_type": "code",
   "execution_count": 101,
   "metadata": {},
   "outputs": [
    {
     "data": {
      "text/plain": [
       "array([[-0.25514325],\n",
       "       [-0.33595237]])"
      ]
     },
     "execution_count": 101,
     "metadata": {},
     "output_type": "execute_result"
    }
   ],
   "source": [
    "Sigma = sigma(X_reg)\n",
    "MLE(X_reg,Y_reg,Sigma)"
   ]
  },
  {
   "cell_type": "markdown",
   "metadata": {},
   "source": [
    "### Parameters inicialization, ULA algorithm"
   ]
  },
  {
   "cell_type": "code",
   "execution_count": 102,
   "metadata": {
    "collapsed": true
   },
   "outputs": [],
   "source": [
    "def lmc_regression_without_precond(X,Y,Sigma, N):\n",
    "    n = X.shape[0]\n",
    "    p = X.shape[1]   \n",
    "    h = 0.01\n",
    "    K = 10000\n",
    "    #-----------------------------------------------------\n",
    "    vkh = np.empty((K + N,p,1), dtype=np.float64)\n",
    "    ksi = multivariate_normal.rvs(np.zeros(p), np.eye(p),K+N).reshape(K+N, p,1)\n",
    "    vkh[0] = (np.random.normal(0,1,p)).reshape(p,1)\n",
    "    for i in range(1,K+N):\n",
    "        grad = f_grad(vkh[i-1], X,Y,Sigma)\n",
    "        vkh[i] = vkh[i-1] - h*grad + np.sqrt(2*h) * ksi[i]\n",
    "    return vkh, ksi"
   ]
  },
  {
   "cell_type": "markdown",
   "metadata": {},
   "source": [
    "### Sample generation"
   ]
  },
  {
   "cell_type": "code",
   "execution_count": 103,
   "metadata": {
    "collapsed": true
   },
   "outputs": [],
   "source": [
    "np.random.seed(42)\n",
    "X, Z = lmc_regression_without_precond(X_reg,Y_reg,Sigma, 10000)"
   ]
  },
  {
   "cell_type": "code",
   "execution_count": 104,
   "metadata": {},
   "outputs": [
    {
     "data": {
      "image/png": "[encoded data removed]",
      "text/plain": [
       "<matplotlib.figure.Figure at 0x7f0d666af748>"
      ]
     },
     "metadata": {},
     "output_type": "display_data"
    }
   ],
   "source": [
    "plt.figure(figsize=(10,10))\n",
    "n, bins, patches = plt.hist(X[:,0].reshape(-1,1), 45, density=True, facecolor='g', alpha=0.75)\n",
    "plt.show()"
   ]
  },
  {
   "cell_type": "code",
   "execution_count": 105,
   "metadata": {},
   "outputs": [
    {
     "data": {
      "image/png": "[encoded data removed]",
      "text/plain": [
       "<matplotlib.figure.Figure at 0x7f0d6742fcf8>"
      ]
     },
     "metadata": {},
     "output_type": "display_data"
    }
   ],
   "source": [
    "plt.figure(figsize=(10,10))\n",
    "n, bins, patches = plt.hist(X[:,1].reshape(-1,1), 45, density=True, facecolor='g', alpha=0.75)\n",
    "plt.show()"
   ]
  },
  {
   "cell_type": "markdown",
   "metadata": {},
   "source": [
    "### Ordinary weighted estimator with $$f(x_1, x_2) = e^{-x_1} + 7x_2^2$$"
   ]
  },
  {
   "cell_type": "code",
   "execution_count": 106,
   "metadata": {
    "collapsed": true
   },
   "outputs": [],
   "source": [
    "def local_weighted_estimator(X):\n",
    "    return (X[:,0] + X[:,1]).mean()"
   ]
  },
  {
   "cell_type": "code",
   "execution_count": 107,
   "metadata": {},
   "outputs": [
    {
     "name": "stdout",
     "output_type": "stream",
     "text": [
      "Weighted estimator =  -0.593777630512\n"
     ]
    }
   ],
   "source": [
    "print (\"Weighted estimator = \",local_weighted_estimator(X))"
   ]
  },
  {
   "cell_type": "markdown",
   "metadata": {},
   "source": [
    "### Generation of N_train independent paths"
   ]
  },
  {
   "cell_type": "code",
   "execution_count": 108,
   "metadata": {
    "collapsed": true
   },
   "outputs": [],
   "source": [
    "def generate_lmc_from_initial(x_initial,Sigma,N):\n",
    "    h = 0.01\n",
    "    vkh = np.empty((N,d,1))\n",
    "    ksi = np.random.randn(N,d,1)\n",
    "    vkh[0] = x_initial\n",
    "    for i in range(1,N):\n",
    "        grad = f_grad(vkh[i-1], X_reg,Y_reg,Sigma)\n",
    "        vkh[i] = vkh[i-1] - h*grad + np.sqrt(2*h) * ksi[i]\n",
    "    return vkh, ksi\n",
    "\n",
    "def generate_paths(x_initial,N_train,Sigma,N):\n",
    "    XX = []\n",
    "    ZZ = []\n",
    "    for i in range(N_train):\n",
    "        X, Z = generate_lmc_from_initial(x_initial[-i],Sigma,N)\n",
    "        XX.append(X)\n",
    "        ZZ.append(Z)\n",
    "    return np.array(XX),np.array(ZZ)"
   ]
  },
  {
   "cell_type": "code",
   "execution_count": 15,
   "metadata": {
    "collapsed": true
   },
   "outputs": [],
   "source": [
    "np.random.seed(123)\n",
    "XX, ZZ = generate_paths(X,50,Sigma,1000)"
   ]
  },
  {
   "cell_type": "markdown",
   "metadata": {},
   "source": [
    "### (normalized) Hermite polynomials"
   ]
  },
  {
   "cell_type": "code",
   "execution_count": 109,
   "metadata": {
    "collapsed": true
   },
   "outputs": [],
   "source": [
    "def generate_k_vec(d, K):\n",
    "    r = list(range(K+1))\n",
    "    k = []\n",
    "    for roll in product(r, repeat = d):\n",
    "        k.append(list(roll))\n",
    "    k.remove([0,0])\n",
    "    return k\n",
    "def H(k, x):\n",
    "    h = hermitenorm(k)(x) /  np.sqrt(math.factorial(k))\n",
    "    return h\n",
    "def Hermite_val(k_vec,x_vec):\n",
    "    P = 1.0\n",
    "    d = x_vec.shape[0]\n",
    "    for i in range(d):\n",
    "        P = P * H(k_vec[i],x_vec[i])\n",
    "    return P"
   ]
  },
  {
   "cell_type": "code",
   "execution_count": 110,
   "metadata": {},
   "outputs": [
    {
     "data": {
      "text/plain": [
       "[[0, 1], [1, 0], [1, 1]]"
      ]
     },
     "execution_count": 110,
     "metadata": {},
     "output_type": "execute_result"
    }
   ],
   "source": [
    "k_comb = generate_k_vec(d,1)\n",
    "k_comb"
   ]
  },
  {
   "cell_type": "markdown",
   "metadata": {},
   "source": [
    "### Fitting linear regression for $Q_{p,l}(x) = \\mathbb{E} \\left[f(X_p) | X_l = x\\right]$"
   ]
  },
  {
   "cell_type": "code",
   "execution_count": 111,
   "metadata": {
    "collapsed": true
   },
   "outputs": [],
   "source": [
    "def pol_ar_1d(x): #x.shape = (2,1)\n",
    "    return np.array([1,x[0],x[1],x[0]*x[1],x[0]**2,x[1]**2,x[0]**2 *x[1],x[0]* x[1]**2, x[0]**3, x[1]**3])\n",
    "\n",
    "def generate_X_reduced(XX, r):\n",
    "    N_train = XX.shape[0]\n",
    "    N = XX.shape[1]\n",
    "    X = np.empty((N_train * (N-r) ,10))\n",
    "    all_points = XX[:, :N-r].reshape(-1,2)\n",
    "    X[:,0] = np.ones(N_train * (N-r))\n",
    "    X[:,1] = all_points[:,0].squeeze()\n",
    "    X[:,2] =all_points[:,1].squeeze()\n",
    "    X[:,3] = (all_points[:,0] * all_points[:,1]).squeeze()\n",
    "    X[:,4] = (all_points[:,0]**2).squeeze()\n",
    "    X[:,5] = (all_points[:,1]**2).squeeze()\n",
    "    X[:,6] = (all_points[:,0]**2 * all_points[:,1]).squeeze()\n",
    "    X[:,7] = (all_points[:,0] * all_points[:,1]**2).squeeze()\n",
    "    X[:,8] = (all_points[:,0]**3).squeeze()\n",
    "    X[:,9] = (all_points[:,1]**3).squeeze()\n",
    "    return X \n",
    "\n",
    "\n",
    "def generate_y_reduced(XX,r):\n",
    "    N_train = XX.shape[0]\n",
    "    N = XX.shape[1]\n",
    "    y = np.zeros(N_train * (N-r))\n",
    "    y = XX[:, r:].sum(axis = 2).reshape(-1)\n",
    "    return y\n",
    "\n",
    "def G_pml_fit(XX):\n",
    "    N_train = XX.shape[0]\n",
    "    N = XX.shape[1]\n",
    "    Betas = np.zeros((N,10))\n",
    "    for r in tqdm(range(N)):\n",
    "        X = generate_X_reduced(XX,r)\n",
    "        y = generate_y_reduced(XX,r)\n",
    "        beta = np.linalg.inv(X.T @ X) @ X.T @ y\n",
    "        Betas[r] = beta\n",
    "    return Betas\n",
    "\n",
    "def G_pml_predict(x,pml,Betas):\n",
    "    x_pol = pol_ar_1d(x)\n",
    "    beta = Betas[pml]\n",
    "    return (x_pol @ beta)"
   ]
  },
  {
   "cell_type": "code",
   "execution_count": 20,
   "metadata": {},
   "outputs": [
    {
     "name": "stderr",
     "output_type": "stream",
     "text": [
      "100%|██████████| 1000/1000 [00:08<00:00, 114.79it/s]\n"
     ]
    }
   ],
   "source": [
    "Betas = G_pml_fit(XX)"
   ]
  },
  {
   "cell_type": "code",
   "execution_count": 21,
   "metadata": {
    "collapsed": true
   },
   "outputs": [],
   "source": [
    "np.save('BLR_XX.npy',XX)\n",
    "np.save('BLR_ZZ.npy',ZZ)\n",
    "np.save('BLR_Betas.npy',Betas)"
   ]
  },
  {
   "cell_type": "code",
   "execution_count": 112,
   "metadata": {
    "collapsed": true
   },
   "outputs": [],
   "source": [
    "Betas = np.load('BLR_Betas.npy')\n",
    "XX = np.load('BLR_XX.npy')\n",
    "ZZ = np.load('BLR_ZZ.npy')"
   ]
  },
  {
   "cell_type": "code",
   "execution_count": 113,
   "metadata": {
    "collapsed": true
   },
   "outputs": [],
   "source": [
    "degrees = np.array([[0,0],[1,0],[0,1],[1,1],[2,0],[0,2],[2,1],[1,2],[3,0],[0,3]])"
   ]
  },
  {
   "cell_type": "code",
   "execution_count": 114,
   "metadata": {
    "collapsed": true
   },
   "outputs": [],
   "source": [
    "def a_plk(X,p,l,k_vec):\n",
    "    h = 0.01\n",
    "    S = 0\n",
    "    x_hat = X[l-1] - h*f_grad(X[l-1],X_reg,Y_reg,Sigma)\n",
    "    for ind,(i,j) in enumerate(degrees):\n",
    "        S_small_1 = 0\n",
    "        S_small_2 = 0\n",
    "        for t in range (i+1):\n",
    "            for s in range (int(t/2 +1)):\n",
    "                if (k_vec[0] == t - 2*s):\n",
    "                    S_small_1 = S_small_1 + comb(N=i, k = t, exact = True) * x_hat[0]**(i-t) * \\\n",
    "                    math.factorial(t)*1/math.factorial(s)*1 / np.sqrt(math.factorial(t-2*s)) *np.sqrt(2*h)**t /2**s\n",
    "                else:\n",
    "                    pass\n",
    "        for t in range (j+1):\n",
    "            for s in range (int(t/2 +1)):\n",
    "                if (k_vec[1] == t - 2*s):\n",
    "                    S_small_2 = S_small_2 + comb(N=j, k = t, exact = True) * x_hat[1]**(j-t) * \\\n",
    "                    math.factorial(t)*1/math.factorial(s)*1 / np.sqrt(math.factorial(t-2*s)) *np.sqrt(2*h)**t /2**s\n",
    "                else:\n",
    "                    pass\n",
    "        S = S + Betas[p-l,ind] * S_small_1 *S_small_2\n",
    "    return S"
   ]
  },
  {
   "cell_type": "code",
   "execution_count": 115,
   "metadata": {},
   "outputs": [
    {
     "name": "stderr",
     "output_type": "stream",
     "text": [
      "100%|██████████| 50/50 [00:00<00:00, 24660.77it/s]"
     ]
    },
    {
     "name": "stdout",
     "output_type": "stream",
     "text": [
      "variance of weighted estimator (1.4) on training sample: 0.000271329558705\n"
     ]
    },
    {
     "name": "stderr",
     "output_type": "stream",
     "text": [
      "\n"
     ]
    }
   ],
   "source": [
    "def estimator(XX):\n",
    "    Pi = np.empty(XX.shape[0])\n",
    "    for i in tqdm(range(XX.shape[0])):\n",
    "        Pi[i] = local_weighted_estimator(XX[i])\n",
    "    return Pi\n",
    "\n",
    "P = estimator(XX)\n",
    "print (\"variance of weighted estimator (1.4) on training sample:\",P.var(ddof=1))"
   ]
  },
  {
   "cell_type": "code",
   "execution_count": 128,
   "metadata": {
    "collapsed": true
   },
   "outputs": [],
   "source": [
    "def M_bias(k_vec,X,Z,Betas):\n",
    "    N = X.shape[0]\n",
    "    S = 0\n",
    "    for p in range(N):\n",
    "        for l in range (p+1):\n",
    "            if (p-l<100):\n",
    "                s = a_plk(X,p,l,k_vec)* Hermite_val(k_vec,Z[l])\n",
    "                S = S + s\n",
    "    return S/N"
   ]
  },
  {
   "cell_type": "code",
   "execution_count": 129,
   "metadata": {
    "collapsed": true
   },
   "outputs": [],
   "source": [
    "def estimator_bias(k,XX,ZZ,Betas,first, last):\n",
    "    M_results = Parallel(n_jobs=-1)(delayed(M_bias)(k,XX[i],ZZ[i],Betas)for i in range(first, last))\n",
    "    return np.array(M_results).reshape(-1)"
   ]
  },
  {
   "cell_type": "code",
   "execution_count": 130,
   "metadata": {},
   "outputs": [
    {
     "name": "stdout",
     "output_type": "stream",
     "text": [
      "P = -0.602861185496\n",
      "M ([0, 1]) = [-0.01070166] [Time:122.8057805079734]\n",
      "M ([1, 0]) = [-0.00015962] [Time:244.55160497303586]\n",
      "M ([1, 1]) = [ 0.0005698] [Time:360.17793308605906]\n"
     ]
    }
   ],
   "source": [
    "X = XX[7]\n",
    "Z = ZZ[7]\n",
    "time_1 = timeit.default_timer()\n",
    "print (\"P =\",local_weighted_estimator(X))\n",
    "for i in range(len(k_comb)):\n",
    "    print (\"M ({}) = {} [Time:{}]\".format(k_comb[i],M_bias(k_comb[i],X,Z,Betas),timeit.default_timer()-time_1))"
   ]
  },
  {
   "cell_type": "code",
   "execution_count": 132,
   "metadata": {
    "collapsed": true
   },
   "outputs": [],
   "source": [
    "# X = XX[8]\n",
    "# Z = ZZ[8]\n",
    "# time_1 = timeit.default_timer()\n",
    "# print (\"P =\",local_weighted_estimator(X))\n",
    "# for i in range(len(k_comb)):\n",
    "#     print (\"M ({}) = {} [Time:{}]\".format(k_comb[i],M_bias(k_comb[i],X,Z,Betas,i),timeit.default_timer()-time_1))"
   ]
  },
  {
   "cell_type": "markdown",
   "metadata": {},
   "source": [
    "### Check on test"
   ]
  },
  {
   "cell_type": "code",
   "execution_count": 59,
   "metadata": {},
   "outputs": [
    {
     "name": "stderr",
     "output_type": "stream",
     "text": [
      "100%|██████████| 2/2 [00:00<00:00, 2706.88it/s]\n"
     ]
    }
   ],
   "source": [
    "# np.random.seed(9651)\n",
    "# X, Z = lmc_regression_without_precond(X_reg,Y_reg,Sigma, 10000)\n",
    "\n",
    "# XX_test, ZZ_test =  generate_paths(X,200,Sigma,1000)\n",
    "\n",
    "# P_test = estimator(XX_test)\n",
    "\n",
    "# np.save('BLR_XX_test', XX_test)\n",
    "# np.save('BLR_ZZ_test', ZZ_test)\n",
    "# # XX_test = np.load('BLR_XX_test.npy')\n",
    "# # ZZ_test = np.load('BLR_ZZ_test.npy')"
   ]
  },
  {
   "cell_type": "code",
   "execution_count": 133,
   "metadata": {},
   "outputs": [
    {
     "name": "stderr",
     "output_type": "stream",
     "text": [
      "100%|██████████| 50/50 [00:00<00:00, 23260.34it/s]\n"
     ]
    }
   ],
   "source": [
    "XX_test = np.load('BLR_XX_test.npy')\n",
    "ZZ_test = np.load('BLR_ZZ_test.npy')\n",
    "P_test = estimator(XX_test)"
   ]
  },
  {
   "cell_type": "code",
   "execution_count": 134,
   "metadata": {},
   "outputs": [
    {
     "data": {
      "text/plain": [
       "(50, 1000, 2, 1)"
      ]
     },
     "execution_count": 134,
     "metadata": {},
     "output_type": "execute_result"
    }
   ],
   "source": [
    "XX_test.shape"
   ]
  },
  {
   "cell_type": "code",
   "execution_count": 135,
   "metadata": {},
   "outputs": [
    {
     "name": "stdout",
     "output_type": "stream",
     "text": [
      "0.000304963978348\n"
     ]
    }
   ],
   "source": [
    "print (P_test.var(dtype=np.float64,ddof=1))"
   ]
  },
  {
   "cell_type": "code",
   "execution_count": 144,
   "metadata": {},
   "outputs": [],
   "source": [
    "M_1 = estimator_bias(k_comb[0],XX_test,ZZ_test,Betas, 0, 50)\n",
    "np.save('BLR_M_results_test_1.npy', M_1)"
   ]
  },
  {
   "cell_type": "code",
   "execution_count": null,
   "metadata": {
    "collapsed": true
   },
   "outputs": [],
   "source": [
    "M_2 = estimator_bias(k_comb[1],XX_test,ZZ_test,Betas, 0, 50)\n",
    "np.save('BLR_M_results_test_2.npy', M_2)"
   ]
  },
  {
   "cell_type": "code",
   "execution_count": null,
   "metadata": {
    "collapsed": true
   },
   "outputs": [],
   "source": [
    "M_3 = estimator_bias(k_comb[2],XX_test,ZZ_test,Betas, 0, 50)\n",
    "np.save('BLR_M_results_test_3.npy', M_3)"
   ]
  },
  {
   "cell_type": "code",
   "execution_count": 141,
   "metadata": {},
   "outputs": [
    {
     "name": "stdout",
     "output_type": "stream",
     "text": [
      "Variance of Pi =  0.000304963978348\n",
      "-----------------------------------------------------\n",
      "Variance of new estimator (K=1)=  0.000106844776148\n",
      "=====================================================\n",
      "Variance of new estimator (K=1)=  6.5647055106e-06\n",
      "=====================================================\n",
      "Variance of new estimator (K=1)=  6.24103892633e-06\n",
      "=====================================================\n"
     ]
    }
   ],
   "source": [
    "print ('Variance of Pi = ',P_test.var(ddof = 1))\n",
    "print ('-----------------------------------------------------')\n",
    "print ('Variance of new estimator (K=1)= ',(P_test-M_1).var(ddof = 1))\n",
    "print (\"=====================================================\")\n",
    "print ('Variance of new estimator (K=1)= ',(P_test-M_1 - M_2).var(ddof = 1))\n",
    "print (\"=====================================================\")\n",
    "print ('Variance of new estimator (K=1)= ',(P_test-M_1 - M_2-M_3).var(ddof = 1))\n",
    "print (\"=====================================================\")"
   ]
  },
  {
   "cell_type": "code",
   "execution_count": 142,
   "metadata": {},
   "outputs": [
    {
     "data": {
      "image/png": "[encoded data removed]",
      "text/plain": [
       "<matplotlib.figure.Figure at 0x7f0d6588b390>"
      ]
     },
     "metadata": {},
     "output_type": "display_data"
    }
   ],
   "source": [
    "plt.figure(figsize=(10,10))\n",
    "n, bins, patches = plt.hist(P_test.reshape(-1,1),18, facecolor='r', density=True,\n",
    "                            alpha=1, label=\"Distribution of $\\pi$\")\n",
    "\n",
    "n, bins, patches = plt.hist((P_test-M_1-M_2 - M_3).reshape(-1,1), 18, density=True, facecolor='y', \n",
    "                            alpha=0.85, label=\"Distribution of $\\pi - M^1_N$\")\n",
    "\n",
    "plt.grid(linestyle='-', linewidth=0.2, color='black')\n",
    "plt.tick_params(\n",
    "    axis='y',\n",
    "    color = 'w',\n",
    "    labelcolor = 'w',\n",
    "    which='both')\n",
    "plt.show()"
   ]
  },
  {
   "cell_type": "code",
   "execution_count": 143,
   "metadata": {},
   "outputs": [
    {
     "data": {
      "image/png": "[encoded data removed]",
      "text/plain": [
       "<matplotlib.figure.Figure at 0x7f0d664e92b0>"
      ]
     },
     "metadata": {},
     "output_type": "display_data"
    }
   ],
   "source": [
    "plt.figure(figsize=(10,10))\n",
    "\n",
    "# generate some random test data\n",
    "all_data = [P_test, P_test - M_1,P_test - M_1 -M_2,P_test - M_1 - M_2 - M_3]\n",
    "\n",
    "# plot violin plot\n",
    "plt.boxplot(all_data)\n",
    "plt.title('violin plot')\n",
    "\n",
    "plt.show()"
   ]
  },
  {
   "cell_type": "code",
   "execution_count": null,
   "metadata": {
    "collapsed": true
   },
   "outputs": [],
   "source": []
  }
 ],
 "metadata": {
  "kernelspec": {
   "display_name": "Python 3",
   "language": "python",
   "name": "python3"
  },
  "language_info": {
   "codemirror_mode": {
    "name": "ipython",
    "version": 3
   },
   "file_extension": ".py",
   "mimetype": "text/x-python",
   "name": "python",
   "nbconvert_exporter": "python",
   "pygments_lexer": "ipython3",
   "version": "3.6.3"
  }
 },
 "nbformat": 4,
 "nbformat_minor": 2
}
