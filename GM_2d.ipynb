{
 "cells": [
  {
   "cell_type": "code",
   "execution_count": 3,
   "metadata": {},
   "outputs": [],
   "source": [
    "import numpy as np\n",
    "from tqdm import tqdm\n",
    "import timeit\n",
    "from matplotlib import pyplot as plt\n",
    "from Code import ULA\n",
    "from Code import Algo1\n",
    "from Code import ZVnbrosse"
   ]
  },
  {
   "cell_type": "markdown",
   "metadata": {},
   "source": [
    "### Gaussian mixture \n",
    "\n",
    "## $\\pi (x) = \\frac{1}{2(2\\pi)^{d/2}} \\left( e ^{\\frac{-| x-a|^2}{2}}  + e ^{\\frac{-| x+a|^2}{2}} \\right), \\quad x \\in\\mathbb R^d$\n",
    "\n",
    "$U(x) = \\frac{1}{2} \\|x - a\\|_2^2 - \\text{log}(1 + e^{-2x^\\top a})$\n",
    "\n",
    "$\\nabla U(x) = x-a +2a(1 + e^{2 x^\\top a})^{-1}$\n",
    "\n",
    "$ m = 1 - \\|a \\|_2^2 \\quad $ (strongly convex function)\n",
    "\n",
    "$M = 1 \\quad$  (Lipschitz continuous gradient)\n",
    "\n",
    "$a = (\\frac{1}{\\sqrt{2d}}, \\dots, \\frac{1}{\\sqrt{2d}})$"
   ]
  },
  {
   "cell_type": "markdown",
   "metadata": {},
   "source": [
    "## Setup"
   ]
  },
  {
   "cell_type": "code",
   "execution_count": 30,
   "metadata": {},
   "outputs": [],
   "source": [
    "dim = 2\n",
    "h = 0.1\n",
    "n = 2000\n",
    "N_train = 100\n",
    "N_test = 100\n",
    "n_tilde = 50\n",
    "deg = 1\n",
    "def f_grad(x):\n",
    "    a = np.ones(dim) / np.sqrt(2*dim)\n",
    "    return x - a + 2 * a/(1 + np.exp(2* (x.T @ a)))\n",
    "\n",
    "def local_weighted_estimator(X):\n",
    "    return X.sum(axis=1).mean()\n",
    "\n",
    "def estimator(XX):\n",
    "    Pi = np.empty(XX.shape[0])\n",
    "    for i in tqdm(range(XX.shape[0])):\n",
    "        Pi[i] = local_weighted_estimator(XX[i])\n",
    "    return Pi"
   ]
  },
  {
   "cell_type": "code",
   "execution_count": 31,
   "metadata": {},
   "outputs": [],
   "source": [
    "f_target = 'sum'"
   ]
  },
  {
   "cell_type": "markdown",
   "metadata": {},
   "source": [
    "### Generate sample and plot"
   ]
  },
  {
   "cell_type": "code",
   "execution_count": 32,
   "metadata": {},
   "outputs": [],
   "source": [
    "np.random.seed(2342)\n",
    "X, G, Z = ULA.ULA_with_burnin(d=dim, step=h, burn_in=10000, n=100000,f_grad=f_grad)"
   ]
  },
  {
   "cell_type": "code",
   "execution_count": 33,
   "metadata": {},
   "outputs": [
    {
     "data": {
      "image/png": "[encoded data removed]",
      "text/plain": [
       "<matplotlib.figure.Figure at 0x7fa72687db70>"
      ]
     },
     "metadata": {},
     "output_type": "display_data"
    }
   ],
   "source": [
    "ULA.plot_distr(X,Z,G,0)"
   ]
  },
  {
   "cell_type": "markdown",
   "metadata": {},
   "source": [
    "### Generate train ant test trajectories"
   ]
  },
  {
   "cell_type": "code",
   "execution_count": 34,
   "metadata": {},
   "outputs": [],
   "source": [
    "np.random.seed(123)\n",
    "\n",
    "XX, GG, ZZ = ULA.generate_train_trajectories(X, N_train=N_train,d = dim, step = h, n = n, f_grad=f_grad)\n",
    "XX_test, GG_test, ZZ_test = ULA.generate_test_trajetories(N_test=N_test, d =dim, step=h, \n",
    "                                                          burn_in=10000, n = n, f_grad=f_grad)"
   ]
  },
  {
   "cell_type": "markdown",
   "metadata": {},
   "source": [
    "### Algorithm 1 "
   ]
  },
  {
   "cell_type": "code",
   "execution_count": 35,
   "metadata": {},
   "outputs": [
    {
     "name": "stderr",
     "output_type": "stream",
     "text": [
      "100%|██████████| 2000/2000 [00:11<00:00, 168.68it/s]\n"
     ]
    }
   ],
   "source": [
    "Betas, degrees = Algo1.G_pml_fit_mean(XX,f_target, max_deg = deg)"
   ]
  },
  {
   "cell_type": "code",
   "execution_count": 36,
   "metadata": {},
   "outputs": [],
   "source": [
    "k_comb = np.zeros((dim,dim), dtype=np.int16)\n",
    "for i in range(dim):\n",
    "    k_comb[i,i] = 1"
   ]
  },
  {
   "cell_type": "code",
   "execution_count": 37,
   "metadata": {},
   "outputs": [],
   "source": [
    "# k_comb = np.array([[1,0], [0,1], [1,1], [2,0], [0,2]], dtype=np.int16)"
   ]
  },
  {
   "cell_type": "markdown",
   "metadata": {},
   "source": [
    "### Check and time"
   ]
  },
  {
   "cell_type": "code",
   "execution_count": 38,
   "metadata": {},
   "outputs": [
    {
     "name": "stdout",
     "output_type": "stream",
     "text": [
      "mean of target function = -0.07636632240120433\n",
      "            (k = [1 0]) = 0.24875095989293428 [Time:18.00938050588593]\n",
      "            (k = [0 1]) = 0.02392309840372317 [Time:36.06809217808768]\n"
     ]
    }
   ],
   "source": [
    "i_test = 5\n",
    "time_1 = timeit.default_timer()\n",
    "p = local_weighted_estimator(XX_test[i_test])\n",
    "print (\"mean of target function =\", p)\n",
    "for i in range(len(k_comb)):\n",
    "    p = p - Algo1.M_bias(k_comb[i],XX_test[i_test],GG_test[i_test], ZZ_test[i_test], h, degrees,Betas,100)\n",
    "    print (\"            (k = {}) = {} [Time:{}]\".format(k_comb[i],p,timeit.default_timer()-time_1))"
   ]
  },
  {
   "cell_type": "code",
   "execution_count": 39,
   "metadata": {},
   "outputs": [
    {
     "name": "stdout",
     "output_type": "stream",
     "text": [
      "mean of target function = -0.07636632240120433\n",
      "            (k = [1 0]) = 0.18590671167387457 [Time:9.080507849808782]\n",
      "            (k = [0 1]) = -0.005294418593689509 [Time:18.160674331942573]\n"
     ]
    }
   ],
   "source": [
    "i_test = 5\n",
    "time_1 = timeit.default_timer()\n",
    "p = local_weighted_estimator(XX_test[i_test])\n",
    "print (\"mean of target function =\", p)\n",
    "for i in range(len(k_comb)):\n",
    "    p = p - Algo1.M_bias(k_comb[i],XX_test[i_test],GG_test[i_test], ZZ_test[i_test], h, degrees,Betas,50)\n",
    "    print (\"            (k = {}) = {} [Time:{}]\".format(k_comb[i],p,timeit.default_timer()-time_1))"
   ]
  },
  {
   "cell_type": "code",
   "execution_count": 40,
   "metadata": {},
   "outputs": [
    {
     "name": "stdout",
     "output_type": "stream",
     "text": [
      "mean of target function = -0.07636632240120433\n",
      "            (k = [1 0]) = 0.2621633292285875 [Time:22.16763455909677]\n",
      "            (k = [0 1]) = 0.03330904163248394 [Time:44.3052482039202]\n"
     ]
    }
   ],
   "source": [
    "i_test = 5\n",
    "time_1 = timeit.default_timer()\n",
    "p = local_weighted_estimator(XX_test[i_test])\n",
    "print (\"mean of target function =\", p)\n",
    "for i in range(len(k_comb)):\n",
    "    p = p - Algo1.M_bias(k_comb[i],XX_test[i_test],GG_test[i_test], ZZ_test[i_test], h, degrees,Betas,125)\n",
    "    print (\"            (k = {}) = {} [Time:{}]\".format(k_comb[i],p,timeit.default_timer()-time_1))"
   ]
  },
  {
   "cell_type": "markdown",
   "metadata": {},
   "source": [
    "## Check results on test trajectories"
   ]
  },
  {
   "cell_type": "code",
   "execution_count": 45,
   "metadata": {},
   "outputs": [
    {
     "name": "stderr",
     "output_type": "stream",
     "text": [
      "100%|██████████| 100/100 [00:00<00:00, 15574.26it/s]\n"
     ]
    }
   ],
   "source": [
    "P_test = estimator(XX_test)\n",
    "\n",
    "M_test = np.empty((len(k_comb),P_test.shape[0]))\n",
    "for i in range(len(k_comb)):\n",
    "    M_test[i] = Algo1.estimator_bias(k_comb[i], XX_test, GG_test, ZZ_test, h, degrees,Betas,100, n_jobs=8)"
   ]
  },
  {
   "cell_type": "code",
   "execution_count": 46,
   "metadata": {},
   "outputs": [],
   "source": [
    "res_zv_1 = []\n",
    "for i in range (XX_test.shape[0]):\n",
    "    res_zv_1.append(ZVnbrosse.ZVpolyOne(XX_test[i].reshape(-1,dim), GG_test[i].reshape(-1,dim), f_target))\n",
    "res_zv_1 = np.array(res_zv_1).reshape(-1)\n",
    "\n",
    "res_zv_2 = []\n",
    "for i in range (XX_test.shape[0]):\n",
    "    res_zv_2.append(ZVnbrosse.ZVpolyTwo(XX_test[i].reshape(-1,dim), GG_test[i].reshape(-1,dim), f_target))\n",
    "res_zv_2 = np.array(res_zv_2).reshape(-1)\n",
    "\n",
    "res_cv_1 = []\n",
    "for i in range (XX_test.shape[0]):\n",
    "    res_cv_1.append(ZVnbrosse.CVpolyOne(XX_test[i].reshape(-1,dim), GG_test[i].reshape(-1,dim), f_target))\n",
    "res_cv_1 = np.array(res_cv_1).reshape(-1)\n",
    "\n",
    "res_cv_2 = []\n",
    "for i in range (XX_test.shape[0]):\n",
    "    res_cv_2.append(ZVnbrosse.CVpolyTwo(XX_test[i].reshape(-1,dim), GG_test[i].reshape(-1,dim), f_target))\n",
    "res_cv_2 = np.array(res_cv_2).reshape(-1)"
   ]
  },
  {
   "cell_type": "code",
   "execution_count": 47,
   "metadata": {},
   "outputs": [
    {
     "data": {
      "image/png": "[encoded data removed]",
      "text/plain": [
       "<matplotlib.figure.Figure at 0x7fa726bba630>"
      ]
     },
     "metadata": {},
     "output_type": "display_data"
    }
   ],
   "source": [
    "plt.figure(figsize=(10,10))\n",
    "plt.hist(P_test,15, facecolor='r', density=True, alpha=1, label=r\"$\\pi$\")\n",
    "\n",
    "plt.hist((P_test-M_test.sum(axis=0)),15, density=True, facecolor='g', alpha=0.8, label=\"Distribution of $\\pi - M^2_N$\")\n",
    "\n",
    "plt.hist(res_zv_1,15, facecolor='y', density=True, alpha=0.5, label=\"ZV 1\")\n",
    "# plt.hist(res_zv_2,15, facecolor='b', density=True, alpha=0.5, label=\"ZV 2\")\n",
    "plt.hist(res_cv_1,15, facecolor='pink', density=True, alpha=0.5, label=\"CV 1\")\n",
    "# plt.hist(res_cv_2,15, facecolor='black', density=True, alpha=0.5, label=\"CV 2\")\n",
    "\n",
    "plt.legend(loc=2, prop={'size': 17})\n",
    "plt.grid(linestyle='-', linewidth=0.2, color='black')\n",
    "plt.tick_params(axis='y',color = 'w', labelcolor = 'w', which='both')\n",
    "plt.xlim(-0.65, 0.65)\n",
    "plt.show()"
   ]
  },
  {
   "cell_type": "code",
   "execution_count": 50,
   "metadata": {},
   "outputs": [
    {
     "data": {
      "image/png": "[encoded data removed]",
      "text/plain": [
       "<matplotlib.figure.Figure at 0x7fa724069550>"
      ]
     },
     "metadata": {},
     "output_type": "display_data"
    }
   ],
   "source": [
    "all_data = [P_test]\n",
    "all_data.append(P_test - M_test.sum(axis = 0))\n",
    "all_data.append(res_zv_1)\n",
    "# all_data.append(res_zv_2)\n",
    "all_data.append(res_cv_1)\n",
    "# all_data.append(res_cv_2)\n",
    "    \n",
    "plt.figure(figsize=(10,10))\n",
    "plt.violinplot(all_data, showmeans=True, showmedians=False)\n",
    "# plt.title('violin plot')\n",
    "plt.xticks(np.arange(1,5), ('pi', 'CV_B', 'ZV_1', 'CV_1'))\n",
    "plt.grid()\n",
    "plt.show()"
   ]
  },
  {
   "cell_type": "code",
   "execution_count": 23,
   "metadata": {},
   "outputs": [
    {
     "name": "stdout",
     "output_type": "stream",
     "text": [
      "          Variance of Pi =  0.21656661167763244\n",
      "Variance of new estimator = 0.11038523162198756\n",
      "Variance of new estimator = 0.007609011375375586\n",
      "        Variance of CV 1 =  0.012339142217434573\n",
      "        Variance of CV 2 =  0.001501611010069349\n",
      "        Variance of ZV 1 =  0.0006413654492954901\n",
      "        Variance of ZV 2 =  0.0013930590145270706\n"
     ]
    }
   ],
   "source": [
    "print ('          Variance of Pi = ',P_test.var(ddof = 1))\n",
    "for i in range(len(k_comb)):\n",
    "    print ('Variance of new estimator =',(P_test-M_test[:i+1].sum(axis = 0)).var(ddof = 1))\n",
    "print ('        Variance of CV 1 = ',res_cv_1.var(ddof=1))\n",
    "print ('        Variance of CV 2 = ',res_cv_2.var(ddof=1))\n",
    "print ('        Variance of ZV 1 = ',res_zv_1.var(ddof=1))\n",
    "print ('        Variance of ZV 2 = ',res_zv_2.var(ddof=1))"
   ]
  },
  {
   "cell_type": "code",
   "execution_count": 24,
   "metadata": {},
   "outputs": [
    {
     "name": "stdout",
     "output_type": "stream",
     "text": [
      "VRF CVB =  28.46185936565807\n",
      "VRF CV1 =  17.55118855601121\n",
      "VRF CV2 =  144.22284481493696\n",
      "VRF ZV1 =  337.66491773998854\n",
      "VRF ZV2 =  155.46118966909282\n"
     ]
    }
   ],
   "source": [
    "print ('VRF CVB = ',P_test.var(ddof = 1)/ (P_test - M_test.sum(axis = 0)).var(ddof=1))\n",
    "print ('VRF CV1 = ',P_test.var(ddof = 1)/res_cv_1.var(ddof = 1))\n",
    "print ('VRF CV2 = ',P_test.var(ddof = 1)/res_cv_2.var(ddof = 1))\n",
    "print ('VRF ZV1 = ',P_test.var(ddof = 1)/res_zv_1.var(ddof = 1))\n",
    "print ('VRF ZV2 = ',P_test.var(ddof = 1)/res_zv_2.var(ddof = 1))"
   ]
  },
  {
   "cell_type": "code",
   "execution_count": null,
   "metadata": {},
   "outputs": [],
   "source": [
    "np.save(\"logs/GM_2d_M_test_(K = {}, n_tilde={}).npy\".format(deg, n_tilde), M_test)"
   ]
  },
  {
   "cell_type": "code",
   "execution_count": null,
   "metadata": {},
   "outputs": [],
   "source": []
  }
 ],
 "metadata": {
  "kernelspec": {
   "display_name": "Python 3",
   "language": "python",
   "name": "python3"
  },
  "language_info": {
   "codemirror_mode": {
    "name": "ipython",
    "version": 3
   },
   "file_extension": ".py",
   "mimetype": "text/x-python",
   "name": "python",
   "nbconvert_exporter": "python",
   "pygments_lexer": "ipython3",
   "version": "3.6.4"
  }
 },
 "nbformat": 4,
 "nbformat_minor": 2
}
