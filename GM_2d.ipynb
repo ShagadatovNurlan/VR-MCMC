{
 "cells": [
  {
   "cell_type": "code",
   "execution_count": 1,
   "metadata": {},
   "outputs": [],
   "source": [
    "import numpy as np\n",
    "from tqdm import tqdm\n",
    "import timeit\n",
    "from matplotlib import pyplot as plt\n",
    "from Code import ULA\n",
    "from Code import Algo1\n",
    "from Code import ZVnbrosse"
   ]
  },
  {
   "cell_type": "markdown",
   "metadata": {},
   "source": [
    "### Gaussian mixture \n",
    "\n",
    "## $\\pi (x) = \\frac{1}{2(2\\pi)^{d/2}} \\left( e ^{\\frac{-| x-a|^2}{2}}  + e ^{\\frac{-| x+a|^2}{2}} \\right), \\quad x \\in\\mathbb R^d$\n",
    "\n",
    "$U(x) = \\frac{1}{2} \\|x - a\\|_2^2 - \\text{log}(1 + e^{-2x^\\top a})$\n",
    "\n",
    "$\\nabla U(x) = x-a +2a(1 + e^{2 x^\\top a})^{-1}$\n",
    "\n",
    "$ m = 1 - \\|a \\|_2^2 \\quad $ (strongly convex function)\n",
    "\n",
    "$M = 1 \\quad$  (Lipschitz continuous gradient)\n",
    "\n",
    "$a = (\\frac{1}{\\sqrt{2d}}, \\dots, \\frac{1}{\\sqrt{2d}})$"
   ]
  },
  {
   "cell_type": "markdown",
   "metadata": {},
   "source": [
    "## Setup"
   ]
  },
  {
   "cell_type": "code",
   "execution_count": 2,
   "metadata": {},
   "outputs": [],
   "source": [
    "dim = 2\n",
    "h = 0.1\n",
    "n = 1000\n",
    "N_train = 50\n",
    "N_test = 100\n",
    "n_tilde = 50\n",
    "deg = 2\n",
    "def f_grad(x):\n",
    "    a = np.ones(dim) / np.sqrt(2*dim)\n",
    "    return x - a + 2 * a/(1 + np.exp(2* (x.T @ a)))\n",
    "\n",
    "def local_weighted_estimator(X):\n",
    "    return X.sum(axis=1).mean()\n",
    "\n",
    "def estimator(XX):\n",
    "    Pi = np.empty(XX.shape[0])\n",
    "    for i in tqdm(range(XX.shape[0])):\n",
    "        Pi[i] = local_weighted_estimator(XX[i])\n",
    "    return Pi"
   ]
  },
  {
   "cell_type": "markdown",
   "metadata": {},
   "source": [
    "### Generate sample and plot"
   ]
  },
  {
   "cell_type": "code",
   "execution_count": 3,
   "metadata": {},
   "outputs": [],
   "source": [
    "np.random.seed(2342)\n",
    "X, G, Z = ULA.ULA_with_burnin(d=dim, step=h, burn_in=10000, n=100000,f_grad=f_grad)"
   ]
  },
  {
   "cell_type": "code",
   "execution_count": 4,
   "metadata": {},
   "outputs": [
    {
     "data": {
      "image/png": "[encoded data removed]",
      "text/plain": [
       "<Figure size 1080x360 with 3 Axes>"
      ]
     },
     "metadata": {
      "needs_background": "light"
     },
     "output_type": "display_data"
    }
   ],
   "source": [
    "ULA.plot_distr(X,Z,G,0)"
   ]
  },
  {
   "cell_type": "markdown",
   "metadata": {},
   "source": [
    "### Generate train ant test trajectories"
   ]
  },
  {
   "cell_type": "code",
   "execution_count": 5,
   "metadata": {},
   "outputs": [],
   "source": [
    "np.random.seed(123)\n",
    "\n",
    "XX, GG, ZZ = ULA.generate_train_trajectories(X, N_train=N_train,d = dim, step = h, n = n, f_grad=f_grad)\n",
    "XX_test, GG_test, ZZ_test = ULA.generate_test_trajetories(N_test=N_test, d =dim, step=h, \n",
    "                                                          burn_in=10000, n = n, f_grad=f_grad)"
   ]
  },
  {
   "cell_type": "markdown",
   "metadata": {},
   "source": [
    "### Algorithm 1 "
   ]
  },
  {
   "cell_type": "code",
   "execution_count": 6,
   "metadata": {},
   "outputs": [
    {
     "name": "stderr",
     "output_type": "stream",
     "text": [
      "100%|██████████| 1000/1000 [00:02<00:00, 362.27it/s]\n"
     ]
    }
   ],
   "source": [
    "Betas, degrees = Algo1.G_pml_fit_meansum(XX,max_deg = deg)"
   ]
  },
  {
   "cell_type": "code",
   "execution_count": 7,
   "metadata": {},
   "outputs": [],
   "source": [
    "# k_comb = np.zeros((dim,dim), dtype=np.int16)\n",
    "# for i in range(dim):\n",
    "#     k_comb[i,i] = 1\n",
    "\n",
    "k_comb = np.array([[1,0], [0,1], [1,1], [2,0], [0,2]], dtype=np.int16)"
   ]
  },
  {
   "cell_type": "markdown",
   "metadata": {},
   "source": [
    "### Check and time"
   ]
  },
  {
   "cell_type": "code",
   "execution_count": 8,
   "metadata": {},
   "outputs": [
    {
     "name": "stdout",
     "output_type": "stream",
     "text": [
      "mean of target function = -0.49045176198325463\n",
      "            (k = [1 0]) = -0.38226492890681607 [Time:13.32863335699949]\n",
      "            (k = [0 1]) = -0.03140306523986952 [Time:26.842279181000777]\n",
      "            (k = [1 1]) = -0.030983386448853175 [Time:36.35918802300148]\n",
      "            (k = [2 0]) = -0.027959659409006802 [Time:57.81116434899741]\n",
      "            (k = [0 2]) = -0.028039011886692704 [Time:79.41491428200243]\n"
     ]
    }
   ],
   "source": [
    "time_1 = timeit.default_timer()\n",
    "p = local_weighted_estimator(XX_test[-1])\n",
    "print (\"mean of target function =\", p)\n",
    "for i in range(len(k_comb)):\n",
    "    p = p - Algo1.M_bias(k_comb[i],XX_test[-1],GG_test[-1], ZZ_test[-1], h, degrees,Betas, n_tilde)\n",
    "    print (\"            (k = {}) = {} [Time:{}]\".format(k_comb[i],p,timeit.default_timer()-time_1))"
   ]
  },
  {
   "cell_type": "markdown",
   "metadata": {},
   "source": [
    "## Check results on test trajectories"
   ]
  },
  {
   "cell_type": "code",
   "execution_count": 9,
   "metadata": {},
   "outputs": [
    {
     "name": "stderr",
     "output_type": "stream",
     "text": [
      "100%|██████████| 100/100 [00:00<00:00, 12728.91it/s]\n"
     ]
    }
   ],
   "source": [
    "P_test = estimator(XX_test)\n",
    "\n",
    "M_test = np.empty((len(k_comb),P_test.shape[0]))\n",
    "for i in range(len(k_comb)):\n",
    "    M_test[i] = Algo1.estimator_bias(k_comb[i], XX_test, GG_test, ZZ_test, h, degrees,Betas, n_tilde, n_jobs=2)"
   ]
  },
  {
   "cell_type": "code",
   "execution_count": 10,
   "metadata": {},
   "outputs": [],
   "source": [
    "res_zv_1 = []\n",
    "for i in range (XX_test.shape[0]):\n",
    "    res_zv_1.append(ZVnbrosse.ZVpolyOne(XX_test[i].reshape(-1,dim), GG_test[i].reshape(-1,dim)))\n",
    "res_zv_1 = np.array(res_zv_1).reshape(-1)\n",
    "\n",
    "res_zv_2 = []\n",
    "for i in range (XX_test.shape[0]):\n",
    "    res_zv_2.append(ZVnbrosse.ZVpolyTwo(XX_test[i].reshape(-1,dim), GG_test[i].reshape(-1,dim)))\n",
    "res_zv_2 = np.array(res_zv_2).reshape(-1)\n",
    "\n",
    "res_cv_1 = []\n",
    "for i in range (XX_test.shape[0]):\n",
    "    res_cv_1.append(ZVnbrosse.CVpolyOne(XX_test[i].reshape(-1,dim), GG_test[i].reshape(-1,dim)))\n",
    "res_cv_1 = np.array(res_cv_1).reshape(-1)\n",
    "\n",
    "res_cv_2 = []\n",
    "for i in range (XX_test.shape[0]):\n",
    "    res_cv_2.append(ZVnbrosse.CVpolyTwo(XX_test[i].reshape(-1,dim), GG_test[i].reshape(-1,dim)))\n",
    "res_cv_2 = np.array(res_cv_2).reshape(-1)"
   ]
  },
  {
   "cell_type": "code",
   "execution_count": 17,
   "metadata": {},
   "outputs": [
    {
     "data": {
      "image/png": "[encoded data removed]",
      "text/plain": [
       "<Figure size 720x720 with 1 Axes>"
      ]
     },
     "metadata": {},
     "output_type": "display_data"
    }
   ],
   "source": [
    "plt.figure(figsize=(10,10))\n",
    "plt.hist(P_test,15, facecolor='r', density=True, alpha=1, label=r\"$\\pi$\")\n",
    "\n",
    "plt.hist((P_test-M_test.sum(axis=0)),15, density=True, facecolor='g', alpha=0.7, label=\"Distribution of $\\pi - M^2_N$\")\n",
    "\n",
    "plt.hist(res_zv_1,15, facecolor='y', density=True, alpha=0.5, label=\"ZV 1\")\n",
    "plt.hist(res_zv_2,15, facecolor='b', density=True, alpha=0.5, label=\"ZV 2\")\n",
    "plt.hist(res_cv_1,15, facecolor='pink', density=True, alpha=0.5, label=\"CV 1\")\n",
    "plt.hist(res_cv_2,15, facecolor='black', density=True, alpha=0.5, label=\"CV 2\")\n",
    "\n",
    "plt.legend(loc=2, prop={'size': 17})\n",
    "plt.grid(linestyle='-', linewidth=0.2, color='black')\n",
    "plt.tick_params(axis='y',color = 'w', labelcolor = 'w', which='both')\n",
    "plt.xlim(-0.65, 0.65)\n",
    "plt.show()"
   ]
  },
  {
   "cell_type": "code",
   "execution_count": 22,
   "metadata": {},
   "outputs": [
    {
     "data": {
      "image/png": "[encoded data removed]",
      "text/plain": [
       "<Figure size 720x720 with 1 Axes>"
      ]
     },
     "metadata": {
      "needs_background": "light"
     },
     "output_type": "display_data"
    }
   ],
   "source": [
    "all_data = [P_test]\n",
    "all_data.append(P_test - M_test.sum(axis = 0))\n",
    "all_data.append(res_zv_1)\n",
    "all_data.append(res_zv_2)\n",
    "all_data.append(res_cv_1)\n",
    "all_data.append(res_cv_2)\n",
    "    \n",
    "plt.figure(figsize=(10,10))\n",
    "plt.violinplot(all_data, showmeans=True, showmedians=False)\n",
    "plt.title('violin plot')\n",
    "plt.xticks(np.arange(1,7), ('pi', 'CV_B', 'ZV_1', 'ZV_2', 'CV_1', 'CV_2'))\n",
    "plt.grid()\n",
    "plt.show()"
   ]
  },
  {
   "cell_type": "code",
   "execution_count": 18,
   "metadata": {},
   "outputs": [
    {
     "name": "stdout",
     "output_type": "stream",
     "text": [
      "          Variance of Pi =  0.10333649984666904\n",
      "Variance of new estimator = 0.04960243318293715\n",
      "Variance of new estimator = 0.0011002728530521535\n",
      "Variance of new estimator = 0.0010996429316098254\n",
      "Variance of new estimator = 0.0010928624580108985\n",
      "Variance of new estimator = 0.0011046956190602765\n",
      "        Variance of CV 1 =  0.0037213659014814653\n",
      "        Variance of CV 2 =  0.0004989500388117966\n",
      "        Variance of ZV 1 =  0.00033161779577314256\n",
      "        Variance of ZV 2 =  0.0004721744029961758\n"
     ]
    }
   ],
   "source": [
    "print ('          Variance of Pi = ',P_test.var(ddof = 1))\n",
    "for i in range(len(k_comb)):\n",
    "    print ('Variance of new estimator =',(P_test-M_test[:i+1].sum(axis = 0)).var(ddof = 1))\n",
    "print ('        Variance of CV 1 = ',res_cv_1.var(ddof=1))\n",
    "print ('        Variance of CV 2 = ',res_cv_2.var(ddof=1))\n",
    "print ('        Variance of ZV 1 = ',res_zv_1.var(ddof=1))\n",
    "print ('        Variance of ZV 2 = ',res_zv_2.var(ddof=1))"
   ]
  },
  {
   "cell_type": "code",
   "execution_count": 14,
   "metadata": {},
   "outputs": [],
   "source": [
    "np.save(\"logs/GM_2d_M_test_(K = {}, n_tilde={}).npy\".format(deg, n_tilde), M_test)"
   ]
  }
 ],
 "metadata": {
  "kernelspec": {
   "display_name": "Python 3",
   "language": "python",
   "name": "python3"
  },
  "language_info": {
   "codemirror_mode": {
    "name": "ipython",
    "version": 3
   },
   "file_extension": ".py",
   "mimetype": "text/x-python",
   "name": "python",
   "nbconvert_exporter": "python",
   "pygments_lexer": "ipython3",
   "version": "3.7.2"
  }
 },
 "nbformat": 4,
 "nbformat_minor": 2
}
