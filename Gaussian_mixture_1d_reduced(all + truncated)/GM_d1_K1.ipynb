{
 "cells": [
  {
   "cell_type": "markdown",
   "metadata": {},
   "source": [
    "### Gaussian mixture \n",
    "\n",
    "$\\pi (x) = \\frac{1}{2(2\\pi)^{d/2}} \\left( e ^{\\frac{-| x-a|^2}{2}}  + e ^{\\frac{-| x+a|^2}{2}} \\right), \\quad x \\in\\mathbb R^d$\n",
    "\n",
    "$U(x) = \\frac{1}{2} \\|x - a\\|_2^2 - \\text{log}(1 + e^{-2x^\\top a})$\n",
    "\n",
    "$\\nabla U(x) = x-a +2a(1 + e^{2 x^\\top a})^{-1}$\n",
    "\n",
    "$ m = 1 - \\|a \\|_2^2 \\quad $ (strongly convex function)\n",
    "\n",
    "$M = 1 \\quad$  (Lipschitz continuous gradient)\n",
    "\n",
    "$a = (\\frac{1}{\\sqrt{2d}}, \\dots, \\frac{1}{\\sqrt{2d}})$\n",
    "\n",
    "##### Setup:\n",
    "\n",
    "d = 1\n",
    "\n",
    "n = 1000\n",
    "\n",
    "N = 50000\n",
    "\n",
    "N_train = 500 (100)\n",
    "\n",
    "N_test = 200\n",
    "\n",
    "polynomials_max_deg = 5\n",
    "\n",
    "$f(x) = x$\n",
    "\n",
    "$k = 1$"
   ]
  },
  {
   "cell_type": "code",
   "execution_count": 1,
   "metadata": {
    "collapsed": true
   },
   "outputs": [],
   "source": [
    "import numpy as np\n",
    "import scipy \n",
    "from scipy.stats import bernoulli\n",
    "from scipy.stats import multivariate_normal\n",
    "from scipy.misc import comb\n",
    "from matplotlib import pyplot as plt\n",
    "from scipy.special import hermitenorm\n",
    "from tqdm import tqdm\n",
    "from numpy.polynomial.hermite_e import HermiteE\n",
    "import matplotlib.mlab as mlab\n",
    "%matplotlib inline\n",
    "from joblib import Parallel, delayed\n",
    "from scipy.optimize import minimize\n",
    "from itertools import product\n",
    "import sys\n",
    "import warnings\n",
    "from sklearn import linear_model\n",
    "import math\n",
    "if not sys.warnoptions:\n",
    "    warnings.simplefilter(\"ignore\")\n",
    "from numpy.random import normal  \n",
    "import timeit"
   ]
  },
  {
   "cell_type": "markdown",
   "metadata": {},
   "source": [
    "### Parameters inicialization, ULA algorithm"
   ]
  },
  {
   "cell_type": "code",
   "execution_count": 2,
   "metadata": {
    "collapsed": true
   },
   "outputs": [],
   "source": [
    "d = 1\n",
    "a = 1/np.sqrt(2)\n",
    "\n",
    "def f_grad(x):\n",
    "    return x-a+2*a/(1 + np.exp(2* (x.T * a)))\n",
    "\n",
    "def generate_lmc(a,d,N):\n",
    "    h = 0.1\n",
    "    K = 10000\n",
    "    vkh = np.empty((K + N,d,1))\n",
    "    ksi = np.random.randn(K+N,d,1)\n",
    "    vkh[0] = (np.random.normal(0,1,d)).reshape(d,1)\n",
    "    for i in range(1,K+N):\n",
    "        grad = f_grad(vkh[i-1])\n",
    "        vkh[i] = vkh[i-1] - h*grad + np.sqrt(2*h) * ksi[i]\n",
    "    return vkh[K-1:], ksi[K-1:]"
   ]
  },
  {
   "cell_type": "markdown",
   "metadata": {},
   "source": [
    "### Sample generation"
   ]
  },
  {
   "cell_type": "code",
   "execution_count": 3,
   "metadata": {
    "collapsed": true
   },
   "outputs": [],
   "source": [
    "np.random.seed(123)\n",
    "X, Z = generate_lmc(a,d,100000)"
   ]
  },
  {
   "cell_type": "code",
   "execution_count": 4,
   "metadata": {},
   "outputs": [
    {
     "data": {
      "image/png": "[encoded data removed]",
      "text/plain": [
       "<matplotlib.figure.Figure at 0x7f0264292748>"
      ]
     },
     "metadata": {},
     "output_type": "display_data"
    }
   ],
   "source": [
    "def f_1d(x):\n",
    "    return 1/(2 * (2*np.pi)**(1/2)) * (np.exp(-0.5* (x-a)**2) + np.exp(-0.5 *(x+a)**2))\n",
    "\n",
    "plt.figure(figsize=(10,10))\n",
    "n, bins, patches = plt.hist(X.reshape(-1,1), 35, density=True, facecolor='g', alpha=0.85)\n",
    "x = np.linspace(-5,5,100)\n",
    "plt.plot(x, f_1d(x), linestyle='--',linewidth=3.3)\n",
    "plt.grid(linestyle='-', linewidth=0.2, color='black')\n",
    "plt.show()"
   ]
  },
  {
   "cell_type": "markdown",
   "metadata": {},
   "source": [
    "### Ordinary weighted estimator with $$f(x) = x$$"
   ]
  },
  {
   "cell_type": "code",
   "execution_count": 5,
   "metadata": {
    "collapsed": true
   },
   "outputs": [],
   "source": [
    "def local_weighted_estimator(X):\n",
    "    return X.mean()"
   ]
  },
  {
   "cell_type": "code",
   "execution_count": 6,
   "metadata": {},
   "outputs": [
    {
     "name": "stdout",
     "output_type": "stream",
     "text": [
      "Weighted estimator =  -0.0068888723358\n"
     ]
    }
   ],
   "source": [
    "print (\"Weighted estimator = \",local_weighted_estimator(X))"
   ]
  },
  {
   "cell_type": "markdown",
   "metadata": {},
   "source": [
    "### Generation of N_train independent paths"
   ]
  },
  {
   "cell_type": "code",
   "execution_count": 7,
   "metadata": {
    "collapsed": true
   },
   "outputs": [],
   "source": [
    "def generate_lmc_from_initial(x_initial,a,d,N):\n",
    "    h = 0.1\n",
    "    vkh = np.empty((N,d,1))\n",
    "    ksi = np.random.randn(N,d,1)\n",
    "    vkh[0] = x_initial\n",
    "    for i in range(1,N):\n",
    "        grad = f_grad(vkh[i-1])\n",
    "        vkh[i] = vkh[i-1] - h*grad + np.sqrt(2*h) * ksi[i]\n",
    "    return vkh, ksi\n",
    "\n",
    "def generate_paths(x_initial,N_train,a,d,N):\n",
    "    XX = []\n",
    "    ZZ = []\n",
    "    for i in range(N_train):\n",
    "        X, Z = generate_lmc_from_initial(x_initial[-i],a,d,N)\n",
    "        XX.append(X)\n",
    "        ZZ.append(Z)\n",
    "    return np.array(XX),np.array(ZZ)"
   ]
  },
  {
   "cell_type": "code",
   "execution_count": 22,
   "metadata": {
    "collapsed": true
   },
   "outputs": [],
   "source": [
    "np.random.seed(123)\n",
    "XX, ZZ = generate_paths(X,1000,a,d,1000)"
   ]
  },
  {
   "cell_type": "code",
   "execution_count": 23,
   "metadata": {},
   "outputs": [
    {
     "data": {
      "text/plain": [
       "(100, 1000, 1, 1)"
      ]
     },
     "execution_count": 23,
     "metadata": {},
     "output_type": "execute_result"
    }
   ],
   "source": [
    "XX.shape"
   ]
  },
  {
   "cell_type": "markdown",
   "metadata": {},
   "source": [
    "### Generate validation path"
   ]
  },
  {
   "cell_type": "code",
   "execution_count": 24,
   "metadata": {
    "collapsed": true
   },
   "outputs": [],
   "source": [
    "np.random.seed(42)\n",
    "X_validate, Z_validate = generate_lmc_from_initial(X[-5000],a,d,1000)"
   ]
  },
  {
   "cell_type": "code",
   "execution_count": 25,
   "metadata": {},
   "outputs": [
    {
     "data": {
      "image/png": "[encoded data removed]",
      "text/plain": [
       "<matplotlib.figure.Figure at 0x7f0227f18160>"
      ]
     },
     "metadata": {},
     "output_type": "display_data"
    }
   ],
   "source": [
    "n, bins, patches = plt.hist(X_validate.reshape(-1,1), 20, density=True, facecolor='g', alpha=0.8)\n",
    "x = np.linspace(-5,5,100)\n",
    "plt.plot(x, f_1d(x), linestyle='--',linewidth=3.3)\n",
    "plt.title((local_weighted_estimator(X_validate)))\n",
    "plt.show()"
   ]
  },
  {
   "cell_type": "markdown",
   "metadata": {},
   "source": [
    "### (normalized) Hermite polynomials"
   ]
  },
  {
   "cell_type": "code",
   "execution_count": 26,
   "metadata": {
    "collapsed": true
   },
   "outputs": [],
   "source": [
    "def H(k, x):\n",
    "    h = hermitenorm(k)(x)/np.sqrt(math.factorial(k))\n",
    "    return h"
   ]
  },
  {
   "cell_type": "markdown",
   "metadata": {},
   "source": [
    "## Fitting linear regression for \n",
    "\n",
    "## $Q_{p,l}(x) = \\mathbb{E} \\left[f(X_p) | X_l = x\\right]$\n",
    "\n",
    "### Agorithm (one - step expectations):\n",
    "\n",
    "## $\\hat{Q}_{p,l} = argmin_{\\psi \\in \\Psi} \\sum_{s = 1}^{N_{train}} \\left| \\hat{Q}_{p,l+1}(X_{l+1}^{(s)}) - \\psi (X_l^{(s)}) \\right|^2$ \n",
    "\n",
    "### where $\\quad N +1  \\leq l <p \\leq N+n$\n",
    "\n",
    "## $\\hat{Q}_{p,p} (x) = f(x) \\quad \\forall p$ \n",
    "\n",
    "\n",
    "### $\\Psi = \\left\\{ 1,x,x^2, x^3, x^4, x^5 \\right\\}$"
   ]
  },
  {
   "cell_type": "code",
   "execution_count": 145,
   "metadata": {
    "collapsed": true
   },
   "outputs": [],
   "source": [
    "# def pol_ar_1d(x):\n",
    "#     return np.array([1,x,x**2,x**3,x**4,x**5])\n",
    "\n",
    "# def generate_X(XX,l):\n",
    "#     N_train = XX.shape[0]\n",
    "#     X = np.empty((N_train,6))\n",
    "#     for i in range(6):\n",
    "#         pol = lambda t: t ** i\n",
    "#         vfunc = np.vectorize(pol)\n",
    "#         pol_X = vfunc(XX[:,l]).reshape(N_train)\n",
    "#         X[:,i] = pol_X\n",
    "#     return X   \n",
    "\n",
    "# def generate_y(XX,Betas,p,l):\n",
    "#     if p == l:\n",
    "#         y = XX[:,l]\n",
    "#         return y\n",
    "#     N_train = XX.shape[0]\n",
    "#     y = np.zeros(N_train)\n",
    "#     for s in range(N_train):\n",
    "#         y[s] = q_pl_predict(XX[s,l+1],p,l+1,Betas)\n",
    "#     return y\n",
    "\n",
    "# def q_pl_fit(XX):\n",
    "#     N_train = XX.shape[0]\n",
    "#     N = XX.shape[1]\n",
    "#     Betas = np.zeros((N,N,6))\n",
    "#     for p in tqdm(range(N)):\n",
    "#         Betas[p,p] = [0,1,0,0,0,0]\n",
    "#         for l in range (p-1,-1,-1):\n",
    "#             X = generate_X(XX,l)\n",
    "#             y = generate_y(XX,Betas,p,l)\n",
    "#             beta = np.linalg.inv(X.T @ X) @ X.T @ y\n",
    "#             Betas[p,l] = beta\n",
    "#     return Betas\n",
    "\n",
    "# def q_pl_predict(x,p,l,Betas):\n",
    "#     x_pol = pol_ar_1d(x)\n",
    "#     beta = Betas[p,l]\n",
    "#     return (x_pol @ beta)"
   ]
  },
  {
   "cell_type": "code",
   "execution_count": 28,
   "metadata": {
    "collapsed": true
   },
   "outputs": [],
   "source": [
    "# Betas = q_pl_fit(XX)"
   ]
  },
  {
   "cell_type": "code",
   "execution_count": 179,
   "metadata": {
    "collapsed": true
   },
   "outputs": [],
   "source": [
    "# np.save('GM_Betas.npy',Betas)\n",
    "# np.save('GM_XX.npy',XX)\n",
    "# np.save('GM_ZZ.npy',ZZ)"
   ]
  },
  {
   "cell_type": "code",
   "execution_count": 146,
   "metadata": {
    "collapsed": true
   },
   "outputs": [],
   "source": [
    "# Betas = np.load('GM_Betas.npy')\n",
    "# XX = np.load('GM_XX.npy')\n",
    "# ZZ = np.load('GM_ZZ.npy')"
   ]
  },
  {
   "cell_type": "markdown",
   "metadata": {},
   "source": [
    "### Reduced variant"
   ]
  },
  {
   "cell_type": "markdown",
   "metadata": {},
   "source": [
    "## Fitting linear regression for \n",
    "\n",
    "## $Q_{p,l}(x) = \\mathbb{E} \\left[f(X_p) | X_l = x\\right] = G_{p-l}(x) = \\mathbb{E} \\left[ f(\\varPhi ^{p-l} (x, \\xi))\\right]$\n",
    "\n",
    "\n",
    "### $\\forall l: \\quad G_r(x) = \\mathbb{E} \\left[f(X_{l+r}) | X_l = x \\right] $\n",
    "\n",
    "### Algorithm (trajectory + all variations):\n",
    "\n",
    "## $\\hat{G}_r = argmin_{\\psi \\in \\Psi} \\sum_{s = 1}^{N_{train}} \\sum_{l = N + 1}^{N+n-r} \\left| f(X_{l+r}^{(s)}) - \\psi(X_l^{(s)})\\right|^2$\n",
    "\n",
    "### where $\\quad  1 \\leq r \\leq n-1$\n",
    "\n",
    "## $\\hat{G}_0(x) = f(x)$"
   ]
  },
  {
   "cell_type": "code",
   "execution_count": 147,
   "metadata": {
    "collapsed": true
   },
   "outputs": [],
   "source": [
    "def pol_ar_1d(x):\n",
    "    return np.array([1,x])#,x**2,x**3,x**4,x**5])\n",
    "\n",
    "def generate_X_reduced(XX, r):\n",
    "    N_train = XX.shape[0]\n",
    "    N = XX.shape[1]\n",
    "    X = np.empty((N_train * (N-r) ,2))\n",
    "    for i in range(2):\n",
    "        pol = lambda t: t ** i\n",
    "        vfunc = np.vectorize(pol)\n",
    "        pol_X = vfunc(XX[:, :N-r].reshape(-1))\n",
    "        X[:,i] = pol_X\n",
    "    return X \n",
    "\n",
    "\n",
    "def generate_y_reduced(XX,r):\n",
    "    N_train = XX.shape[0]\n",
    "    N = XX.shape[1]\n",
    "    y = np.zeros(N_train * (N-r))\n",
    "    y = XX[:, r:].reshape(-1)\n",
    "    return y\n",
    "\n",
    "def G_pml_fit(XX):\n",
    "    N_train = XX.shape[0]\n",
    "    N = XX.shape[1]\n",
    "    Betas = np.zeros((N,2))\n",
    "    for r in tqdm(range(N)):\n",
    "        X = generate_X_reduced(XX,r)\n",
    "        y = generate_y_reduced(XX,r)\n",
    "        beta = np.linalg.inv(X.T @ X) @ X.T @ y\n",
    "        Betas[r] = beta\n",
    "    return Betas\n",
    "\n",
    "def G_pml_predict(x,pml,Betas):\n",
    "    x_pol = pol_ar_1d(x)\n",
    "    beta = Betas[pml]\n",
    "    return (x_pol @ beta)"
   ]
  },
  {
   "cell_type": "code",
   "execution_count": 103,
   "metadata": {},
   "outputs": [
    {
     "data": {
      "text/plain": [
       "(1000, 1000, 1, 1)"
      ]
     },
     "execution_count": 103,
     "metadata": {},
     "output_type": "execute_result"
    }
   ],
   "source": [
    "np.random.seed(123)\n",
    "XX, ZZ = generate_paths(X,1000,a,d,1000)\n",
    "XX.shape"
   ]
  },
  {
   "cell_type": "code",
   "execution_count": 180,
   "metadata": {},
   "outputs": [],
   "source": [
    "Betas_reduced = G_pml_fit(XX)\n",
    "np.save('GM_Betas_reduced.npy',Betas_reduced)"
   ]
  },
  {
   "cell_type": "code",
   "execution_count": 160,
   "metadata": {},
   "outputs": [],
   "source": [
    "Betas_reduced = np.load('GM_Betas_reduced.npy')"
   ]
  },
  {
   "cell_type": "code",
   "execution_count": 151,
   "metadata": {},
   "outputs": [
    {
     "data": {
      "image/png": "[encoded data removed]",
      "text/plain": [
       "<matplotlib.figure.Figure at 0x7f0224391748>"
      ]
     },
     "metadata": {},
     "output_type": "display_data"
    }
   ],
   "source": [
    "pml = 120\n",
    "plt.figure(figsize=(10,10))\n",
    "plt.scatter(generate_X_reduced(XX, pml)[:,1],generate_y_reduced(XX, pml), s = 15)\n",
    "\n",
    "x = np.linspace(-5,5,50).reshape(50,1)\n",
    "y =[]\n",
    "for i in range(50):\n",
    "    y.append(G_pml_predict(x[i],pml,Betas_reduced))\n",
    "plt.plot(x,np.array(y), color = 'r',alpha = 0.9, linewidth = 3)\n",
    "plt.grid(linestyle='-', linewidth='0.2', color='black')\n",
    "plt.show()"
   ]
  },
  {
   "cell_type": "markdown",
   "metadata": {},
   "source": [
    "### Illustration of fitted regression"
   ]
  },
  {
   "cell_type": "code",
   "execution_count": 158,
   "metadata": {},
   "outputs": [
    {
     "data": {
      "image/png": "[encoded data removed]",
      "text/plain": [
       "<matplotlib.figure.Figure at 0x7f02129d15c0>"
      ]
     },
     "metadata": {},
     "output_type": "display_data"
    }
   ],
   "source": [
    "p = 35\n",
    "l = 9\n",
    "\n",
    "plt.figure(figsize=(10,10))\n",
    "# plt.scatter(generate_X(XX,l)[:,1],generate_y(XX,Betas,p,l), s = 15 , c = 'r')\n",
    "plt.scatter(generate_X_reduced(XX, p-l)[:,1],generate_y_reduced(XX,p-l), s = 15, c = 'b', alpha= 0.0015)\n",
    "\n",
    "# x = np.linspace(-5,5,50).reshape(50,1)\n",
    "# y =[]\n",
    "# for i in range(50):\n",
    "#     y.append(q_pl_predict(x[i],p,l,Betas))\n",
    "\n",
    "\n",
    "\n",
    "y_reduced =[]\n",
    "for i in range(50):\n",
    "    y_reduced.append(G_pml_predict(x[i],p-l,Betas_reduced))\n",
    "    \n",
    "# plt.plot(x,np.array(y_reduced), color = 'r',alpha = 0.9, linewidth = 3)\n",
    "plt.plot(x,np.array(y), color = 'b',alpha = 0.9, linewidth = 3)\n",
    "plt.xlim((-4,4))\n",
    "plt.grid(linestyle='-', linewidth='0.2', color='black')\n",
    "plt.show()"
   ]
  },
  {
   "cell_type": "markdown",
   "metadata": {},
   "source": [
    "### Explicit formula for $\\hat{a}_{p,l,k}(x)$:\n",
    "\n",
    "#### $\\hat{a}_{p,l,k} = \\mathbb{E} \\left[ H_k(\\xi) \\hat{Q}_{p,l}(x - h\\nabla U(x) + \\sqrt{2h}\\xi)\\right] =\\int_{-\\infty}^{\\infty} H_k(\\xi) \\hat{Q}_{p,l}(x - h\\nabla U(x) + \\sqrt{2h}\\xi) \\varphi (\\xi) d \\xi$\n",
    "\n",
    "#### $\\hat{Q}_{p,l} (y) = \\sum_{i=0}^{i=m} \\beta_i y^i$\n",
    "\n",
    "#### $\\hat{a}_{p,l,k} = \\int_{-\\infty}^{\\infty} H_k(\\xi)  \\left[ \\sum_{i=0}^{i=m} \\beta_i (x - h\\nabla U(x) + \\sqrt{2h}\\xi)^i \\right] \\varphi (\\xi) d \\xi = \\left [ \\hat{x} = x - h\\nabla U(x)\\right] = \\sum_{i=0}^{i=m} \\beta_i\\sum_{j=0}^{j=i} C_i^j \\hat{x}^{i-j} (\\sqrt{2h})^j \\int_{-\\infty}^{\\infty} H_k (\\xi) \\xi^j \\varphi (\\xi)d \\xi$ \n",
    "\n",
    "####  $\\text{since }\\quad \\xi^j = j! \\sum_{s = 0}^{s \\leq j/2} \\frac{1}{2^s} \\frac{1}{s! \\sqrt{(j-2s)!}}H_{j-2s}(\\xi) \\quad \\text{we have}$:\n",
    "\n",
    "#### $\\hat{a}_{p,l,k} = \\sum_{i=0}^{i=m}  \\sum_{j=0}^{j=i} \\sum_{s = 0}^{s \\leq j/2} j! \\frac{1}{2^s} \\frac{1}{s!\\sqrt{(j-2s)!}}\\beta_i C_i^j \\hat{x}^{i-j} (\\sqrt{2h})^j \\int_{-\\infty}^{\\infty} H_k(\\xi) H_{j - 2s}(\\xi)\\varphi(\\xi) d \\xi $\n",
    "\n",
    "#### $\\text{and}\\quad \\int_{-\\infty}^{\\infty} H_k(\\xi) H_{j - 2s}(\\xi) \\varphi(\\xi) d \\xi = \\begin{cases}  1&\\text{if $ k = j-2s$}\\\\ 0 &\\text{else} \\end{cases}$"
   ]
  },
  {
   "cell_type": "code",
   "execution_count": 162,
   "metadata": {
    "collapsed": true
   },
   "outputs": [],
   "source": [
    "def a_plk(X,p,l,k):\n",
    "    h = 0.1\n",
    "    S = 0\n",
    "    x_hat = X[l-1] - h*f_grad(X[l-1])\n",
    "    for i in range(6):\n",
    "        for j in range (i+1):\n",
    "            for s in range (int(j/2 +1)):\n",
    "                if (k ==j - 2*s):\n",
    "                    S = S +  Betas[p,l,i] * comb(N=i, k = j, exact = True) * x_hat**(i-j) * math.factorial(j) *\\\n",
    "                    1/math.factorial(s) *  1 / np.sqrt(math.factorial(j-2*s)) *np.sqrt(2*h)**j /2**s\n",
    "                else:\n",
    "                    pass\n",
    "    return S\n",
    "\n",
    "def a_plk_reduced(X,p,l,k):\n",
    "    h = 0.1\n",
    "    S = 0\n",
    "    x_hat = X[l-1] - h*f_grad(X[l-1])\n",
    "    for i in range(2):\n",
    "        for j in range (i+1):\n",
    "            for s in range (int(j/2 +1)):\n",
    "                if (k ==j - 2*s):\n",
    "                    S = S +  Betas_reduced[p-l,i] * comb(N=i, k = j, exact = True) * x_hat**(i-j) * math.factorial(j) *\\\n",
    "                    1/math.factorial(s) *  1 / np.sqrt(math.factorial(j-2*s)) *np.sqrt(2*h)**j /2**s\n",
    "                else:\n",
    "                    pass\n",
    "    return S"
   ]
  },
  {
   "cell_type": "markdown",
   "metadata": {},
   "source": [
    "## Check on train sample"
   ]
  },
  {
   "cell_type": "code",
   "execution_count": 163,
   "metadata": {},
   "outputs": [
    {
     "name": "stderr",
     "output_type": "stream",
     "text": [
      "100%|██████████| 1000/1000 [00:00<00:00, 43060.02it/s]"
     ]
    },
    {
     "name": "stdout",
     "output_type": "stream",
     "text": [
      "variance of weighted estimator (1.4) on training sample: 0.0453206814801\n"
     ]
    },
    {
     "name": "stderr",
     "output_type": "stream",
     "text": [
      "\n"
     ]
    }
   ],
   "source": [
    "def estimator(XX):\n",
    "    Pi = np.empty(XX.shape[0])\n",
    "    for i in tqdm(range(XX.shape[0])):\n",
    "        Pi[i] = local_weighted_estimator(XX[i])\n",
    "    return Pi\n",
    "\n",
    "P = estimator(XX)\n",
    "print (\"variance of weighted estimator (1.4) on training sample:\",P.var(ddof=1))"
   ]
  },
  {
   "cell_type": "code",
   "execution_count": 164,
   "metadata": {
    "collapsed": true
   },
   "outputs": [],
   "source": [
    "def M_bias_truncated(k,X,Z,reduced = True, max_length = 100):\n",
    "    N = X.shape[0]\n",
    "    S = 0\n",
    "    for p in range(N):\n",
    "        for l in range (p+1):\n",
    "            if p-l<max_length:\n",
    "                s = a_plk_reduced(X,p,l,k)* H(k,Z[l])\n",
    "                S = S + s\n",
    "    return S/N\n",
    "\n",
    "def M_bias(k,X,Z,reduced = True):\n",
    "    N = X.shape[0]\n",
    "    S = 0\n",
    "    for p in range(N):\n",
    "        for l in range (p+1):\n",
    "            s = a_plk_reduced(X,p,l,k)* H(k,Z[l])\n",
    "            S = S + s\n",
    "    return S/N"
   ]
  },
  {
   "cell_type": "code",
   "execution_count": 166,
   "metadata": {
    "collapsed": true
   },
   "outputs": [],
   "source": [
    "def estimator_bias(k,XX,ZZ,Betas,first, last, truncated = True):\n",
    "    if truncated:\n",
    "        M_results = Parallel(n_jobs=-1)(delayed(M_bias_truncated)(k,XX[i],ZZ[i],reduced = reduced)for i in range(first, last))\n",
    "    else:\n",
    "        M_results = Parallel(n_jobs=-1)(delayed(M_bias)(k,XX[i],ZZ[i],reduced = reduced)for i in range(first, last))\n",
    "    return np.array(M_results).reshape(-1)"
   ]
  },
  {
   "cell_type": "markdown",
   "metadata": {},
   "source": [
    "# check on test "
   ]
  },
  {
   "cell_type": "code",
   "execution_count": 144,
   "metadata": {},
   "outputs": [
    {
     "name": "stderr",
     "output_type": "stream",
     "text": [
      "100%|██████████| 200/200 [00:00<00:00, 82281.59it/s]\n"
     ]
    }
   ],
   "source": [
    "np.random.seed(987)\n",
    "X, Z = generate_lmc(a,d,10000)\n",
    "XX_test, ZZ_test = generate_paths(X,200,a,d,1000)\n",
    "P_test = estimator(XX_test)"
   ]
  },
  {
   "cell_type": "code",
   "execution_count": 181,
   "metadata": {
    "collapsed": true
   },
   "outputs": [],
   "source": [
    "np.save('GM_XX_test.npy', XX_test)\n",
    "np.save('GM_ZZ_test.npy', ZZ_test)"
   ]
  },
  {
   "cell_type": "markdown",
   "metadata": {},
   "source": [
    "## ( reduced + all pairs)"
   ]
  },
  {
   "cell_type": "code",
   "execution_count": 174,
   "metadata": {},
   "outputs": [],
   "source": [
    "M_results_test_1 = estimator_bias(1,XX_test,ZZ_test,Betas_reduced, 0, 200, truncated=False)"
   ]
  },
  {
   "cell_type": "code",
   "execution_count": 182,
   "metadata": {
    "collapsed": true
   },
   "outputs": [],
   "source": [
    "np.save('GM_M_results_allpairs',M_results_test_1)"
   ]
  },
  {
   "cell_type": "code",
   "execution_count": 175,
   "metadata": {},
   "outputs": [
    {
     "name": "stdout",
     "output_type": "stream",
     "text": [
      "Variance of Pi on test =  0.0430008535954\n",
      "-----------------------------------------------------\n",
      "Variance of new estimator (K=1) on test =  0.000411751093299\n",
      "=====================================================\n"
     ]
    }
   ],
   "source": [
    "print ('Variance of Pi on test = ',P_test.var(ddof = 1))\n",
    "print ('-----------------------------------------------------')\n",
    "print ('Variance of new estimator (K=1) on test = ',(P_test-M_results_test_1).var(ddof = 1))\n",
    "print (\"=====================================================\")"
   ]
  },
  {
   "cell_type": "code",
   "execution_count": 176,
   "metadata": {},
   "outputs": [
    {
     "data": {
      "image/png": "[encoded data removed]",
      "text/plain": [
       "<matplotlib.figure.Figure at 0x7f0212ae0ac8>"
      ]
     },
     "metadata": {},
     "output_type": "display_data"
    }
   ],
   "source": [
    "plt.figure(figsize=(10,10))\n",
    "n, bins, patches = plt.hist(P_test.reshape(-1,1),30, facecolor='r', density=True,\n",
    "                            alpha=1, label=\"Distribution of $\\pi$\")\n",
    "\n",
    "n, bins, patches = plt.hist((P_test-M_results_test_1).reshape(-1,1), 30, density=True, facecolor='g', \n",
    "                            alpha=0.85, label=\"Distribution of $\\pi - M^1_N$\")\n",
    "\n",
    "plt.legend(loc=2, prop={'size': 12})\n",
    "plt.grid(linestyle='-', linewidth=0.2, color='black')\n",
    "plt.show()"
   ]
  },
  {
   "cell_type": "markdown",
   "metadata": {},
   "source": [
    "## ( reduced + truncated)"
   ]
  },
  {
   "cell_type": "code",
   "execution_count": 170,
   "metadata": {
    "collapsed": true
   },
   "outputs": [],
   "source": [
    "M_results_test_2 = estimator_bias(1,XX_test,ZZ_test,Betas_reduced, 0, 200)"
   ]
  },
  {
   "cell_type": "code",
   "execution_count": 183,
   "metadata": {
    "collapsed": true
   },
   "outputs": [],
   "source": [
    "np.save('GM_M_results_truncated',M_results_test_2)"
   ]
  },
  {
   "cell_type": "code",
   "execution_count": 171,
   "metadata": {},
   "outputs": [
    {
     "name": "stdout",
     "output_type": "stream",
     "text": [
      "Variance of Pi on test =  0.0430008535954\n",
      "-----------------------------------------------------\n",
      "Variance of new estimator (K=1) on test =  0.000427514393989\n",
      "=====================================================\n"
     ]
    }
   ],
   "source": [
    "print ('Variance of Pi on test = ',P_test.var(ddof = 1))\n",
    "print ('-----------------------------------------------------')\n",
    "print ('Variance of new estimator (K=1) on test = ',(P_test-M_results_test_2).var(ddof = 1))\n",
    "print (\"=====================================================\")"
   ]
  },
  {
   "cell_type": "code",
   "execution_count": 172,
   "metadata": {},
   "outputs": [
    {
     "data": {
      "image/png": "[encoded data removed]",
      "text/plain": [
       "<matplotlib.figure.Figure at 0x7f02242e7c18>"
      ]
     },
     "metadata": {},
     "output_type": "display_data"
    }
   ],
   "source": [
    "plt.figure(figsize=(10,10))\n",
    "n, bins, patches = plt.hist(P_test.reshape(-1,1),30, facecolor='r', density=True,\n",
    "                            alpha=1, label=\"Distribution of $\\pi$\")\n",
    "\n",
    "n, bins, patches = plt.hist((P_test-M_results_test_2).reshape(-1,1), 30, density=True, facecolor='g', \n",
    "                            alpha=0.85, label=\"Distribution of $\\pi - M^1_N$\")\n",
    "\n",
    "plt.legend(loc=2, prop={'size': 12})\n",
    "plt.grid(linestyle='-', linewidth=0.2, color='black')\n",
    "plt.show()"
   ]
  },
  {
   "cell_type": "code",
   "execution_count": 178,
   "metadata": {},
   "outputs": [
    {
     "name": "stdout",
     "output_type": "stream",
     "text": [
      "Variance of Pi on test =  0.0430008535954\n",
      "-----------------------------------------------------\n",
      "Variance of new estimator (K=1) on test =  0.000411751093299\n",
      "=====================================================\n",
      "Variance of new estimator (K=1) on test =  0.000427514393989\n",
      "=====================================================\n"
     ]
    }
   ],
   "source": [
    "print ('Variance of Pi on test = ',P_test.var(ddof = 1))\n",
    "print ('-----------------------------------------------------')\n",
    "print ('Variance of new estimator (K=1) on test = ',(P_test-M_results_test_1).var(ddof = 1))\n",
    "print (\"=====================================================\")\n",
    "print ('Variance of new estimator (K=1) on test = ',(P_test-M_results_test_2).var(ddof = 1))\n",
    "print (\"=====================================================\")"
   ]
  },
  {
   "cell_type": "code",
   "execution_count": 177,
   "metadata": {},
   "outputs": [
    {
     "data": {
      "image/png": "[encoded data removed]",
      "text/plain": [
       "<matplotlib.figure.Figure at 0x7f0223f4bf60>"
      ]
     },
     "metadata": {},
     "output_type": "display_data"
    }
   ],
   "source": [
    "plt.figure(figsize=(10,10))\n",
    "\n",
    "# generate some random test data\n",
    "all_data = [P_test, P_test - M_results_test_1, P_test - M_results_test_2]\n",
    "\n",
    "# plot violin plot\n",
    "plt.boxplot(all_data)\n",
    "plt.title('violin plot')\n",
    "\n",
    "plt.show()"
   ]
  },
  {
   "cell_type": "code",
   "execution_count": null,
   "metadata": {
    "collapsed": true
   },
   "outputs": [],
   "source": []
  }
 ],
 "metadata": {
  "kernelspec": {
   "display_name": "Python 3",
   "language": "python",
   "name": "python3"
  },
  "language_info": {
   "codemirror_mode": {
    "name": "ipython",
    "version": 3
   },
   "file_extension": ".py",
   "mimetype": "text/x-python",
   "name": "python",
   "nbconvert_exporter": "python",
   "pygments_lexer": "ipython3",
   "version": "3.6.3"
  }
 },
 "nbformat": 4,
 "nbformat_minor": 2
}
