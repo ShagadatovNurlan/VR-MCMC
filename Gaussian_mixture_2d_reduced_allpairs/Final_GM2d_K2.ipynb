{
 "cells": [
  {
   "cell_type": "markdown",
   "metadata": {},
   "source": [
    "### Gaussian mixture \n",
    "\n",
    "## $\\pi (x) = \\frac{1}{2(2\\pi)^{d/2}} \\left( e ^{\\frac{-| x-a|^2}{2}}  + e ^{\\frac{-| x+a|^2}{2}} \\right), \\quad x \\in\\mathbb R^d$\n",
    "\n",
    "$U(x) = \\frac{1}{2} \\|x - a\\|_2^2 - \\text{log}(1 + e^{-2x^\\top a})$\n",
    "\n",
    "$\\nabla U(x) = x-a +2a(1 + e^{2 x^\\top a})^{-1}$\n",
    "\n",
    "$ m = 1 - \\|a \\|_2^2 \\quad $ (strongly convex function)\n",
    "\n",
    "$M = 1 \\quad$  (Lipschitz continuous gradient)\n",
    "\n",
    "$a = (\\frac{1}{\\sqrt{2d}}, \\dots, \\frac{1}{\\sqrt{2d}})$\n",
    "\n",
    "##### Setup:\n",
    "\n",
    "d = 2\n",
    "\n",
    "n = 1000\n",
    "\n",
    "N = 50000\n",
    "\n",
    "N_train =  100\n",
    "\n",
    "N_test = 200\n",
    "\n",
    "polynomials_max_deg = 3\n",
    "\n",
    "$f(x) = x_1 + x_2$\n",
    "\n",
    "$K = 2$"
   ]
  },
  {
   "cell_type": "code",
   "execution_count": 1,
   "metadata": {
    "collapsed": true
   },
   "outputs": [],
   "source": [
    "import numpy as np\n",
    "import scipy \n",
    "from scipy.stats import bernoulli\n",
    "from scipy.stats import multivariate_normal\n",
    "from scipy.misc import comb\n",
    "from matplotlib import pyplot as plt\n",
    "from scipy.special import hermitenorm\n",
    "from tqdm import tqdm\n",
    "from numpy.polynomial.hermite_e import HermiteE\n",
    "import matplotlib.mlab as mlab\n",
    "%matplotlib inline\n",
    "from joblib import Parallel, delayed\n",
    "from scipy.optimize import minimize\n",
    "from itertools import product\n",
    "import sys\n",
    "import warnings\n",
    "from sklearn import linear_model\n",
    "import math\n",
    "if not sys.warnoptions:\n",
    "    warnings.simplefilter(\"ignore\")\n",
    "from numpy.random import normal  \n",
    "import timeit"
   ]
  },
  {
   "cell_type": "markdown",
   "metadata": {},
   "source": [
    "### Parameters inicialization, ULA algorithm"
   ]
  },
  {
   "cell_type": "code",
   "execution_count": 2,
   "metadata": {
    "collapsed": true
   },
   "outputs": [],
   "source": [
    "d = 2\n",
    "a = np.ones((d,1)) / np.sqrt(2*d)\n",
    "\n",
    "def f_grad(x):\n",
    "    return x-a+2*a/(1 + np.exp(2* (x.T @ a)))\n",
    "\n",
    "def generate_lmc(a,d,N):\n",
    "    h = 0.1\n",
    "    K = 10000\n",
    "    vkh = np.empty((K + N,d,1))\n",
    "    ksi = np.random.randn(K+N,d,1)\n",
    "    vkh[0] = (np.random.normal(0,1,d)).reshape(d,1)\n",
    "    for i in range(1,K+N):\n",
    "        grad = f_grad(vkh[i-1])\n",
    "        vkh[i] = vkh[i-1] - h*grad + np.sqrt(2*h) * ksi[i]\n",
    "    return vkh[K:], ksi[K:]"
   ]
  },
  {
   "cell_type": "markdown",
   "metadata": {},
   "source": [
    "### Sample generation"
   ]
  },
  {
   "cell_type": "code",
   "execution_count": 3,
   "metadata": {
    "collapsed": true
   },
   "outputs": [],
   "source": [
    "np.random.seed(2342)\n",
    "X, Z = generate_lmc(a,d, 1000000)"
   ]
  },
  {
   "cell_type": "code",
   "execution_count": 4,
   "metadata": {},
   "outputs": [
    {
     "data": {
      "image/png": "[encoded data removed]",
      "text/plain": [
       "<matplotlib.figure.Figure at 0x7f3e40571470>"
      ]
     },
     "metadata": {},
     "output_type": "display_data"
    }
   ],
   "source": [
    "plt.figure(figsize=(10,10))\n",
    "n, bins, patches = plt.hist(X[:,1].reshape(-1,1), 25, density=True, facecolor='g', alpha=0.75)\n",
    "x = np.linspace(-5,5,100)\n",
    "plt.show()"
   ]
  },
  {
   "cell_type": "markdown",
   "metadata": {},
   "source": [
    "### Ordinary weighted estimator with $$f(x) = x$$"
   ]
  },
  {
   "cell_type": "code",
   "execution_count": 5,
   "metadata": {
    "collapsed": true
   },
   "outputs": [],
   "source": [
    "def local_weighted_estimator(X):\n",
    "    return X[:,0].mean() + X[:,1].mean()"
   ]
  },
  {
   "cell_type": "code",
   "execution_count": 6,
   "metadata": {},
   "outputs": [
    {
     "name": "stdout",
     "output_type": "stream",
     "text": [
      "Weighted estimator =  -0.00790899409333\n"
     ]
    }
   ],
   "source": [
    "print (\"Weighted estimator = \",local_weighted_estimator(X))"
   ]
  },
  {
   "cell_type": "markdown",
   "metadata": {},
   "source": [
    "### Generation of N_train independent paths"
   ]
  },
  {
   "cell_type": "code",
   "execution_count": 7,
   "metadata": {
    "collapsed": true
   },
   "outputs": [],
   "source": [
    "def generate_lmc_from_initial(x_initial,a,d,N):\n",
    "    h = 0.1\n",
    "    vkh = np.empty((N,d,1))\n",
    "    ksi = np.random.randn(N,d,1)\n",
    "    vkh[0] = x_initial\n",
    "    for i in range(1,N):\n",
    "        grad = f_grad(vkh[i-1])\n",
    "        vkh[i] = vkh[i-1] - h*grad + np.sqrt(2*h) * ksi[i]\n",
    "    return vkh, ksi\n",
    "\n",
    "def generate_paths(x_initial,N_train,a,d,N):\n",
    "    XX = []\n",
    "    ZZ = []\n",
    "    for i in range(N_train):\n",
    "        X, Z = generate_lmc_from_initial(x_initial[-i],a,d,N)\n",
    "        XX.append(X)\n",
    "        ZZ.append(Z)\n",
    "    return np.array(XX),np.array(ZZ)"
   ]
  },
  {
   "cell_type": "code",
   "execution_count": 8,
   "metadata": {
    "collapsed": true
   },
   "outputs": [],
   "source": [
    "np.random.seed(123)\n",
    "XX, ZZ = generate_paths(X,100,a,d,1000)"
   ]
  },
  {
   "cell_type": "code",
   "execution_count": 9,
   "metadata": {},
   "outputs": [
    {
     "data": {
      "text/plain": [
       "(100, 1000, 2, 1)"
      ]
     },
     "execution_count": 9,
     "metadata": {},
     "output_type": "execute_result"
    }
   ],
   "source": [
    "XX.shape"
   ]
  },
  {
   "cell_type": "markdown",
   "metadata": {},
   "source": [
    "### Generate validation path"
   ]
  },
  {
   "cell_type": "code",
   "execution_count": 10,
   "metadata": {
    "collapsed": true
   },
   "outputs": [],
   "source": [
    "np.random.seed(42)\n",
    "X_validate, Z_validate = generate_lmc_from_initial(X[-5000],a,d,1000)"
   ]
  },
  {
   "cell_type": "code",
   "execution_count": 11,
   "metadata": {},
   "outputs": [
    {
     "data": {
      "image/png": "[encoded data removed]",
      "text/plain": [
       "<matplotlib.figure.Figure at 0x7f3e0e804128>"
      ]
     },
     "metadata": {},
     "output_type": "display_data"
    }
   ],
   "source": [
    "plt.figure(figsize=(10,10))\n",
    "n, bins, patches = plt.hist(X_validate[:,1].reshape(-1,1), 20, density=True, facecolor='g', alpha=0.75)\n",
    "x = np.linspace(-5,5,100)\n",
    "plt.title((local_weighted_estimator(X_validate)))\n",
    "plt.show()"
   ]
  },
  {
   "cell_type": "markdown",
   "metadata": {},
   "source": [
    "### (normalized) Hermite polynomials"
   ]
  },
  {
   "cell_type": "code",
   "execution_count": 12,
   "metadata": {
    "collapsed": true
   },
   "outputs": [],
   "source": [
    "def generate_k_vec(d, K):\n",
    "    r = list(range(K+1))\n",
    "    k = []\n",
    "    for roll in product(r, repeat = d):\n",
    "        k.append(list(roll))\n",
    "    k.remove([0,0])\n",
    "    return k\n",
    "def H(k, x):\n",
    "    h = hermitenorm(k)(x) /  np.sqrt(math.factorial(k))\n",
    "    return h\n",
    "def Hermite_val(k_vec,x_vec):\n",
    "    P = 1.0\n",
    "    d = x_vec.shape[0]\n",
    "    for i in range(d):\n",
    "        P = P * H(k_vec[i],x_vec[i])\n",
    "    return P"
   ]
  },
  {
   "cell_type": "code",
   "execution_count": 13,
   "metadata": {},
   "outputs": [
    {
     "data": {
      "text/plain": [
       "[[0, 1], [0, 2], [1, 0], [1, 1], [1, 2], [2, 0], [2, 1], [2, 2]]"
      ]
     },
     "execution_count": 13,
     "metadata": {},
     "output_type": "execute_result"
    }
   ],
   "source": [
    "k_comb = generate_k_vec(d,2)\n",
    "k_comb"
   ]
  },
  {
   "cell_type": "markdown",
   "metadata": {},
   "source": [
    "### Reduced variant"
   ]
  },
  {
   "cell_type": "markdown",
   "metadata": {},
   "source": [
    "## Fitting linear regression for \n",
    "\n",
    "## $Q_{p,l}(x) = \\mathbb{E} \\left[f(X_p) | X_l = x\\right] = G_{p-l}(x) = \\mathbb{E} \\left[ f(\\varPhi ^{p-l} (x, \\xi))\\right]$\n",
    "\n",
    "\n",
    "### $\\forall l: \\quad G_r(x) = \\mathbb{E} \\left[f(X_{l+r}) | X_l = x \\right] $\n",
    "\n",
    "### Algorithm (trajectory + all variations):\n",
    "\n",
    "## $\\hat{G}_r = argmin_{\\psi \\in \\Psi} \\sum_{s = 1}^{N_{train}} \\sum_{l = N + 1}^{N+n-r} \\left| f(X_{l+r}^{(s)}) - \\psi(X_l^{(s)})\\right|^2$\n",
    "\n",
    "### where $\\quad  1 \\leq r \\leq n-1$\n",
    "\n",
    "## $\\hat{G}_0(x) = f(x)$"
   ]
  },
  {
   "cell_type": "code",
   "execution_count": 47,
   "metadata": {
    "collapsed": true
   },
   "outputs": [],
   "source": [
    "def pol_ar_1d(x): #x.shape = (2,1)\n",
    "    return np.array([1,x[0],x[1],x[0]*x[1],x[0]**2,x[1]**2,x[0]**2 *x[1],x[0]* x[1]**2, x[0]**3, x[1]**3])\n",
    "\n",
    "def generate_X_reduced(XX, r):\n",
    "    N_train = XX.shape[0]\n",
    "    N = XX.shape[1]\n",
    "    X = np.empty((N_train * (N-r) ,10))\n",
    "    all_points = XX[:, :N-r].reshape(-1,2)\n",
    "    X[:,0] = np.ones(N_train * (N-r))\n",
    "    X[:,1] = all_points[:,0].squeeze()\n",
    "    X[:,2] =all_points[:,1].squeeze()\n",
    "    X[:,3] = (all_points[:,0] * all_points[:,1]).squeeze()\n",
    "    X[:,4] = (all_points[:,0]**2).squeeze()\n",
    "    X[:,5] = (all_points[:,1]**2).squeeze()\n",
    "    X[:,6] = (all_points[:,0]**2 * all_points[:,1]).squeeze()\n",
    "    X[:,7] = (all_points[:,0] * all_points[:,1]**2).squeeze()\n",
    "    X[:,8] = (all_points[:,0]**3).squeeze()\n",
    "    X[:,9] = (all_points[:,1]**3).squeeze()\n",
    "    return X \n",
    "\n",
    "\n",
    "def generate_y_reduced(XX,r):\n",
    "    N_train = XX.shape[0]\n",
    "    N = XX.shape[1]\n",
    "    y = np.zeros(N_train * (N-r))\n",
    "    y = XX[:, r:].sum(axis = 2).reshape(-1)\n",
    "    return y\n",
    "\n",
    "def G_pml_fit(XX):\n",
    "    N_train = XX.shape[0]\n",
    "    N = XX.shape[1]\n",
    "    Betas = np.zeros((N,10))\n",
    "    for r in tqdm(range(N)):\n",
    "        X = generate_X_reduced(XX,r)\n",
    "        y = generate_y_reduced(XX,r)\n",
    "        beta = np.linalg.inv(X.T @ X) @ X.T @ y\n",
    "        Betas[r] = beta\n",
    "    return Betas\n",
    "\n",
    "def G_pml_predict(x,pml,Betas):\n",
    "    x_pol = pol_ar_1d(x)\n",
    "    beta = Betas[pml]\n",
    "    return (x_pol @ beta)"
   ]
  },
  {
   "cell_type": "code",
   "execution_count": 48,
   "metadata": {},
   "outputs": [
    {
     "name": "stderr",
     "output_type": "stream",
     "text": [
      "100%|██████████| 1000/1000 [00:16<00:00, 59.42it/s]\n"
     ]
    }
   ],
   "source": [
    "Betas_reduced = G_pml_fit(XX)"
   ]
  },
  {
   "cell_type": "code",
   "execution_count": 16,
   "metadata": {
    "collapsed": true
   },
   "outputs": [],
   "source": [
    "# np.save('GM(2d)_Betas_reduced.npy',Betas_reduced)\n",
    "# np.save('GM(2d)_XX.npy', XX)\n",
    "# np.save('GM(2d)_ZZ.npy', ZZ)"
   ]
  },
  {
   "cell_type": "code",
   "execution_count": 17,
   "metadata": {
    "collapsed": true
   },
   "outputs": [],
   "source": [
    "Betas_reduced = np.load('GM(2d)_Betas_reduced.npy')"
   ]
  },
  {
   "cell_type": "code",
   "execution_count": 50,
   "metadata": {
    "collapsed": true
   },
   "outputs": [],
   "source": [
    "# fig = plt.figure(figsize=(12,6))\n",
    "# ax = fig.gca(projection='3d')\n",
    "\n",
    "# # Make data.\n",
    "# X_plot = np.arange(-2, 2, 0.25)\n",
    "# Y_plot = np.arange(-2, 2, 0.25)\n",
    "# X_plot, Y_plot = np.meshgrid(X_plot, Y_plot)\n",
    "# R_plot = X_plot**2 + Y_plot**2\n",
    "# Z_plot_real = R_plot - np.cos(X_plot)-1\n",
    "\n",
    "# Z_plot = np.empty((X_plot.shape[0],X_plot.shape[0]))\n",
    "# for i in range(X_plot.shape[0]):\n",
    "#     XY_plot = np.hstack((X_plot[i].reshape(-1,1,1), Y_plot[i].reshape(-1,1,1)))\n",
    "#     for j in range(X_plot.shape[0]):\n",
    "#         Z_plot[i,j] = q_pl_predict(XY_plot[j],55,55,Betas)\n",
    "\n",
    "# # Plot the surfaces\n",
    "# surf_1 = ax.plot_surface(X_plot, Y_plot, Z_plot, cmap = 'autumn',alpha = 0.55,\n",
    "#                       linewidth=0, antialiased=False)\n",
    "\n",
    "# surf_2 = ax.plot_surface(X_plot, Y_plot, Z_plot_real, cmap='Blues',alpha = 0.65,\n",
    "#                       linewidth=0, antialiased=False)\n",
    "\n",
    "# # Customize the z axis.\n",
    "# ax.set_xlim(-2, 2)\n",
    "# ax.set_ylim(-2, 2)\n",
    "# ax.zaxis.set_major_locator(LinearLocator(10))\n",
    "# ax.zaxis.set_major_formatter(FormatStrFormatter('%.02f'))\n",
    "\n",
    "# # Add a color bar which maps values to colors.\n",
    "# fig.colorbar(surf_1, shrink=0.5, aspect=5)\n",
    "# fig.colorbar(surf_2, shrink=0.5, aspect=5)\n",
    "\n",
    "# plt.show()"
   ]
  },
  {
   "cell_type": "markdown",
   "metadata": {},
   "source": [
    "### Explicit formula for $\\hat{a}_{p,l,k}(x)$:\n",
    "\n",
    "#### $\\hat{a}_{p,l,k} (x)= \\mathbb{E} \\left[ H_k(\\xi) \\hat{Q}_{p,l}(x - h\\nabla U(x) + \\sqrt{2h}\\xi)\\right] =\\int_{-\\infty}^{\\infty} H_k(\\xi) \\hat{Q}_{p,l}(x - h\\nabla U(x) + \\sqrt{2h}\\xi) \\varphi (\\xi) d \\xi$\n",
    "\n",
    "#### $\\hat{Q}_{p,l} (y_1, y_2) = \\sum_{i=0}^{i=m} \\sum_{j=0}^{j=m} \\beta_{i,j} y_1^i y_2^j$\n",
    "\n",
    "#### $(\\xi_1, \\xi_2) \\sim \\mathcal{N} (0, I_2)$\n",
    "\n",
    "#### $\\hat{a}_{p,l,k} = \\mathbb{E} \\left[H_{k_1}(\\xi_1)H_{k_2}(\\xi_2) \\left(\\sum_{i=0}^{i=m} \\sum_{j=0}^{j=m} \\beta_{i,j} (\\hat{x}_1 + \\sqrt{2h}\\xi_1)^i(\\hat{x}_2 + \\sqrt{2h}\\xi_2)^j \\right) \\right]=\\\\=\\sum_{i=0}^{i=m} \\sum_{j=0}^{j=m} \\beta_{i,j} \\mathbb{E} \\left[H_{k_1}(\\xi_1)H_{k_2}(\\xi_2)(\\hat{x}_1 + \\sqrt{2h}\\xi_1)^i(\\hat{x}_2 + \\sqrt{2h}\\xi_2)^j  \\right] = \\\\ = \\sum_{i=0}^{i=m} \\sum_{j=0}^{j=m} \\beta_{i,j} E^1_i E^2_j$\n",
    "\n",
    "#### $ \\text{with}\\quad E_i^1 = \\mathbb{E} \\left[H_{k_1}(\\xi_1) (\\hat{x}_1 + \\sqrt{2h}\\xi_1)^i \\right]\\text{and}\\quad E_j^2 = \\mathbb{E} \\left[H_{k_2}(\\xi_2) (\\hat{x}_2 + \\sqrt{2h}\\xi_2)^j \\right]$ \n",
    "\n",
    "####  $\\text{since }\\quad \\xi^j = j! \\sum_{s = 0}^{s \\leq j/2} \\frac{1}{2^s} \\frac{1}{s! \\sqrt{(j-2s)!}}H_{j-2s}(\\xi) \\quad \\text{we have}$:\n",
    "\n",
    "#### $E_i^1 = \\sum_{t=0}^{t=i} \\sum_{s = 0}^{s \\leq t/2} t! \\frac{1}{2^s} \\frac{1}{s! \\sqrt{(t-2s)!}} C_i^t \\hat{x}_1^{i-t} (\\sqrt{2h})^t \\int_{-\\infty}^{\\infty} H_{k_1}(\\xi_1) H_{t - 2s}(\\xi_1) \\varphi(\\xi_1) d \\xi_1$\n",
    "\n",
    "#### $E_j^2 = \\sum_{t=0}^{t=j} \\sum_{s = 0}^{s \\leq t/2} t! \\frac{1}{2^s} \\frac{1}{s! \\sqrt{(t-2s)!}} C_j^t\\hat{x}_2^{j-t} (\\sqrt{2h})^t \\int_{-\\infty}^{\\infty} H_{k_2}(\\xi_2) H_{t - 2s}(\\xi_2) \\varphi(\\xi_2) d \\xi_2 $\n",
    "\n",
    "#### $\\text{and}\\quad \\int_{-\\infty}^{\\infty} H_{k_r}(\\xi_r) H_{w - 2s}(\\xi_r) \\varphi(\\xi_r) d \\xi_r =\\begin{cases}1 &\\text{if $ k_r = w-2s$}\\\\  0 &\\text{else} \\end{cases}$"
   ]
  },
  {
   "cell_type": "code",
   "execution_count": 18,
   "metadata": {
    "collapsed": true
   },
   "outputs": [],
   "source": [
    "degrees = np.array([[0,0],[1,0],[0,1],[1,1],[2,0],[0,2],[2,1],[1,2],[3,0],[0,3]])"
   ]
  },
  {
   "cell_type": "code",
   "execution_count": 19,
   "metadata": {
    "collapsed": true
   },
   "outputs": [],
   "source": [
    "def a_plk(X,p,l,k_vec):\n",
    "    h = 0.1\n",
    "    S = 0\n",
    "    x_hat = X[l-1] - h*f_grad(X[l-1])\n",
    "    for ind,(i,j) in enumerate(degrees):\n",
    "        S_small_1 = 0\n",
    "        S_small_2 = 0\n",
    "        for t in range (i+1):\n",
    "            for s in range (int(t/2 +1)):\n",
    "                if (k_vec[0] == t - 2*s):\n",
    "                    S_small_1 = S_small_1 + comb(N=i, k = t, exact = True) * x_hat[0]**(i-t) * \\\n",
    "                    math.factorial(t)*1/math.factorial(s)*1 / np.sqrt(math.factorial(t-2*s)) *np.sqrt(2*h)**t /2**s\n",
    "                else:\n",
    "                    pass\n",
    "        for t in range (j+1):\n",
    "            for s in range (int(t/2 +1)):\n",
    "                if (k_vec[1] == t - 2*s):\n",
    "                    S_small_2 = S_small_2 + comb(N=j, k = t, exact = True) * x_hat[1]**(j-t) * \\\n",
    "                    math.factorial(t)*1/math.factorial(s)*1 / np.sqrt(math.factorial(t-2*s)) *np.sqrt(2*h)**t /2**s\n",
    "                else:\n",
    "                    pass\n",
    "        S = S + Betas_reduced[p-l,ind] * S_small_1 *S_small_2\n",
    "    return S"
   ]
  },
  {
   "cell_type": "code",
   "execution_count": 20,
   "metadata": {},
   "outputs": [
    {
     "name": "stderr",
     "output_type": "stream",
     "text": [
      "100%|██████████| 100/100 [00:00<00:00, 29444.04it/s]"
     ]
    },
    {
     "name": "stdout",
     "output_type": "stream",
     "text": [
      "variance of weighted estimator (1.4) on training sample: 0.100524361354\n"
     ]
    },
    {
     "name": "stderr",
     "output_type": "stream",
     "text": [
      "\n"
     ]
    }
   ],
   "source": [
    "def estimator(XX):\n",
    "    Pi = np.empty(XX.shape[0])\n",
    "    for i in tqdm(range(XX.shape[0])):\n",
    "        Pi[i] = local_weighted_estimator(XX[i])\n",
    "    return Pi\n",
    "\n",
    "P = estimator(XX)\n",
    "print (\"variance of weighted estimator (1.4) on training sample:\",P.var(ddof=1))\n",
    "\n",
    "def M_bias(k_vec,X,Z,Betas_reduced,i):\n",
    "    N = X.shape[0]\n",
    "    S = 0\n",
    "    for p in range(N):\n",
    "        for l in range (p+1):\n",
    "            s = a_plk(X,p,l,k_vec)* Hermite_val(k_vec,Z[l])\n",
    "            S = S + s\n",
    "    return S/N\n",
    "\n",
    "def estimator_bias(k,XX,ZZ,Betas,first, last):\n",
    "    M_results = Parallel(n_jobs=-1)(delayed(M_bias)(k,XX[i],ZZ[i],Betas_reduced,i)for i in range(first, last))\n",
    "    return np.array(M_results).reshape(-1)"
   ]
  },
  {
   "cell_type": "markdown",
   "metadata": {},
   "source": [
    "### check formula ( full)"
   ]
  },
  {
   "cell_type": "code",
   "execution_count": 51,
   "metadata": {
    "collapsed": true
   },
   "outputs": [],
   "source": [
    "# time_1 = timeit.default_timer()\n",
    "# print (\"P =\",local_weighted_estimator(X_validate))\n",
    "# for i in range(len(k_comb)):\n",
    "#     print (\"M ({}) = {} [Time:{}]\".format(k_comb[i],M_bias(k_comb[i],X_validate,Z_validate,Betas_reduced,0),\n",
    "#                                            timeit.default_timer()-time_1))"
   ]
  },
  {
   "cell_type": "code",
   "execution_count": 52,
   "metadata": {
    "collapsed": true
   },
   "outputs": [],
   "source": [
    "# X = XX[7]\n",
    "# Z = ZZ[7]\n",
    "# time_1 = timeit.default_timer()\n",
    "# print (\"P =\",local_weighted_estimator(X))\n",
    "# for i in range(len(k_comb)):\n",
    "#     print (\"M ({}) = {} [Time:{}]\".format(k_comb[i],M_bias(k_comb[i],X,Z,Betas_reduced,0),timeit.default_timer()-time_1))"
   ]
  },
  {
   "cell_type": "markdown",
   "metadata": {},
   "source": [
    "## Check on test sample"
   ]
  },
  {
   "cell_type": "code",
   "execution_count": 55,
   "metadata": {},
   "outputs": [
    {
     "name": "stderr",
     "output_type": "stream",
     "text": [
      "100%|██████████| 200/200 [00:00<00:00, 34829.18it/s]\n"
     ]
    }
   ],
   "source": [
    "np.random.seed(987)\n",
    "X, Z = generate_lmc(a,d,100000)\n",
    "XX_test, ZZ_test = generate_paths(X,200,a,d,1000)\n",
    "P_test = estimator(XX_test)"
   ]
  },
  {
   "cell_type": "code",
   "execution_count": 23,
   "metadata": {
    "collapsed": true
   },
   "outputs": [],
   "source": [
    "np.save('GM(2d)_XX_test.npy', XX_test)\n",
    "np.save('GM(2d)_ZZ_test.npy', ZZ_test)"
   ]
  },
  {
   "cell_type": "code",
   "execution_count": 24,
   "metadata": {},
   "outputs": [
    {
     "name": "stdout",
     "output_type": "stream",
     "text": [
      "Variance of Pi =  0.0929643537005\n"
     ]
    }
   ],
   "source": [
    "print ('Variance of Pi = ',P_test.var(dtype=np.float64,ddof = 1))"
   ]
  },
  {
   "cell_type": "code",
   "execution_count": null,
   "metadata": {
    "collapsed": true
   },
   "outputs": [],
   "source": [
    "M_1 = estimator_bias(k_comb[0],XX_test,ZZ_test,Betas_reduced, 0, 200)\n",
    "np.save('GM(2d)_M_results_test_1.npy',M_1)\n",
    "\n",
    "M_2 = estimator_bias(k_comb[1],XX_test,ZZ_test,Betas_reduced, 0, 200)\n",
    "np.save('GM(2d)_M_results_test_2.npy',M_2)\n",
    "\n",
    "M_3 = estimator_bias(k_comb[2],XX_test,ZZ_test,Betas_reduced, 0, 200)\n",
    "np.save('GM(2d)_M_results_test_3.npy',M_3)\n",
    "\n",
    "M_4 = estimator_bias(k_comb[3],XX_test,ZZ_test,Betas_reduced, 0, 200) \n",
    "np.save('GM(2d)_M_results_test_4.npy',M_4)\n",
    "\n",
    "M_5 = estimator_bias(k_comb[4],XX_test,ZZ_test,Betas_reduced, 0, 200)\n",
    "np.save('GM(2d)_M_results_test_5.npy',M_5)\n",
    "\n",
    "M_6 = estimator_bias(k_comb[5],XX_test,ZZ_test,Betas_reduced, 0, 200)\n",
    "np.save('GM(2d)_M_results_test_6.npy',M_6)\n",
    "\n",
    "M_7 = estimator_bias(k_comb[6],XX_test,ZZ_test,Betas_reduced, 0, 200)\n",
    "np.save('GM(2d)_M_results_test_7.npy',M_7)\n",
    "\n",
    "M_8 = estimator_bias(k_comb[7],XX_test,ZZ_test,Betas_reduced, 0, 200)\n",
    "np.save('GM(2d)_M_results_test_8.npy',M_8)"
   ]
  },
  {
   "cell_type": "code",
   "execution_count": 29,
   "metadata": {},
   "outputs": [
    {
     "data": {
      "text/plain": [
       "[[0, 1], [0, 2], [1, 0], [1, 1], [1, 2], [2, 0], [2, 1], [2, 2]]"
      ]
     },
     "execution_count": 29,
     "metadata": {},
     "output_type": "execute_result"
    }
   ],
   "source": [
    "k_comb"
   ]
  },
  {
   "cell_type": "code",
   "execution_count": 26,
   "metadata": {
    "collapsed": true
   },
   "outputs": [],
   "source": [
    "M_1 = np.load('GM(2d)_M_results_test_1.npy')\n",
    "M_2 = np.load('GM(2d)_M_results_test_2.npy')\n",
    "M_3 = np.load('GM(2d)_M_results_test_3.npy')\n",
    "M_4 = np.load('GM(2d)_M_results_test_4.npy')\n",
    "M_5 = np.load('GM(2d)_M_results_test_5.npy')\n",
    "M_6 = np.load('GM(2d)_M_results_test_6.npy')\n",
    "M_7 = np.load('GM(2d)_M_results_test_7.npy')\n",
    "M_8 = np.load('GM(2d)_M_results_test_8.npy')"
   ]
  },
  {
   "cell_type": "code",
   "execution_count": 67,
   "metadata": {},
   "outputs": [
    {
     "data": {
      "image/png": "[encoded data removed]",
      "text/plain": [
       "<matplotlib.figure.Figure at 0x7f3e18473908>"
      ]
     },
     "metadata": {},
     "output_type": "display_data"
    }
   ],
   "source": [
    "plt.figure(figsize=(10,10))\n",
    "n, bins, patches = plt.hist(P_test.reshape(-1,1), 22, facecolor='r', density=True,\n",
    "                            alpha=1, label=r\"$\\pi$\")\n",
    "\n",
    "n, bins, patches = plt.hist((P_test-M_1 - M_3).reshape(-1,1),22, density=True, facecolor='g', \n",
    "                            alpha=0.6, label=\"Distribution of $\\pi - M^1_N$\")\n",
    "\n",
    "n, bins, patches = plt.hist((P_test-M_1 - M_2 -M_3 -M_4-M_5 -M_6 -M_7).reshape(-1,1),22, density=True, facecolor='gold', \n",
    "                            alpha=0.7, label=\"Distribution of $\\pi - M^1_N$\")\n",
    "\n",
    "#plt.legend(loc=2, prop={'size': 17})\n",
    "plt.grid(which='major', axis='x', linewidth=0.45, linestyle='-', color='0.75')\n",
    "plt.grid(which='major', axis='y', linewidth=0.45, linestyle='-', color='0.75')\n",
    "\n",
    "plt.tick_params(\n",
    "    axis='y',\n",
    "    color = 'w',\n",
    "    labelcolor = 'w',\n",
    "    which='both')\n",
    "plt.show()"
   ]
  },
  {
   "cell_type": "code",
   "execution_count": 57,
   "metadata": {},
   "outputs": [
    {
     "name": "stdout",
     "output_type": "stream",
     "text": [
      "Variance of Pi =  0.0929643537005\n",
      "-----------------------------------------------------\n",
      "Variance of new estimator (K=1)=  0.0219745418231\n",
      "=====================================================\n",
      "Variance of new estimator (K=2)=  0.0236730205476\n",
      "=====================================================\n"
     ]
    }
   ],
   "source": [
    "print ('Variance of Pi = ',P_test.var(dtype=np.float64,ddof = 1))\n",
    "print ('-----------------------------------------------------')\n",
    "print ('Variance of new estimator (K=1)= ',(P_test- M_1 -M_3 - M_4 ).var(dtype=np.float64,ddof = 0))\n",
    "print (\"=====================================================\")\n",
    "print ('Variance of new estimator (K=2)= ',(P_test-M_1 - M_2 - M_3 -M_4 - M_5 - M_6 -M_7 -M_8 ).var(dtype=np.float64,ddof = 0))\n",
    "print (\"=====================================================\")"
   ]
  },
  {
   "cell_type": "code",
   "execution_count": 58,
   "metadata": {},
   "outputs": [
    {
     "data": {
      "image/png": "[encoded data removed]",
      "text/plain": [
       "<matplotlib.figure.Figure at 0x7f3e0e8b72e8>"
      ]
     },
     "metadata": {},
     "output_type": "display_data"
    }
   ],
   "source": [
    "plt.figure(figsize=(10,10))\n",
    "\n",
    "# generate some random test data\n",
    "all_data = [P_test, P_test - M_1, P_test - M_1 - M_3,P_test - M_1 - M_3 - M_4, P_test - M_1 - M_2- M_3 - M_4,\n",
    "           P_test - M_1 - M_2 - M_3 - M_4 -M_5, P_test - M_1 - M_2 - M_3 - M_4 - M_5- M_6]\n",
    "\n",
    "# plot violin plot\n",
    "plt.boxplot(all_data)\n",
    "plt.title('boxplots')\n",
    "\n",
    "plt.show()"
   ]
  },
  {
   "cell_type": "markdown",
   "metadata": {},
   "source": [
    "# Comparison with truncated version"
   ]
  },
  {
   "cell_type": "code",
   "execution_count": 59,
   "metadata": {
    "collapsed": true
   },
   "outputs": [],
   "source": [
    "M_1_t = np.load('../GM_2d_reduced_truncated/GM(2d)_M_results_test_1.npy')\n",
    "M_2_t = np.load('../GM_2d_reduced_truncated/GM(2d)_M_results_test_2.npy')\n",
    "M_3_t = np.load('../GM_2d_reduced_truncated/GM(2d)_M_results_test_3.npy')\n",
    "M_4_t = np.load('../GM_2d_reduced_truncated/GM(2d)_M_results_test_4.npy')\n",
    "M_5_t = np.load('../GM_2d_reduced_truncated/GM(2d)_M_results_test_5.npy')\n",
    "M_6_t = np.load('../GM_2d_reduced_truncated/GM(2d)_M_results_test_6.npy')\n",
    "M_7_t = np.load('../GM_2d_reduced_truncated/GM(2d)_M_results_test_7.npy')"
   ]
  },
  {
   "cell_type": "markdown",
   "metadata": {},
   "source": [
    "### K = 1"
   ]
  },
  {
   "cell_type": "code",
   "execution_count": 63,
   "metadata": {},
   "outputs": [
    {
     "data": {
      "text/plain": [
       "[[0, 1], [0, 2], [1, 0], [1, 1], [1, 2], [2, 0], [2, 1], [2, 2]]"
      ]
     },
     "execution_count": 63,
     "metadata": {},
     "output_type": "execute_result"
    }
   ],
   "source": [
    "k_comb"
   ]
  },
  {
   "cell_type": "code",
   "execution_count": 64,
   "metadata": {},
   "outputs": [
    {
     "data": {
      "image/png": "[encoded data removed]",
      "text/plain": [
       "<matplotlib.figure.Figure at 0x7f3e1816bb38>"
      ]
     },
     "metadata": {},
     "output_type": "display_data"
    }
   ],
   "source": [
    "plt.figure(figsize=(10,10))\n",
    "n, bins, patches = plt.hist(P_test.reshape(-1,1), 22, facecolor='r', density=True,\n",
    "                            alpha=1, label=r\"$\\pi$\")\n",
    "\n",
    "n, bins, patches = plt.hist((P_test-M_1 - M_3 -M_4).reshape(-1,1),22, density=True, facecolor='g', \n",
    "                            alpha=0.7, label=\"Distribution of $\\pi - M^1_N$\")\n",
    "\n",
    "n, bins, patches = plt.hist((P_test-M_1_t - M_3_t -M_4_t).reshape(-1,1),22, density=True, facecolor='gold', \n",
    "                            alpha=0.8, label=\"Distribution of $\\pi - M^1_N$\")\n",
    "\n",
    "#plt.legend(loc=2, prop={'size': 17})\n",
    "plt.grid(which='major', axis='x', linewidth=0.45, linestyle='-', color='0.75')\n",
    "plt.grid(which='major', axis='y', linewidth=0.45, linestyle='-', color='0.75')\n",
    "\n",
    "plt.tick_params(\n",
    "    axis='y',\n",
    "    color = 'w',\n",
    "    labelcolor = 'w',\n",
    "    which='both')\n",
    "plt.show()"
   ]
  },
  {
   "cell_type": "code",
   "execution_count": 65,
   "metadata": {},
   "outputs": [
    {
     "name": "stdout",
     "output_type": "stream",
     "text": [
      "Variance of Pi =  0.0929643537005\n",
      "-----------------------------------------------------\n",
      "Variance of new estimator (K=1)=  0.0219745418231\n",
      "=====================================================\n",
      "Variance of new estimator (K=2)=  0.00996842030626\n",
      "=====================================================\n"
     ]
    }
   ],
   "source": [
    "print ('Variance of Pi = ',P_test.var(dtype=np.float64,ddof = 1))\n",
    "print ('-----------------------------------------------------')\n",
    "print ('Variance of new estimator (K=1)= ',(P_test- M_1 -M_3 - M_4 ).var(dtype=np.float64,ddof = 0))\n",
    "print (\"=====================================================\")\n",
    "print ('Variance of new estimator (K=2)= ',(P_test-M_1 - M_3_t - M_4_t ).var(dtype=np.float64,ddof = 0))\n",
    "print (\"=====================================================\")"
   ]
  },
  {
   "cell_type": "markdown",
   "metadata": {},
   "source": [
    "### K = 2"
   ]
  },
  {
   "cell_type": "code",
   "execution_count": 68,
   "metadata": {},
   "outputs": [
    {
     "data": {
      "image/png": "[encoded data removed]",
      "text/plain": [
       "<matplotlib.figure.Figure at 0x7f3e0e798f98>"
      ]
     },
     "metadata": {},
     "output_type": "display_data"
    }
   ],
   "source": [
    "plt.figure(figsize=(10,10))\n",
    "n, bins, patches = plt.hist(P_test.reshape(-1,1), 22, facecolor='r', density=True,\n",
    "                            alpha=1, label=r\"$\\pi$\")\n",
    "\n",
    "n, bins, patches = plt.hist((P_test-M_1 - M_3 -M_4 -M_2 - M_5 -M_6 -M_7).reshape(-1,1),22, density=True, facecolor='g', \n",
    "                            alpha=0.7, label=\"Distribution of $\\pi - M^1_N$\")\n",
    "\n",
    "n, bins, patches = plt.hist((P_test-M_1_t - M_3_t -M_4_t - M_2_t - M_5_t - M_6_t -M_7_t).reshape(-1,1),22, density=True, facecolor='gold', \n",
    "                            alpha=0.8, label=\"Distribution of $\\pi - M^1_N$\")\n",
    "\n",
    "#plt.legend(loc=2, prop={'size': 17})\n",
    "plt.grid(which='major', axis='x', linewidth=0.45, linestyle='-', color='0.75')\n",
    "plt.grid(which='major', axis='y', linewidth=0.45, linestyle='-', color='0.75')\n",
    "\n",
    "plt.tick_params(\n",
    "    axis='y',\n",
    "    color = 'w',\n",
    "    labelcolor = 'w',\n",
    "    which='both')\n",
    "plt.show()"
   ]
  },
  {
   "cell_type": "code",
   "execution_count": 69,
   "metadata": {},
   "outputs": [
    {
     "name": "stdout",
     "output_type": "stream",
     "text": [
      "Variance of Pi =  0.0929643537005\n",
      "-----------------------------------------------------\n",
      "Variance of new estimator (K=1)=  0.0236730205476\n",
      "=====================================================\n",
      "Variance of new estimator (K=2)=  0.000847823631307\n",
      "=====================================================\n"
     ]
    }
   ],
   "source": [
    "print ('Variance of Pi = ',P_test.var(dtype=np.float64,ddof = 1))\n",
    "print ('-----------------------------------------------------')\n",
    "print ('Variance of new estimator (K=1)= ',(P_test-M_1 - M_3 -M_4 -M_2 - M_5 -M_6 -M_7).var(dtype=np.float64,ddof = 0))\n",
    "print (\"=====================================================\")\n",
    "print ('Variance of new estimator (K=2)= ',(P_test-M_1_t - M_3_t -M_4_t - M_2_t - M_5_t - M_6_t -M_7_t).var(dtype=np.float64,ddof = 0))\n",
    "print (\"=====================================================\")"
   ]
  }
 ],
 "metadata": {
  "kernelspec": {
   "display_name": "Python 3",
   "language": "python",
   "name": "python3"
  },
  "language_info": {
   "codemirror_mode": {
    "name": "ipython",
    "version": 3
   },
   "file_extension": ".py",
   "mimetype": "text/x-python",
   "name": "python",
   "nbconvert_exporter": "python",
   "pygments_lexer": "ipython3",
   "version": "3.6.3"
  }
 },
 "nbformat": 4,
 "nbformat_minor": 2
}
