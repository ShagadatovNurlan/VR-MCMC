{
 "cells": [
  {
   "cell_type": "markdown",
   "metadata": {},
   "source": [
    "### Gaussian mixture \n",
    "\n",
    "## $\\pi (x) = \\frac{1}{2(2\\pi)^{d/2}} \\left( e ^{\\frac{-| x-a|^2}{2}}  + e ^{\\frac{-| x+a|^2}{2}} \\right), \\quad x \\in\\mathbb R^d$\n",
    "\n",
    "$U(x) = \\frac{1}{2} \\|x - a\\|_2^2 - \\text{log}(1 + e^{-2x^\\top a})$\n",
    "\n",
    "$\\nabla U(x) = x-a +2a(1 + e^{2 x^\\top a})^{-1}$\n",
    "\n",
    "$ m = 1 - \\|a \\|_2^2 \\quad $ (strongly convex function)\n",
    "\n",
    "$M = 1 \\quad$  (Lipschitz continuous gradient)\n",
    "\n",
    "$a = (\\frac{1}{\\sqrt{2d}}, \\dots, \\frac{1}{\\sqrt{2d}})$\n",
    "\n",
    "##### Setup:\n",
    "\n",
    "d = 8\n",
    "\n",
    "n = 1000\n",
    "\n",
    "N = 50000\n",
    "\n",
    "N_train = 50\n",
    "\n",
    "N_test = 100\n",
    "\n",
    "polynomials_max_deg = 1\n",
    "\n",
    "$\\tilde{n} = 100$\n",
    "\n",
    "$f(x) = \\sum_{i=1}^{d}x_i$\n",
    "\n",
    "$K = 1$"
   ]
  },
  {
   "cell_type": "code",
   "execution_count": 1,
   "metadata": {},
   "outputs": [],
   "source": [
    "import numpy as np\n",
    "import scipy \n",
    "from scipy.stats import bernoulli\n",
    "from scipy.stats import multivariate_normal\n",
    "from scipy.misc import comb\n",
    "from matplotlib import pyplot as plt\n",
    "from scipy.special import hermitenorm\n",
    "from tqdm import tqdm\n",
    "from numpy.polynomial.hermite_e import HermiteE\n",
    "import matplotlib.mlab as mlab\n",
    "%matplotlib inline\n",
    "from joblib import Parallel, delayed\n",
    "from scipy.optimize import minimize\n",
    "from itertools import product\n",
    "import sys\n",
    "import warnings\n",
    "from sklearn import linear_model\n",
    "import math\n",
    "if not sys.warnoptions:\n",
    "    warnings.simplefilter(\"ignore\")\n",
    "from numpy.random import normal  \n",
    "import timeit"
   ]
  },
  {
   "cell_type": "markdown",
   "metadata": {},
   "source": [
    "### Parameters inicialization, ULA algorithm"
   ]
  },
  {
   "cell_type": "code",
   "execution_count": 2,
   "metadata": {},
   "outputs": [],
   "source": [
    "d = 8\n",
    "a = np.ones((d,1)) / np.sqrt(2*d)\n",
    "\n",
    "def f_grad(x):\n",
    "    return x-a+2*a/(1 + np.exp(2* (x.T @ a)))\n",
    "\n",
    "def generate_lmc(a,d,N):\n",
    "    h = 0.1\n",
    "    K = 50000\n",
    "    vkh = np.empty((K + N,d,1))\n",
    "    ksi = np.random.randn(K+N,d,1)\n",
    "    vkh[0] = (np.random.normal(0,1,d)).reshape(d,1)\n",
    "    for i in range(1,K+N):\n",
    "        grad = f_grad(vkh[i-1])\n",
    "        vkh[i] = vkh[i-1] - h*grad + np.sqrt(2*h) * ksi[i]\n",
    "    return vkh[K:], ksi[K:]"
   ]
  },
  {
   "cell_type": "markdown",
   "metadata": {},
   "source": [
    "### Sample generation"
   ]
  },
  {
   "cell_type": "code",
   "execution_count": 3,
   "metadata": {},
   "outputs": [],
   "source": [
    "np.random.seed(2342)\n",
    "X, Z = generate_lmc(a,d, 100000)"
   ]
  },
  {
   "cell_type": "code",
   "execution_count": 4,
   "metadata": {},
   "outputs": [
    {
     "data": {
      "image/png": "[encoded data removed]",
      "text/plain": [
       "<matplotlib.figure.Figure at 0x7f1bd8795710>"
      ]
     },
     "metadata": {},
     "output_type": "display_data"
    }
   ],
   "source": [
    "plt.figure(figsize=(10,10))\n",
    "n, bins, patches = plt.hist(X[:,1].reshape(-1,1), 25, density=True, facecolor='g', alpha=0.75)\n",
    "x = np.linspace(-5,5,100)\n",
    "plt.show()"
   ]
  },
  {
   "cell_type": "markdown",
   "metadata": {},
   "source": [
    "### Ordinary weighted estimator with $$f(x) = x$$"
   ]
  },
  {
   "cell_type": "code",
   "execution_count": 5,
   "metadata": {},
   "outputs": [],
   "source": [
    "def local_weighted_estimator(X):\n",
    "    return X.sum(axis = 1).mean()"
   ]
  },
  {
   "cell_type": "code",
   "execution_count": 6,
   "metadata": {},
   "outputs": [
    {
     "name": "stdout",
     "output_type": "stream",
     "text": [
      "Weighted estimator =  -0.012067186009939033\n"
     ]
    }
   ],
   "source": [
    "print (\"Weighted estimator = \",local_weighted_estimator(X))"
   ]
  },
  {
   "cell_type": "markdown",
   "metadata": {},
   "source": [
    "### Generation of N_train independent paths"
   ]
  },
  {
   "cell_type": "code",
   "execution_count": 7,
   "metadata": {},
   "outputs": [],
   "source": [
    "def generate_lmc_from_initial(x_initial,a,d,N):\n",
    "    h = 0.1\n",
    "    vkh = np.empty((N,d,1))\n",
    "    vkh_grad = np.empty((N,d,1))\n",
    "    ksi = np.random.randn(N,d,1)\n",
    "    vkh[0] = x_initial\n",
    "    for i in range(1,N):\n",
    "        grad = f_grad(vkh[i-1])\n",
    "        vkh_grad[i-1] = grad\n",
    "        vkh[i] = vkh[i-1] - h*grad + np.sqrt(2*h) * ksi[i]\n",
    "    vkh_grad[-1] = f_grad(vkh[-1])\n",
    "    return vkh, ksi, vkh_grad\n",
    "\n",
    "\n",
    "def generate_paths(x_initial,N_train,a,d,N):\n",
    "    XX = []\n",
    "    ZZ = []\n",
    "    GG = []\n",
    "    for i in range(N_train):\n",
    "        X, Z, G = generate_lmc_from_initial(x_initial[-i],a,d,N)\n",
    "        XX.append(X)\n",
    "        ZZ.append(Z)\n",
    "        GG.append(G)\n",
    "    return np.array(XX),np.array(ZZ), np.array(GG)"
   ]
  },
  {
   "cell_type": "code",
   "execution_count": 9,
   "metadata": {},
   "outputs": [],
   "source": [
    "np.random.seed(123)\n",
    "XX, ZZ, _ = generate_paths(X,100,a,d,1000)"
   ]
  },
  {
   "cell_type": "markdown",
   "metadata": {},
   "source": [
    "### Generate validation path"
   ]
  },
  {
   "cell_type": "code",
   "execution_count": null,
   "metadata": {},
   "outputs": [],
   "source": [
    "np.random.seed(42)\n",
    "X_validate, Z_validate, _= generate_lmc_from_initial(X[-5000],a,d,1000)"
   ]
  },
  {
   "cell_type": "code",
   "execution_count": null,
   "metadata": {},
   "outputs": [],
   "source": [
    "plt.figure(figsize=(10,10))\n",
    "n, bins, patches = plt.hist(X_validate[:,1].reshape(-1,1), 20, density=True, facecolor='g', alpha=0.75)\n",
    "x = np.linspace(-5,5,100)\n",
    "plt.title((local_weighted_estimator(X_validate)))\n",
    "plt.show()"
   ]
  },
  {
   "cell_type": "markdown",
   "metadata": {},
   "source": [
    "### (normalized) Hermite polynomials"
   ]
  },
  {
   "cell_type": "code",
   "execution_count": null,
   "metadata": {},
   "outputs": [],
   "source": [
    "def generate_k_vec(d, K):\n",
    "    r = list(range(K+1))\n",
    "    k = []\n",
    "    for roll in product(r, repeat = d):\n",
    "        k.append(list(roll))\n",
    "    k.remove([0,0,0,0,0,0,0,0])\n",
    "    return k\n",
    "def H(k, x):\n",
    "    h = hermitenorm(k)(x) /  np.sqrt(math.factorial(k))\n",
    "    return h\n",
    "def Hermite_val(k_vec,x_vec):\n",
    "    P = 1.0\n",
    "    d = x_vec.shape[0]\n",
    "    for i in range(d):\n",
    "        P = P * H(k_vec[i],x_vec[i])\n",
    "    return P"
   ]
  },
  {
   "cell_type": "code",
   "execution_count": null,
   "metadata": {},
   "outputs": [],
   "source": [
    "k_comb = np.zeros((2 * d,d), dtype=np.int16)\n",
    "for i in range(d):\n",
    "    k_comb[i,i] = 1\n",
    "for i in range(d):\n",
    "    k_comb[d + i,i] = 2"
   ]
  },
  {
   "cell_type": "code",
   "execution_count": null,
   "metadata": {},
   "outputs": [],
   "source": [
    "k_comb"
   ]
  },
  {
   "cell_type": "markdown",
   "metadata": {},
   "source": [
    "### Reduced variant"
   ]
  },
  {
   "cell_type": "markdown",
   "metadata": {},
   "source": [
    "## Fitting linear regression for \n",
    "\n",
    "## $Q_{p,l}(x) = \\mathbb{E} \\left[f(X_p) | X_l = x\\right] = G_{p-l}(x) = \\mathbb{E} \\left[ f(\\varPhi ^{p-l} (x, \\xi))\\right]$\n",
    "\n",
    "\n",
    "### $\\forall l: \\quad G_r(x) = \\mathbb{E} \\left[f(X_{l+r}) | X_l = x \\right] $\n",
    "\n",
    "### Algorithm (trajectory + all variations):\n",
    "\n",
    "## $\\hat{G}_r = argmin_{\\psi \\in \\Psi} \\sum_{s = 1}^{N_{train}} \\sum_{l = N + 1}^{N+n-r} \\left| f(X_{l+r}^{(s)}) - \\psi(X_l^{(s)})\\right|^2$\n",
    "\n",
    "### where $\\quad  1 \\leq r \\leq n-1$\n",
    "\n",
    "## $\\hat{G}_0(x) = f(x)$"
   ]
  },
  {
   "cell_type": "code",
   "execution_count": null,
   "metadata": {},
   "outputs": [],
   "source": [
    "del pol_ar_1d"
   ]
  },
  {
   "cell_type": "code",
   "execution_count": null,
   "metadata": {},
   "outputs": [],
   "source": [
    "deg_pol = 17\n",
    "def pol_ar_1d(x): #x.shape = (8,1)\n",
    "    return np.array([1,x[0],x[1],x[2],x[3],x[4],x[5],x[6],x[7],x[0],x[1]**2,x[2]**2,x[3]**2,x[4]**2,\n",
    "                     x[5]**2,x[6]**2,x[7]]**2)\n",
    "\n",
    "def generate_X(XX, l):\n",
    "    N_train = XX.shape[0]\n",
    "    N = XX.shape[1]\n",
    "    d = XX.shape[2]\n",
    "    X = np.empty((N_train, deg_pol))\n",
    "    X[:,0] = np.ones(N_train)\n",
    "    X[:,1] = XX[:,l,0].squeeze()\n",
    "    X[:,2] = XX[:,l,1].squeeze()\n",
    "    X[:,3] = XX[:,l,2].squeeze()\n",
    "    X[:,4] = XX[:,l,3].squeeze()\n",
    "    X[:,5] = XX[:,l,4].squeeze()\n",
    "    X[:,6] = XX[:,l,5].squeeze()\n",
    "    X[:,7] = XX[:,l,6].squeeze()\n",
    "    X[:,8] = XX[:,l,7].squeeze()\n",
    "    \n",
    "    X[:,9] = (XX[:,l,0]**2).squeeze()\n",
    "    X[:,10] = (XX[:,l,1]**2).squeeze()\n",
    "    X[:,11] = (XX[:,l,2]**2).squeeze()\n",
    "    X[:,12] = (XX[:,l,3]**2).squeeze()\n",
    "    X[:,13] = (XX[:,l,4]**2).squeeze()\n",
    "    X[:,14] = (XX[:,l,5]**2).squeeze()\n",
    "    X[:,15] = (XX[:,l,6]**2).squeeze()\n",
    "    X[:,16] = (XX[:,l,7]**2).squeeze()\n",
    "\n",
    "    return X \n",
    "\n",
    "\n",
    "def generate_y(XX,ZZ,l,n_tilde = 60):\n",
    "    N_train = XX.shape[0]\n",
    "    N = XX.shape[1]\n",
    "    d = XX.shape[2]\n",
    "    y = np.zeros(N_train)\n",
    "    for s in range(N_train):\n",
    "        y[s] = XX[s][l:l+n_tilde].sum()\n",
    "    return y\n",
    "\n",
    "def q_l_fit(XX,ZZ):\n",
    "    N_train = XX.shape[0]\n",
    "    N = XX.shape[1]\n",
    "    d = XX.shape[2]\n",
    "    Betas = np.zeros((N,deg_pol))\n",
    "    for l in tqdm(range (N)):\n",
    "        X = generate_X(XX,l)\n",
    "        y = generate_y(XX,ZZ,l)\n",
    "        beta = np.linalg.inv(X.T @ X) @ X.T @ y\n",
    "        Betas[l] = beta\n",
    "    return Betas\n",
    "\n",
    "def q_l_predict(x,l, Betas,k):\n",
    "    x_pol = pol_ar_1d(x)\n",
    "    beta = Betas[l]\n",
    "    return (x_pol @ beta)"
   ]
  },
  {
   "cell_type": "code",
   "execution_count": null,
   "metadata": {},
   "outputs": [],
   "source": [
    "Betas = q_l_fit(XX,ZZ)"
   ]
  },
  {
   "cell_type": "code",
   "execution_count": null,
   "metadata": {},
   "outputs": [],
   "source": [
    "degrees = np.zeros((2 * d+1,d), dtype=np.int16)\n",
    "for i in range(1,d+1):\n",
    "    degrees[i,i-1] = 1\n",
    "for i in range(1,d+1):\n",
    "    degrees[d +i,i-1] = 2"
   ]
  },
  {
   "cell_type": "code",
   "execution_count": null,
   "metadata": {},
   "outputs": [],
   "source": [
    "degrees"
   ]
  },
  {
   "cell_type": "code",
   "execution_count": null,
   "metadata": {},
   "outputs": [],
   "source": [
    "def a_lk(X,l,k_vec, Betas):\n",
    "    d = 8\n",
    "    h = 0.1\n",
    "    S = 0\n",
    "    x_hat = X[l-1] - h*f_grad(X[l-1])\n",
    "    Small_s = np.zeros(d)\n",
    "    for ind,deg in enumerate(degrees):\n",
    "        Small_s[:] = 0\n",
    "        for d, i in enumerate(deg):\n",
    "            for t in range (i+1):\n",
    "                for s in range (int(t/2 +1)):\n",
    "                    if (k_vec[d] == t - 2*s):\n",
    "                        Small_s[d] = Small_s[d] + comb(N=i, k = t, exact = True) * x_hat[0]**(i-t) * \\\n",
    "                        math.factorial(t)*1/math.factorial(s)*1 / np.sqrt(math.factorial(t-2*s)) *np.sqrt(2*h)**t /2**s\n",
    "                    else:\n",
    "                        pass\n",
    "        S = S + Betas[l,ind] * Small_s.prod()\n",
    "    return S\n",
    "\n",
    "def M_bias(k_vec,X,Z, Betas):\n",
    "    N = X.shape[0]\n",
    "    S = 0\n",
    "    for l in range (N):\n",
    "        s = a_lk(X,l,k_vec, Betas)* Hermite_val(k_vec,Z[l])\n",
    "        S = S + s\n",
    "    return S/N\n",
    "\n",
    "def estimator_bias(k,XX,ZZ,Betas,first, last):\n",
    "    M_results = Parallel(n_jobs=-1)(delayed(M_bias)(k,XX[i],ZZ[i],Betas)for i in range(first, last))\n",
    "    return np.array(M_results).reshape(-1)\n",
    "\n",
    "def estimator(XX):\n",
    "    Pi = np.empty(XX.shape[0])\n",
    "    for i in tqdm(range(XX.shape[0])):\n",
    "        Pi[i] = local_weighted_estimator(XX[i])\n",
    "    return Pi"
   ]
  },
  {
   "cell_type": "markdown",
   "metadata": {},
   "source": [
    "### check formula ( full)"
   ]
  },
  {
   "cell_type": "code",
   "execution_count": null,
   "metadata": {},
   "outputs": [],
   "source": [
    "plot_a_lk = []\n",
    "for i in range (1,XX.shape[1]):\n",
    "    plot_a_lk.append(a_lk(XX[0],i,k_comb[-1], Betas))\n",
    "plot_a_lk = np.array(plot_a_lk)\n",
    "plt.figure(figsize=(30,10))\n",
    "plt.plot(plot_a_lk)"
   ]
  },
  {
   "cell_type": "code",
   "execution_count": null,
   "metadata": {},
   "outputs": [],
   "source": [
    "X = XX[27]\n",
    "Z = ZZ[27]\n",
    "time_1 = timeit.default_timer()\n",
    "print (\"P =\",local_weighted_estimator(X))\n",
    "for i in range(len(k_comb)):\n",
    "    print (\"M ({}) = {} [Time:{}]\".format(k_comb[i],M_bias(k_comb[i],X,Z,Betas),timeit.default_timer()-time_1))"
   ]
  },
  {
   "cell_type": "code",
   "execution_count": null,
   "metadata": {},
   "outputs": [],
   "source": []
  },
  {
   "cell_type": "code",
   "execution_count": null,
   "metadata": {},
   "outputs": [],
   "source": []
  },
  {
   "cell_type": "code",
   "execution_count": null,
   "metadata": {},
   "outputs": [],
   "source": [
    "time_1 = timeit.default_timer()\n",
    "print (\"P =\",local_weighted_estimator(X_validate))\n",
    "for i in range(len(k_comb)):\n",
    "    print (\"M ({}) = {} [Time:{}]\".format(k_comb[i],M_bias(k_comb[i],X_validate,Z_validate,Betas),\n",
    "                                           timeit.default_timer()-time_1))"
   ]
  },
  {
   "cell_type": "code",
   "execution_count": null,
   "metadata": {},
   "outputs": [],
   "source": [
    "X = XX[27]\n",
    "Z = ZZ[27]\n",
    "time_1 = timeit.default_timer()\n",
    "print (\"P =\",local_weighted_estimator(X))\n",
    "for i in range(len(k_comb)):\n",
    "    print (\"M ({}) = {} [Time:{}]\".format(k_comb[i],M_bias(k_comb[i],X,Z,Betas),timeit.default_timer()-time_1))"
   ]
  },
  {
   "cell_type": "markdown",
   "metadata": {},
   "source": [
    "## Check on test sample"
   ]
  },
  {
   "cell_type": "code",
   "execution_count": null,
   "metadata": {},
   "outputs": [],
   "source": [
    "np.random.seed(987)\n",
    "X, Z = generate_lmc(a,d,100000)\n",
    "XX_test, ZZ_test, GG_test = generate_paths(X,100,a,d,1000)\n",
    "P_test = estimator(XX_test)\n",
    "\n",
    "print ('Variance of Pi = ',P_test.var(dtype=np.float64,ddof = 1))\n",
    "\n",
    "# np.save('GM_8d_XX_test.npy', XX_test)\n",
    "# np.save('GM_8d_ZZ_test.npy', ZZ_test)"
   ]
  },
  {
   "cell_type": "code",
   "execution_count": null,
   "metadata": {},
   "outputs": [],
   "source": [
    "# XX_test = np.load('GM_8d_XX_test.npy')\n",
    "# ZZ_test = np.load('GM_8d_ZZ_test.npy')\n",
    "# P_test = estimator(XX_test)"
   ]
  },
  {
   "cell_type": "code",
   "execution_count": null,
   "metadata": {},
   "outputs": [],
   "source": [
    "M_results_algo_2 = np.empty((len(k_comb), XX_test.shape[0]))\n",
    "\n",
    "for i,k in enumerate(k_comb):\n",
    "    M_results_algo_2[i] = estimator_bias(k,XX_test,ZZ_test,Betas, 0, 100)"
   ]
  },
  {
   "cell_type": "code",
   "execution_count": null,
   "metadata": {},
   "outputs": [],
   "source": [
    "M_results_algo_1 = np.load('../VR-MCMC/Gaussian_mixture_8d(truncated)/GM(2d)_M_results_test_.npy')"
   ]
  },
  {
   "cell_type": "code",
   "execution_count": null,
   "metadata": {},
   "outputs": [],
   "source": [
    "print ('Variance of Pi = ',(P_test - M_results_algo_1.sum(axis = 0)).var(ddof = 1))\n",
    "print ('Variance of Pi = ',(P_test - M_results_algo_2.sum(axis = 0)).var(ddof = 1))"
   ]
  },
  {
   "cell_type": "code",
   "execution_count": null,
   "metadata": {},
   "outputs": [],
   "source": [
    "print ('c = ',P_test.var(dtype=np.float64,ddof = 1) / (P_test - M_results_algo_1.sum(axis = 0)).var(ddof = 1))\n",
    "print ('c = ',P_test.var(dtype=np.float64,ddof = 1) / (P_test - M_results_algo_2[:8].sum(axis = 0)).var(ddof = 1))"
   ]
  },
  {
   "cell_type": "code",
   "execution_count": null,
   "metadata": {},
   "outputs": [],
   "source": []
  },
  {
   "cell_type": "code",
   "execution_count": null,
   "metadata": {},
   "outputs": [],
   "source": [
    "M_results_algo_1 = np.load('../VR-MCMC/Gaussian_mixture_8d(truncated)/GM(2d)_M_results_test_.npy')"
   ]
  },
  {
   "cell_type": "code",
   "execution_count": null,
   "metadata": {},
   "outputs": [],
   "source": [
    "print ('Variance of Pi = ',(P_test - M_results_algo_1.sum(axis = 0)).var(ddof = 1))\n",
    "print ('Variance of Pi = ',(P_test - M_results_algo_2.sum(axis = 0)).var(ddof = 1))"
   ]
  },
  {
   "cell_type": "code",
   "execution_count": null,
   "metadata": {},
   "outputs": [],
   "source": [
    "print ('c = ',P_test.var(dtype=np.float64,ddof = 1) / (P_test - M_results_algo_1.sum(axis = 0)).var(ddof = 1))\n",
    "print ('c = ',P_test.var(dtype=np.float64,ddof = 1) / (P_test - M_results_algo_2.sum(axis = 0)).var(ddof = 1))"
   ]
  },
  {
   "cell_type": "code",
   "execution_count": null,
   "metadata": {},
   "outputs": [],
   "source": [
    "plt.figure(figsize=(10,10))\n",
    "plt.hist(P_test.reshape(-1,1),18, facecolor='r', density=True,\n",
    "                            alpha=1, label=\"Distribution of $\\pi$\")\n",
    "\n",
    "plt.hist((P_test-M_results_algo_1.sum(axis = 0)).reshape(-1,1), 18, density=True, facecolor='g', \n",
    "                            alpha=0.85, label=\"Distribution of $\\pi - M^1_N$\")\n",
    "\n",
    "plt.hist((P_test-M_results_algo_2.sum(axis = 0)).reshape(-1,1), 18, density=True, facecolor='gold', \n",
    "                            alpha=0.65, label=\"Distribution of $\\pi - M^1_N$\")\n",
    "plt.grid(linestyle='-', linewidth=0.2, color='black')\n",
    "plt.tick_params(\n",
    "    axis='y',\n",
    "    color = 'w',\n",
    "    labelcolor = 'w',\n",
    "    which='both')\n",
    "plt.show()"
   ]
  },
  {
   "cell_type": "code",
   "execution_count": null,
   "metadata": {},
   "outputs": [],
   "source": [
    "plt.figure(figsize=(10,10))\n",
    "\n",
    "# generate some random test data\n",
    "all_data = [P_test, P_test - M_results_algo_1.sum(axis = 0), P_test - M_results_algo_2.sum(axis = 0)]\n",
    "\n",
    "# plot violin plot\n",
    "plt.boxplot(all_data)\n",
    "# plt.title('')\n",
    "plt.grid()\n",
    "plt.show()"
   ]
  },
  {
   "cell_type": "code",
   "execution_count": null,
   "metadata": {},
   "outputs": [],
   "source": [
    "plt.figure(figsize=(6,12))\n",
    "plt.violinplot(\n",
    "        all_data, showmeans=True, showmedians=False)\n",
    "# plt.title('violin plot')\n",
    "plt.grid()\n",
    "plt.show()"
   ]
  },
  {
   "cell_type": "markdown",
   "metadata": {},
   "source": [
    "## CV & ZV"
   ]
  },
  {
   "cell_type": "code",
   "execution_count": null,
   "metadata": {},
   "outputs": [],
   "source": [
    "def ZVpolyOne(traj, traj_grad):\n",
    "    n, d = traj.shape\n",
    "    samples = traj.sum(axis = 1).reshape(-1,1)\n",
    "    cov1 = np.cov(traj_grad, rowvar=False)\n",
    "    A = np.linalg.inv(cov1)\n",
    "    covariance = np.cov(np.concatenate((-traj_grad, samples), axis=1), rowvar=False)\n",
    "    paramZV1 = -np.dot(A,covariance[:d, d:])\n",
    "    ZV1 = samples - np.dot(traj_grad, paramZV1)\n",
    "    mean_ZV1 = np.mean(ZV1, axis = 0)\n",
    "    return mean_ZV1\n",
    "\n",
    "def ZVpolyTwo(traj, traj_grad):\n",
    "    n, d = traj.shape\n",
    "    samples = traj.sum(axis = 1).reshape(-1,1)\n",
    "    Lpoisson = np.zeros((n,int(d*(d+3)/2)))\n",
    "    Lpoisson[:,np.arange(d)] = - traj_grad\n",
    "    Lpoisson[:,np.arange(d, 2*d)] = 2*(1. - np.multiply(traj, traj_grad))\n",
    "    k=2*d\n",
    "    for j in np.arange(d-1):\n",
    "        for i in np.arange(j+1,d):\n",
    "            Lpoisson[:,k] = -np.multiply(traj_grad[:,i], traj[:,j])-np.multiply(traj_grad[:,j], traj[:,i])\n",
    "            k=k+1\n",
    "    \n",
    "    cov1 = np.cov(Lpoisson, rowvar=False)\n",
    "    A = np.linalg.inv(cov1)\n",
    "    cov2 = np.cov(np.concatenate((Lpoisson, samples),axis=1), rowvar=False)\n",
    "    B = cov2[0:int(d*(d+3)/2), int(d*(d+3)/2):]\n",
    "    paramZV2 = - np.dot(A,B)\n",
    "    ZV2 = samples + np.dot(Lpoisson, paramZV2)\n",
    "    mean_ZV2 = np.mean(ZV2, axis = 0)\n",
    "    return mean_ZV2\n",
    "\n",
    "def CVpolyOne(traj,traj_grad):\n",
    "    n, d = traj.shape\n",
    "    samples = traj.sum(axis = 1).reshape(-1,1)\n",
    "    covariance = np.cov(np.concatenate((traj, samples), axis=1), rowvar=False)\n",
    "    paramCV1 = covariance[:d, d:]\n",
    "    CV1 = samples - np.dot(traj_grad, paramCV1)\n",
    "    mean_CV1 = np.mean(CV1, axis = 0)\n",
    "    return mean_CV1\n",
    "\n",
    "def CVpolyTwo(traj, traj_grad):\n",
    "    n, d = traj.shape\n",
    "    samples = traj.sum(axis = 1).reshape(-1,1)\n",
    "    poisson = np.zeros((n,int(d*(d+3)/2)))\n",
    "    poisson[:,np.arange(d)] = traj\n",
    "    poisson[:,np.arange(d, 2*d)] = np.multiply(traj, traj)\n",
    "    k = 2*d\n",
    "    for j in np.arange(d-1):\n",
    "        for i in np.arange(j+1,d):\n",
    "            poisson[:,k] = np.multiply(traj[:,i], traj[:,j])\n",
    "            k=k+1\n",
    "    Lpoisson = np.zeros((n,int(d*(d+3)/2)))\n",
    "    Lpoisson[:,np.arange(d)] = - traj_grad\n",
    "    Lpoisson[:,np.arange(d, 2*d)] = 2*(1. - np.multiply(traj, traj_grad))\n",
    "    k=2*d\n",
    "    for j in np.arange(d-1):\n",
    "        for i in np.arange(j+1,d):\n",
    "            Lpoisson[:,k] = -np.multiply(traj_grad[:,i], traj[:,j]) \\\n",
    "                    -np.multiply(traj_grad[:,j], traj[:,i])\n",
    "            k=k+1\n",
    "    \n",
    "    cov1 = np.cov(np.concatenate((poisson, -Lpoisson), axis=1), rowvar=False)\n",
    "    A = np.linalg.inv(cov1[0:int(d*(d+3)/2), int(d*(d+3)/2):d*(d+3)])\n",
    "    cov2 = np.cov(np.concatenate((poisson, samples),axis=1), rowvar=False)\n",
    "    B = cov2[0:int(d*(d+3)/2), int(d*(d+3)/2):]\n",
    "    paramCV2 = np.dot(A,B)\n",
    "    CV2 = samples + np.dot(Lpoisson, paramCV2)\n",
    "    mean_CV2 = np.mean(CV2, axis = 0)\n",
    "    return mean_CV2"
   ]
  },
  {
   "cell_type": "code",
   "execution_count": null,
   "metadata": {},
   "outputs": [],
   "source": [
    "res_zv_1 = []\n",
    "for i in range (XX_test.shape[0]):\n",
    "    res_zv_1.append(ZVpolyOne(XX_test[i].reshape(-1,d), GG_test[i].reshape(-1,d)))\n",
    "res_zv_1 = np.array(res_zv_1).reshape(-1)\n",
    "\n",
    "res_zv_2 = []\n",
    "for i in range (XX_test.shape[0]):\n",
    "    res_zv_2.append(ZVpolyTwo(XX_test[i].reshape(-1,d), GG_test[i].reshape(-1,d)))\n",
    "res_zv_2 = np.array(res_zv_2).reshape(-1)\n",
    "\n",
    "res_cv_1 = []\n",
    "for i in range (XX_test.shape[0]):\n",
    "    res_cv_1.append(CVpolyOne(XX_test[i].reshape(-1,d), GG_test[i].reshape(-1,d)))\n",
    "res_cv_1 = np.array(res_cv_1).reshape(-1)\n",
    "\n",
    "res_cv_2 = []\n",
    "for i in range (XX_test.shape[0]):\n",
    "    res_cv_2.append(CVpolyTwo(XX_test[i].reshape(-1,d), GG_test[i].reshape(-1,d)))\n",
    "res_cv_2 = np.array(res_cv_2).reshape(-1)"
   ]
  },
  {
   "cell_type": "code",
   "execution_count": null,
   "metadata": {},
   "outputs": [],
   "source": [
    "all_data.append(res_zv_1)\n",
    "all_data.append(res_zv_2)\n",
    "all_data.append(res_cv_1)\n",
    "all_data.append(res_cv_2) \n",
    "\n",
    "plt.figure(figsize=(10,10))\n",
    "plt.boxplot(all_data)\n",
    "plt.xticks(np.arange(1,8), ('pi', 'CV_B_1','CV_B_2', 'ZV_1', 'ZV_2', 'CV_1', 'CV_2'))\n",
    "plt.title('Boxplot')\n",
    "plt.grid()\n",
    "plt.show()"
   ]
  },
  {
   "cell_type": "code",
   "execution_count": null,
   "metadata": {},
   "outputs": [],
   "source": [
    "plt.figure(figsize=(10,10))\n",
    "plt.violinplot(\n",
    "        all_data, showmeans=True, showmedians=False)\n",
    "plt.title('violin plot')\n",
    "plt.xticks(np.arange(1,8), ('pi', 'CV_B_1','CV_B_2', 'ZV_1', 'ZV_2', 'CV_1', 'CV_2'))\n",
    "plt.grid()\n",
    "plt.show()"
   ]
  },
  {
   "cell_type": "code",
   "execution_count": null,
   "metadata": {},
   "outputs": [],
   "source": []
  }
 ],
 "metadata": {
  "kernelspec": {
   "display_name": "Python 3",
   "language": "python",
   "name": "python3"
  },
  "language_info": {
   "codemirror_mode": {
    "name": "ipython",
    "version": 3
   },
   "file_extension": ".py",
   "mimetype": "text/x-python",
   "name": "python",
   "nbconvert_exporter": "python",
   "pygments_lexer": "ipython3",
   "version": "3.6.4"
  }
 },
 "nbformat": 4,
 "nbformat_minor": 2
}
