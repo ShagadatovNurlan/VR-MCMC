{
 "cells": [
  {
   "cell_type": "markdown",
   "metadata": {},
   "source": [
    "### Binary Logistic Regression (dim = 2)\n",
    "\n",
    "N = 1000\n",
    "\n",
    "N_train = 50\n",
    "\n",
    "N_test = 100\n",
    "\n",
    "polynomials_max_deg = 3\n",
    "\n",
    "$f(\\theta) = \\theta_1 + \\theta_2 $\n",
    "\n",
    "$\\tilde{n} = 2,10,100,\\infty$\n",
    "\n",
    "$K=2$"
   ]
  },
  {
   "cell_type": "code",
   "execution_count": 1,
   "metadata": {},
   "outputs": [],
   "source": [
    "import numpy as np\n",
    "import scipy \n",
    "from scipy.stats import bernoulli\n",
    "from scipy.stats import multivariate_normal\n",
    "from scipy.misc import comb\n",
    "from matplotlib import pyplot as plt\n",
    "from scipy.special import hermitenorm\n",
    "from tqdm import tqdm\n",
    "from numpy.polynomial.hermite_e import HermiteE\n",
    "import matplotlib.mlab as mlab\n",
    "%matplotlib inline\n",
    "from joblib import Parallel, delayed\n",
    "from scipy.optimize import minimize\n",
    "from itertools import product\n",
    "import sys\n",
    "import warnings\n",
    "from sklearn import linear_model\n",
    "import math\n",
    "if not sys.warnoptions:\n",
    "    warnings.simplefilter(\"ignore\")\n",
    "from numpy.random import normal  \n",
    "import timeit"
   ]
  },
  {
   "cell_type": "markdown",
   "metadata": {},
   "source": [
    "## BLR data generation"
   ]
  },
  {
   "cell_type": "code",
   "execution_count": 2,
   "metadata": {},
   "outputs": [],
   "source": [
    "d = 2\n",
    "def r(theta, x):\n",
    "    return np.exp(theta.T @ x)/(1+np.exp(theta.T @ x))\n",
    "def generate_data(p, n):\n",
    "    X = np.empty((n,p))\n",
    "    Y = np.empty(n)\n",
    "    for i in range(n):\n",
    "        prob = multivariate_normal.rvs(0,1,p)\n",
    "        X[i, prob < 0] = -1\n",
    "        X[i, prob >= 0] = +1\n",
    "        X[i] = X[i]/np.linalg.norm(X[i])\n",
    "        Y[i] = bernoulli.rvs(r(np.ones(p),X[i].reshape(p,1)))\n",
    "    return X,Y.reshape((n,1))"
   ]
  },
  {
   "cell_type": "code",
   "execution_count": 3,
   "metadata": {},
   "outputs": [],
   "source": [
    "np.random.seed(55)\n",
    "X_reg, Y_reg = generate_data(2,100)"
   ]
  },
  {
   "cell_type": "code",
   "execution_count": 4,
   "metadata": {},
   "outputs": [],
   "source": [
    "def sigma(X):\n",
    "    n = X.shape[0]\n",
    "    p = X.shape[1]\n",
    "    S = np.zeros((p,p))\n",
    "    for i in range(n):\n",
    "        S = S + X[i].reshape((p,1)) @ X[i].reshape(1,p)\n",
    "    return S \n",
    "    \n",
    "def f_grad(theta, X, Y, Sigma):\n",
    "    n = X.shape[0]\n",
    "    p = X.shape[1]\n",
    "    lambda_c = 3*p / np.pi**2\n",
    "    LOG = np.zeros((p,1))\n",
    "    for i in range(n):\n",
    "        LOG = LOG + X[i].reshape((p,1)) / (1+np.exp(theta.T @ X[i].reshape((p,1))))\n",
    "    F = X.T @ Y - LOG + lambda_c * Sigma @ theta\n",
    "    return F\n",
    "\n",
    "def MLE(X,Y,Sigma):\n",
    "    n = X.shape[0]\n",
    "    p = X.shape[1]\n",
    "    lambda_c = 3*p / np.pi**2\n",
    "    eps = 1e-6\n",
    "    mu = np.max(np.linalg.eigvals(Sigma))\n",
    "    M = (lambda_c + 0.25*n) * mu\n",
    "    theta_k =[]\n",
    "    theta_k.append(np.ones((p,1)))\n",
    "    theta_k.append(theta_k[0] - 1/(2*M) * f_grad(theta_k[0],X,Y,Sigma))\n",
    "    i = 2\n",
    "    while(np.linalg.norm(theta_k[i-1] - theta_k[i-2])**2 > eps**2):\n",
    "        theta_k.append(theta_k[i-1] - 1/(2*M) * f_grad(theta_k[i-1],X,Y,Sigma))\n",
    "        i = i+1\n",
    "    return theta_k[-1]    "
   ]
  },
  {
   "cell_type": "markdown",
   "metadata": {},
   "source": [
    "## MLE estimator of parameter vector"
   ]
  },
  {
   "cell_type": "code",
   "execution_count": 5,
   "metadata": {},
   "outputs": [
    {
     "data": {
      "text/plain": [
       "array([[-0.25514325],\n",
       "       [-0.33595237]])"
      ]
     },
     "execution_count": 5,
     "metadata": {},
     "output_type": "execute_result"
    }
   ],
   "source": [
    "Sigma = sigma(X_reg)\n",
    "MLE(X_reg,Y_reg,Sigma)"
   ]
  },
  {
   "cell_type": "markdown",
   "metadata": {},
   "source": [
    "### Parameters inicialization, ULA algorithm"
   ]
  },
  {
   "cell_type": "code",
   "execution_count": 6,
   "metadata": {},
   "outputs": [],
   "source": [
    "def lmc_regression_without_precond(X,Y,Sigma, N):\n",
    "    n = X.shape[0]\n",
    "    p = X.shape[1]   \n",
    "    h = 0.01\n",
    "    K = 10000\n",
    "    #-----------------------------------------------------\n",
    "    vkh = np.empty((K + N,p,1), dtype=np.float64)\n",
    "    ksi = multivariate_normal.rvs(np.zeros(p), np.eye(p),K+N).reshape(K+N, p,1)\n",
    "    vkh[0] = (np.random.normal(0,1,p)).reshape(p,1)\n",
    "    for i in range(1,K+N):\n",
    "        grad = f_grad(vkh[i-1], X,Y,Sigma)\n",
    "        vkh[i] = vkh[i-1] - h*grad + np.sqrt(2*h) * ksi[i]\n",
    "    return vkh, ksi"
   ]
  },
  {
   "cell_type": "markdown",
   "metadata": {},
   "source": [
    "### Sample generation"
   ]
  },
  {
   "cell_type": "code",
   "execution_count": 7,
   "metadata": {},
   "outputs": [],
   "source": [
    "np.random.seed(42)\n",
    "X, Z = lmc_regression_without_precond(X_reg,Y_reg,Sigma, 10000)"
   ]
  },
  {
   "cell_type": "code",
   "execution_count": 8,
   "metadata": {},
   "outputs": [
    {
     "data": {
      "image/png": "[encoded data removed]",
      "text/plain": [
       "<matplotlib.figure.Figure at 0x7ff7e0749668>"
      ]
     },
     "metadata": {},
     "output_type": "display_data"
    }
   ],
   "source": [
    "plt.figure(figsize=(10,10))\n",
    "n, bins, patches = plt.hist(X[:,0].reshape(-1,1), 45, density=True, facecolor='g', alpha=0.75)\n",
    "plt.show()"
   ]
  },
  {
   "cell_type": "code",
   "execution_count": 9,
   "metadata": {},
   "outputs": [
    {
     "data": {
      "image/png": "[encoded data removed]",
      "text/plain": [
       "<matplotlib.figure.Figure at 0x7ff7d6a559e8>"
      ]
     },
     "metadata": {},
     "output_type": "display_data"
    }
   ],
   "source": [
    "plt.figure(figsize=(10,10))\n",
    "n, bins, patches = plt.hist(X[:,1].reshape(-1,1), 45, density=True, facecolor='g', alpha=0.75)\n",
    "plt.show()"
   ]
  },
  {
   "cell_type": "markdown",
   "metadata": {},
   "source": [
    "### Ordinary weighted estimator with $$f(x_1, x_2) = x_1 + x_2$$"
   ]
  },
  {
   "cell_type": "code",
   "execution_count": 10,
   "metadata": {},
   "outputs": [],
   "source": [
    "def local_weighted_estimator(X):\n",
    "    return (X[:,0] + X[:,1]).mean()"
   ]
  },
  {
   "cell_type": "code",
   "execution_count": 11,
   "metadata": {},
   "outputs": [
    {
     "name": "stdout",
     "output_type": "stream",
     "text": [
      "Weighted estimator =  -0.5937776305116821\n"
     ]
    }
   ],
   "source": [
    "print (\"Weighted estimator = \",local_weighted_estimator(X))"
   ]
  },
  {
   "cell_type": "markdown",
   "metadata": {},
   "source": [
    "### Generation of N_train independent paths"
   ]
  },
  {
   "cell_type": "code",
   "execution_count": 12,
   "metadata": {},
   "outputs": [],
   "source": [
    "def generate_lmc_from_initial(x_initial,Sigma,N):\n",
    "    h = 0.01\n",
    "    vkh = np.empty((N,d,1))\n",
    "    vkh_grad = np.empty((N,d,1))\n",
    "    ksi = np.random.randn(N,d,1)\n",
    "    vkh[0] = x_initial\n",
    "    for i in range(1,N):\n",
    "        grad = f_grad(vkh[i-1], X_reg,Y_reg,Sigma)\n",
    "        vkh_grad[i-1] = grad\n",
    "        vkh[i] = vkh[i-1] - h*grad + np.sqrt(2*h) * ksi[i]\n",
    "    vkh_grad[-1] = f_grad(vkh[-1], X_reg,Y_reg,Sigma)\n",
    "    return vkh, ksi, vkh_grad\n",
    "\n",
    "def generate_paths(x_initial,N_train,Sigma,N):\n",
    "    XX = []\n",
    "    ZZ = []\n",
    "    GG = []\n",
    "    for i in range(N_train):\n",
    "        X, Z, G = generate_lmc_from_initial(x_initial[-i],Sigma,N)\n",
    "        XX.append(X)\n",
    "        ZZ.append(Z)\n",
    "        GG.append(G)\n",
    "    return np.array(XX),np.array(ZZ), np.array(GG)"
   ]
  },
  {
   "cell_type": "code",
   "execution_count": 13,
   "metadata": {},
   "outputs": [],
   "source": [
    "np.random.seed(123)\n",
    "XX, ZZ, _ = generate_paths(X,50,Sigma,1000)"
   ]
  },
  {
   "cell_type": "markdown",
   "metadata": {},
   "source": [
    "### (normalized) Hermite polynomials"
   ]
  },
  {
   "cell_type": "code",
   "execution_count": 14,
   "metadata": {},
   "outputs": [],
   "source": [
    "def generate_k_vec(d, K):\n",
    "    r = list(range(K+1))\n",
    "    k = []\n",
    "    for roll in product(r, repeat = d):\n",
    "        k.append(list(roll))\n",
    "    k.remove([0,0])\n",
    "    return k\n",
    "def H(k, x):\n",
    "    h = hermitenorm(k)(x) /  np.sqrt(math.factorial(k))\n",
    "    return h\n",
    "def Hermite_val(k_vec,x_vec):\n",
    "    P = 1.0\n",
    "    d = x_vec.shape[0]\n",
    "    for i in range(d):\n",
    "        P = P * H(k_vec[i],x_vec[i])\n",
    "    return P"
   ]
  },
  {
   "cell_type": "code",
   "execution_count": 15,
   "metadata": {},
   "outputs": [
    {
     "data": {
      "text/plain": [
       "[[0, 1], [1, 0], [1, 1]]"
      ]
     },
     "execution_count": 15,
     "metadata": {},
     "output_type": "execute_result"
    }
   ],
   "source": [
    "k_comb = generate_k_vec(d,1)\n",
    "k_comb"
   ]
  },
  {
   "cell_type": "markdown",
   "metadata": {},
   "source": [
    "### Fitting linear regression for $Q_{p,l}(x) = \\mathbb{E} \\left[f(X_p) | X_l = x\\right]$"
   ]
  },
  {
   "cell_type": "code",
   "execution_count": 84,
   "metadata": {},
   "outputs": [],
   "source": [
    "deg_pol = 6\n",
    "def pol_ar_1d(x): #x.shape = (2,1)\n",
    "    return np.array([1,x[0],x[1],x[0]*x[1],x[0]**2,x[1]**2])#,x[0]**2 *x[1],x[0]* x[1]**2, x[0]**3, x[1]**3])\n",
    "\n",
    "def generate_X(XX, l):\n",
    "    N_train = XX.shape[0]\n",
    "    N = XX.shape[1]\n",
    "    d = XX.shape[2]\n",
    "    X = np.empty((N_train, deg_pol))\n",
    "    X[:,0] = np.ones(N_train)\n",
    "    X[:,1] = XX[:,l,0].squeeze()\n",
    "    X[:,2] = XX[:,l,1].squeeze()\n",
    "    X[:,3] = (XX[:,l,0] * XX[:,l,1]).squeeze()\n",
    "    X[:,4] = (XX[:,l,0]**2).squeeze()\n",
    "    X[:,5] = (XX[:,l,1]**2).squeeze()\n",
    "#     X[:,6] = (XX[:,l,0]**2 * XX[:,l,1]).squeeze()\n",
    "#     X[:,7] = (XX[:,l,0] * XX[:,l,1]**2).squeeze()\n",
    "#     X[:,8] = (XX[:,l,0]**3).squeeze()\n",
    "#     X[:,9] = (XX[:,l,1]**3).squeeze()\n",
    "    return X \n",
    "\n",
    "\n",
    "\n",
    "def generate_y(XX,ZZ,l,n_tilde = 3):\n",
    "    N_train = XX.shape[0]\n",
    "    N = XX.shape[1]\n",
    "    d = XX.shape[2]\n",
    "    y = np.zeros(N_train)\n",
    "    for s in range(N_train):\n",
    "        y[s] = XX[s][l:l+n_tilde].sum()\n",
    "    return y\n",
    "\n",
    "def q_l_fit(XX,ZZ):\n",
    "    N_train = XX.shape[0]\n",
    "    N = XX.shape[1]\n",
    "    d = XX.shape[2]\n",
    "    Betas = np.zeros((N,deg_pol))\n",
    "    for l in tqdm(range (N)):\n",
    "        X = generate_X(XX,l)\n",
    "        y = generate_y(XX,ZZ,l)\n",
    "        beta = np.linalg.inv(X.T @ X) @ X.T @ y\n",
    "        Betas[l] = beta\n",
    "    return Betas\n",
    "\n",
    "def q_l_predict(x,l, Betas,k):\n",
    "    x_pol = pol_ar_1d(x)\n",
    "    beta = Betas[l]\n",
    "    return (x_pol @ beta)"
   ]
  },
  {
   "cell_type": "code",
   "execution_count": 85,
   "metadata": {},
   "outputs": [
    {
     "name": "stderr",
     "output_type": "stream",
     "text": [
      "100%|██████████| 1000/1000 [00:00<00:00, 3268.50it/s]\n"
     ]
    }
   ],
   "source": [
    "Betas = q_l_fit(XX,ZZ)"
   ]
  },
  {
   "cell_type": "code",
   "execution_count": 86,
   "metadata": {},
   "outputs": [],
   "source": [
    "# np.save('BLR_XX.npy',XX)\n",
    "# np.save('BLR_ZZ.npy',ZZ)\n",
    "# np.save('BLR_Betas.npy',Betas)"
   ]
  },
  {
   "cell_type": "code",
   "execution_count": 87,
   "metadata": {},
   "outputs": [],
   "source": [
    "# Betas = np.load('BLR_Betas.npy')\n",
    "# XX = np.load('BLR_XX.npy')\n",
    "# ZZ = np.load('BLR_ZZ.npy')"
   ]
  },
  {
   "cell_type": "code",
   "execution_count": 88,
   "metadata": {},
   "outputs": [],
   "source": [
    "# import plotly.plotly as py\n",
    "# import plotly.graph_objs as go\n",
    "# import plotly\n",
    "\n",
    "# pml = 99\n",
    "# # Make data.\n",
    "# X_plot = np.linspace(generate_X_reduced(XX,pml)[:,1].min(), generate_X_reduced(XX,pml)[:,1].max(),num = 50)\n",
    "# Y_plot = np.linspace(generate_X_reduced(XX,pml)[:,2].min(), generate_X_reduced(XX,pml)[:,2].max(),num = 50)\n",
    "# X_plot, Y_plot = np.meshgrid(X_plot, Y_plot)\n",
    "# Z_plot_real = X_plot + Y_plot\n",
    "\n",
    "# Z_plot = np.empty((X_plot.shape[0],X_plot.shape[0]))\n",
    "# for i in range(X_plot.shape[0]):\n",
    "#     XY_plot = np.hstack((X_plot[i].reshape(-1,1,1), Y_plot[i].reshape(-1,1,1)))\n",
    "#     for j in range(X_plot.shape[0]):\n",
    "#         Z_plot[i,j] = G_pml_predict(XY_plot[j],pml,Betas)\n",
    "        \n",
    "# predict_plot = go.Surface(x = X_plot, y = Y_plot,z=Z_plot)\n",
    "# real_scatter = go.Scatter3d(\n",
    "#     x=generate_X_reduced(XX,pml)[:,1],\n",
    "#     y=generate_X_reduced(XX,pml)[:,2],\n",
    "#     z=generate_y_reduced(XX,pml),\n",
    "#     mode='markers',\n",
    "#     marker=dict(\n",
    "#         size=5,\n",
    "#         line=dict(\n",
    "#             color='rgba(217, 217, 217, 0.14)',\n",
    "#             width=0.5\n",
    "#         ),\n",
    "#         opacity=0.8\n",
    "#     )\n",
    "# )       \n",
    "        \n",
    "# data = [predict_plot, real_scatter]\n",
    "# plotly.offline.plot(data, filename=\"surface_G_pml={}\".format(pml))"
   ]
  },
  {
   "cell_type": "code",
   "execution_count": 89,
   "metadata": {},
   "outputs": [],
   "source": [
    "# l = 100\n",
    "# plot_a_plk = []\n",
    "# for i in range (l,XX.shape[1]):\n",
    "#     plot_a_plk.append(a_plk(XX[0],i,l,k_comb[0]))\n",
    "# plot_a_plk = np.array(plot_a_plk)\n",
    "# plt.figure(figsize=(30,10))\n",
    "# plt.ylim(plot_a_plk[10:].min(),plot_a_plk[10:].max())\n",
    "# plt.plot(plot_a_plk[10:])"
   ]
  },
  {
   "cell_type": "code",
   "execution_count": 90,
   "metadata": {},
   "outputs": [],
   "source": [
    "# degrees = np.array([[0,0],[1,0],[0,1],[1,1],[2,0],[0,2],[2,1],[1,2],[3,0],[0,3]])\n",
    "\n",
    "degrees = np.array([[0,0],[1,0],[0,1],[1,1],[2,0],[0,2]])"
   ]
  },
  {
   "cell_type": "code",
   "execution_count": 91,
   "metadata": {},
   "outputs": [],
   "source": [
    "def a_lk(X,l,k_vec, Betas):\n",
    "    d = 2\n",
    "    h = 0.01\n",
    "    S = 0\n",
    "    x_hat = X[l-1] - h*f_grad(X[l-1],X_reg,Y_reg,Sigma)\n",
    "    Small_s = np.zeros(d)\n",
    "    for ind,deg in enumerate(degrees):\n",
    "        Small_s[:] = 0\n",
    "        for d, i in enumerate(deg):\n",
    "            for t in range (i+1):\n",
    "                for s in range (int(t/2 +1)):\n",
    "                    if (k_vec[d] == t - 2*s):\n",
    "                        Small_s[d] = Small_s[d] + comb(N=i, k = t, exact = True) * x_hat[0]**(i-t) * \\\n",
    "                        math.factorial(t)*1/math.factorial(s)*1 / np.sqrt(math.factorial(t-2*s)) *np.sqrt(2*h)**t /2**s\n",
    "                    else:\n",
    "                        pass\n",
    "        S = S + Betas[l,ind] * Small_s.prod()\n",
    "    return S\n",
    "\n",
    "def M_bias(k_vec,X,Z, Betas):\n",
    "    N = X.shape[0]\n",
    "    S = 0\n",
    "    for l in range (N):\n",
    "        s = a_lk(X,l,k_vec, Betas)* Hermite_val(k_vec,Z[l])\n",
    "        S = S + s\n",
    "    return S/N\n",
    "\n",
    "def estimator_bias(k,XX,ZZ,Betas,first, last):\n",
    "    M_results = Parallel(n_jobs=-1)(delayed(M_bias)(k,XX[i],ZZ[i],Betas)for i in range(first, last))\n",
    "    return np.array(M_results).reshape(-1)\n",
    "\n",
    "def estimator(XX):\n",
    "    Pi = np.empty(XX.shape[0])\n",
    "    for i in tqdm(range(XX.shape[0])):\n",
    "        Pi[i] = local_weighted_estimator(XX[i])\n",
    "    return Pi"
   ]
  },
  {
   "cell_type": "code",
   "execution_count": 92,
   "metadata": {},
   "outputs": [
    {
     "name": "stdout",
     "output_type": "stream",
     "text": [
      "P = -0.602861185496252\n",
      "M ([0, 1]) = [-0.01131961] [Time:1.103926723008044]\n",
      "M ([1, 0]) = [0.00045797] [Time:2.1941824050154537]\n",
      "M ([1, 1]) = [0.00153202] [Time:3.2243155679898337]\n"
     ]
    }
   ],
   "source": [
    "X = XX[7]\n",
    "Z = ZZ[7]\n",
    "time_1 = timeit.default_timer()\n",
    "print (\"P =\",local_weighted_estimator(X))\n",
    "for i in range(len(k_comb)):\n",
    "    print (\"M ({}) = {} [Time:{}]\".format(k_comb[i],M_bias(k_comb[i],X,Z,Betas),timeit.default_timer()-time_1))"
   ]
  },
  {
   "cell_type": "code",
   "execution_count": 93,
   "metadata": {},
   "outputs": [
    {
     "name": "stdout",
     "output_type": "stream",
     "text": [
      "P = -0.5857656313633813\n",
      "M ([0, 1]) = [0.00516346] [Time:1.101809913001489]\n",
      "M ([1, 0]) = [-0.00196793] [Time:2.2008015330065973]\n",
      "M ([1, 1]) = [0.00367159] [Time:3.2262004510266706]\n"
     ]
    }
   ],
   "source": [
    "X = XX[8]\n",
    "Z = ZZ[8]\n",
    "time_1 = timeit.default_timer()\n",
    "print (\"P =\",local_weighted_estimator(X))\n",
    "for i in range(len(k_comb)):\n",
    "    print (\"M ({}) = {} [Time:{}]\".format(k_comb[i],M_bias(k_comb[i],X,Z,Betas),timeit.default_timer()-time_1))"
   ]
  },
  {
   "cell_type": "markdown",
   "metadata": {},
   "source": [
    "### Check on test"
   ]
  },
  {
   "cell_type": "code",
   "execution_count": 94,
   "metadata": {},
   "outputs": [],
   "source": [
    "# np.random.seed(9651)\n",
    "# X, Z = lmc_regression_without_precond(X_reg,Y_reg,Sigma, 10000)\n",
    "\n",
    "# XX_test, ZZ_test, GG_test =  generate_paths(X,100,Sigma,1000)\n",
    "\n",
    "# P_test = estimator(XX_test)\n",
    "\n",
    "# # np.save('BLR_XX_test', XX_test)\n",
    "# # np.save('BLR_ZZ_test', ZZ_test)\n",
    "# # XX_test = np.load('BLR_XX_test.npy')\n",
    "# # ZZ_test = np.load('BLR_ZZ_test.npy')"
   ]
  },
  {
   "cell_type": "code",
   "execution_count": 95,
   "metadata": {},
   "outputs": [],
   "source": [
    "# XX_test = np.load('BLR_XX_test.npy')\n",
    "# ZZ_test = np.load('BLR_ZZ_test.npy')\n",
    "# P_test = estimator(XX_test)"
   ]
  },
  {
   "cell_type": "code",
   "execution_count": 96,
   "metadata": {},
   "outputs": [
    {
     "name": "stdout",
     "output_type": "stream",
     "text": [
      "Variance of Pi =  0.0002182263797588667\n"
     ]
    }
   ],
   "source": [
    "print ('Variance of Pi = ',P_test.var(dtype=np.float64,ddof = 1))"
   ]
  },
  {
   "cell_type": "code",
   "execution_count": 97,
   "metadata": {},
   "outputs": [],
   "source": [
    "M_results_algo_2 = np.empty((len(k_comb), XX_test.shape[0]))\n",
    "\n",
    "for i,k in enumerate(k_comb):\n",
    "    M_results_algo_2[i] = estimator_bias(k,XX_test,ZZ_test,Betas, 0, 100)"
   ]
  },
  {
   "cell_type": "code",
   "execution_count": 98,
   "metadata": {},
   "outputs": [],
   "source": [
    "M_results_algo_1 = np.load('../VR-MCMC/BLR_2d_reduced/BLR(2d)_M_results_test_.npy')"
   ]
  },
  {
   "cell_type": "code",
   "execution_count": 99,
   "metadata": {},
   "outputs": [
    {
     "name": "stdout",
     "output_type": "stream",
     "text": [
      "Variance of Pi =  0.0002182263797588667\n",
      "Variance of Pi =  1.8581605941465086e-06\n",
      "Variance of Pi =  2.3214495915838883e-05\n"
     ]
    }
   ],
   "source": [
    "print ('Variance of Pi = ',(P_test).var(ddof = 1))\n",
    "print ('Variance of Pi = ',(P_test - M_results_algo_1.sum(axis = 0)).var(ddof = 1))\n",
    "print ('Variance of Pi = ',(P_test - M_results_algo_2.sum(axis = 0)).var(ddof = 1))"
   ]
  },
  {
   "cell_type": "code",
   "execution_count": 100,
   "metadata": {},
   "outputs": [
    {
     "name": "stdout",
     "output_type": "stream",
     "text": [
      "c =  117.4421524416745\n",
      "c =  9.400435854821827\n"
     ]
    }
   ],
   "source": [
    "print ('c = ',P_test.var(dtype=np.float64,ddof = 1) / (P_test - M_results_algo_1.sum(axis = 0)).var(ddof = 1))\n",
    "print ('c = ',P_test.var(dtype=np.float64,ddof = 1) / (P_test - M_results_algo_2.sum(axis = 0)).var(ddof = 1))"
   ]
  },
  {
   "cell_type": "code",
   "execution_count": 101,
   "metadata": {},
   "outputs": [
    {
     "data": {
      "image/png": "[encoded data removed]",
      "text/plain": [
       "<matplotlib.figure.Figure at 0x7ff7d678d208>"
      ]
     },
     "metadata": {},
     "output_type": "display_data"
    }
   ],
   "source": [
    "plt.figure(figsize=(10,10))\n",
    "plt.hist(P_test.reshape(-1,1),18, facecolor='r', density=True,\n",
    "                            alpha=1, label=\"Distribution of $\\pi$\")\n",
    "\n",
    "plt.hist((P_test-M_results_algo_1.sum(axis = 0)).reshape(-1,1), 18, density=True, facecolor='g', \n",
    "                            alpha=0.85, label=\"Distribution of $\\pi - M^1_N$\")\n",
    "\n",
    "plt.hist((P_test-M_results_algo_2.sum(axis = 0)).reshape(-1,1), 18, density=True, facecolor='gold', \n",
    "                            alpha=0.65, label=\"Distribution of $\\pi - M^1_N$\")\n",
    "plt.grid(linestyle='-', linewidth=0.2, color='black')\n",
    "plt.tick_params(\n",
    "    axis='y',\n",
    "    color = 'w',\n",
    "    labelcolor = 'w',\n",
    "    which='both')\n",
    "plt.show()"
   ]
  },
  {
   "cell_type": "code",
   "execution_count": 109,
   "metadata": {},
   "outputs": [
    {
     "data": {
      "image/png": "[encoded data removed]",
      "text/plain": [
       "<matplotlib.figure.Figure at 0x7ff7d68a7438>"
      ]
     },
     "metadata": {},
     "output_type": "display_data"
    }
   ],
   "source": [
    "plt.figure(figsize=(10,10))\n",
    "\n",
    "# generate some random test data\n",
    "all_data = [P_test, P_test - M_results_algo_1.sum(axis = 0), P_test - M_results_algo_2.sum(axis = 0)]\n",
    "\n",
    "# plot violin plot\n",
    "plt.boxplot(all_data)\n",
    "# plt.title('')\n",
    "plt.xticks(np.arange(1,4), ('Pi_1', 'CV_B_1','CV_B_2'))\n",
    "plt.grid()\n",
    "plt.show()"
   ]
  },
  {
   "cell_type": "code",
   "execution_count": 110,
   "metadata": {},
   "outputs": [
    {
     "data": {
      "image/png": "[encoded data removed]",
      "text/plain": [
       "<matplotlib.figure.Figure at 0x7ff7d5cfe9b0>"
      ]
     },
     "metadata": {},
     "output_type": "display_data"
    }
   ],
   "source": [
    "plt.figure(figsize=(6,12))\n",
    "plt.violinplot(\n",
    "        all_data, showmeans=True, showmedians=False, showextrema=True)\n",
    "# plt.title('violin plot')\n",
    "plt.xticks(np.arange(1,4), ('Pi_1', 'CV_B_1','CV_B_2'))\n",
    "plt.grid()\n",
    "plt.show()"
   ]
  },
  {
   "cell_type": "code",
   "execution_count": 104,
   "metadata": {},
   "outputs": [],
   "source": [
    "def ZVpolyOne(traj, traj_grad):\n",
    "    n, d = traj.shape\n",
    "    samples = traj.sum(axis = 1).reshape(-1,1)\n",
    "    cov1 = np.cov(traj_grad, rowvar=False)\n",
    "    A = np.linalg.inv(cov1)\n",
    "    covariance = np.cov(np.concatenate((-traj_grad, samples), axis=1), rowvar=False)\n",
    "    paramZV1 = -np.dot(A,covariance[:d, d:])\n",
    "    ZV1 = samples - np.dot(traj_grad, paramZV1)\n",
    "    mean_ZV1 = np.mean(ZV1, axis = 0)\n",
    "    return mean_ZV1\n",
    "\n",
    "def ZVpolyTwo(traj, traj_grad):\n",
    "    n, d = traj.shape\n",
    "    samples = traj.sum(axis = 1).reshape(-1,1)\n",
    "    Lpoisson = np.zeros((n,int(d*(d+3)/2)))\n",
    "    Lpoisson[:,np.arange(d)] = - traj_grad\n",
    "    Lpoisson[:,np.arange(d, 2*d)] = 2*(1. - np.multiply(traj, traj_grad))\n",
    "    k=2*d\n",
    "    for j in np.arange(d-1):\n",
    "        for i in np.arange(j+1,d):\n",
    "            Lpoisson[:,k] = -np.multiply(traj_grad[:,i], traj[:,j])-np.multiply(traj_grad[:,j], traj[:,i])\n",
    "            k=k+1\n",
    "    \n",
    "    cov1 = np.cov(Lpoisson, rowvar=False)\n",
    "    A = np.linalg.inv(cov1)\n",
    "    cov2 = np.cov(np.concatenate((Lpoisson, samples),axis=1), rowvar=False)\n",
    "    B = cov2[0:int(d*(d+3)/2), int(d*(d+3)/2):]\n",
    "    paramZV2 = - np.dot(A,B)\n",
    "    ZV2 = samples + np.dot(Lpoisson, paramZV2)\n",
    "    mean_ZV2 = np.mean(ZV2, axis = 0)\n",
    "    return mean_ZV2\n",
    "\n",
    "def CVpolyOne(traj,traj_grad):\n",
    "    n, d = traj.shape\n",
    "    samples = traj.sum(axis = 1).reshape(-1,1)\n",
    "    covariance = np.cov(np.concatenate((traj, samples), axis=1), rowvar=False)\n",
    "    paramCV1 = covariance[:d, d:]\n",
    "    CV1 = samples - np.dot(traj_grad, paramCV1)\n",
    "    mean_CV1 = np.mean(CV1, axis = 0)\n",
    "    return mean_CV1\n",
    "\n",
    "def CVpolyTwo(traj, traj_grad):\n",
    "    n, d = traj.shape\n",
    "    samples = traj.sum(axis = 1).reshape(-1,1)\n",
    "    poisson = np.zeros((n,int(d*(d+3)/2)))\n",
    "    poisson[:,np.arange(d)] = traj\n",
    "    poisson[:,np.arange(d, 2*d)] = np.multiply(traj, traj)\n",
    "    k = 2*d\n",
    "    for j in np.arange(d-1):\n",
    "        for i in np.arange(j+1,d):\n",
    "            poisson[:,k] = np.multiply(traj[:,i], traj[:,j])\n",
    "            k=k+1\n",
    "    Lpoisson = np.zeros((n,int(d*(d+3)/2)))\n",
    "    Lpoisson[:,np.arange(d)] = - traj_grad\n",
    "    Lpoisson[:,np.arange(d, 2*d)] = 2*(1. - np.multiply(traj, traj_grad))\n",
    "    k=2*d\n",
    "    for j in np.arange(d-1):\n",
    "        for i in np.arange(j+1,d):\n",
    "            Lpoisson[:,k] = -np.multiply(traj_grad[:,i], traj[:,j]) \\\n",
    "                    -np.multiply(traj_grad[:,j], traj[:,i])\n",
    "            k=k+1\n",
    "    \n",
    "    cov1 = np.cov(np.concatenate((poisson, -Lpoisson), axis=1), rowvar=False)\n",
    "    A = np.linalg.inv(cov1[0:int(d*(d+3)/2), int(d*(d+3)/2):d*(d+3)])\n",
    "    cov2 = np.cov(np.concatenate((poisson, samples),axis=1), rowvar=False)\n",
    "    B = cov2[0:int(d*(d+3)/2), int(d*(d+3)/2):]\n",
    "    paramCV2 = np.dot(A,B)\n",
    "    CV2 = samples + np.dot(Lpoisson, paramCV2)\n",
    "    mean_CV2 = np.mean(CV2, axis = 0)\n",
    "    return mean_CV2"
   ]
  },
  {
   "cell_type": "code",
   "execution_count": 105,
   "metadata": {},
   "outputs": [],
   "source": [
    "res_zv_1 = []\n",
    "for i in range (XX_test.shape[0]):\n",
    "    res_zv_1.append(ZVpolyOne(XX_test[i].reshape(-1,d), GG_test[i].reshape(-1,d)))\n",
    "res_zv_1 = np.array(res_zv_1).reshape(-1)\n",
    "\n",
    "res_zv_2 = []\n",
    "for i in range (XX_test.shape[0]):\n",
    "    res_zv_2.append(ZVpolyTwo(XX_test[i].reshape(-1,d), GG_test[i].reshape(-1,d)))\n",
    "res_zv_2 = np.array(res_zv_2).reshape(-1)\n",
    "\n",
    "res_cv_1 = []\n",
    "for i in range (XX_test.shape[0]):\n",
    "    res_cv_1.append(CVpolyOne(XX_test[i].reshape(-1,d), GG_test[i].reshape(-1,d)))\n",
    "res_cv_1 = np.array(res_cv_1).reshape(-1)\n",
    "\n",
    "res_cv_2 = []\n",
    "for i in range (XX_test.shape[0]):\n",
    "    res_cv_2.append(CVpolyTwo(XX_test[i].reshape(-1,d), GG_test[i].reshape(-1,d)))\n",
    "res_cv_2 = np.array(res_cv_2).reshape(-1)"
   ]
  },
  {
   "cell_type": "code",
   "execution_count": 106,
   "metadata": {},
   "outputs": [
    {
     "data": {
      "image/png": "[encoded data removed]",
      "text/plain": [
       "<matplotlib.figure.Figure at 0x7ff7d69ff828>"
      ]
     },
     "metadata": {},
     "output_type": "display_data"
    }
   ],
   "source": [
    "all_data.append(res_zv_1)\n",
    "all_data.append(res_zv_2)\n",
    "all_data.append(res_cv_1)\n",
    "all_data.append(res_cv_2) \n",
    "\n",
    "plt.figure(figsize=(10,10))\n",
    "plt.boxplot(all_data)\n",
    "plt.xticks(np.arange(1,8), ('pi', 'CV_B_1','CV_B_2', 'ZV_1', 'ZV_2', 'CV_1', 'CV_2'))\n",
    "plt.title('Boxplot')\n",
    "plt.grid()\n",
    "plt.show()"
   ]
  },
  {
   "cell_type": "code",
   "execution_count": 108,
   "metadata": {},
   "outputs": [
    {
     "data": {
      "image/png": "[encoded data removed]",
      "text/plain": [
       "<matplotlib.figure.Figure at 0x7ff7d5cfeef0>"
      ]
     },
     "metadata": {},
     "output_type": "display_data"
    }
   ],
   "source": [
    "plt.figure(figsize=(6,12))\n",
    "plt.violinplot(all_data, showmeans=True, showmedians=False)\n",
    "plt.title('violin plot')\n",
    "plt.xticks(np.arange(1,8), ('pi', 'CV_B_1','CV_B_2', 'ZV_1', 'ZV_2', 'CV_1', 'CV_2'))\n",
    "plt.grid()\n",
    "plt.show()"
   ]
  },
  {
   "cell_type": "code",
   "execution_count": null,
   "metadata": {},
   "outputs": [],
   "source": []
  }
 ],
 "metadata": {
  "kernelspec": {
   "display_name": "Python 3",
   "language": "python",
   "name": "python3"
  },
  "language_info": {
   "codemirror_mode": {
    "name": "ipython",
    "version": 3
   },
   "file_extension": ".py",
   "mimetype": "text/x-python",
   "name": "python",
   "nbconvert_exporter": "python",
   "pygments_lexer": "ipython3",
   "version": "3.6.4"
  }
 },
 "nbformat": 4,
 "nbformat_minor": 2
}
