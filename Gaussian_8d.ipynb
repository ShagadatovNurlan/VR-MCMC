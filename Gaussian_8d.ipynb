{
 "cells": [
  {
   "cell_type": "code",
   "execution_count": 1,
   "metadata": {},
   "outputs": [],
   "source": [
    "import numpy as np\n",
    "from tqdm import tqdm\n",
    "import timeit\n",
    "from matplotlib import pyplot as plt\n",
    "from Code import ULA\n",
    "from Code import Algo1\n",
    "from Code import ZVnbrosse"
   ]
  },
  {
   "cell_type": "markdown",
   "metadata": {},
   "source": [
    "### Gaussian mixture \n",
    "\n",
    "## $\\pi (x) = \\frac{1}{2(2\\pi)^{d/2}} \\left( e ^{\\frac{-| x-a|^2}{2}}  + e ^{\\frac{-| x+a|^2}{2}} \\right), \\quad x \\in\\mathbb R^d$\n",
    "\n",
    "$U(x) = \\frac{1}{2} \\|x - a\\|_2^2 - \\text{log}(1 + e^{-2x^\\top a})$\n",
    "\n",
    "$\\nabla U(x) = x-a +2a(1 + e^{2 x^\\top a})^{-1}$\n",
    "\n",
    "$ m = 1 - \\|a \\|_2^2 \\quad $ (strongly convex function)\n",
    "\n",
    "$M = 1 \\quad$  (Lipschitz continuous gradient)\n",
    "\n",
    "$a = (\\frac{1}{\\sqrt{2d}}, \\dots, \\frac{1}{\\sqrt{2d}})$"
   ]
  },
  {
   "cell_type": "markdown",
   "metadata": {},
   "source": [
    "## Setup"
   ]
  },
  {
   "cell_type": "code",
   "execution_count": 5,
   "metadata": {},
   "outputs": [],
   "source": [
    "dim = 8\n",
    "h = 0.1\n",
    "n = 1000\n",
    "N_train = 50\n",
    "N_test = 50\n",
    "n_tilde = 50\n",
    "deg = 1\n",
    "def f_grad(x):\n",
    "    a = np.ones(dim) / 8\n",
    "    return x - a \n",
    "\n",
    "def local_weighted_estimator(X):\n",
    "    return X.sum(axis=1).mean()\n",
    "\n",
    "def estimator(XX):\n",
    "    Pi = np.empty(XX.shape[0])\n",
    "    for i in tqdm(range(XX.shape[0])):\n",
    "        Pi[i] = local_weighted_estimator(XX[i])\n",
    "    return Pi"
   ]
  },
  {
   "cell_type": "markdown",
   "metadata": {},
   "source": [
    "### Generate sample and plot"
   ]
  },
  {
   "cell_type": "code",
   "execution_count": 6,
   "metadata": {},
   "outputs": [],
   "source": [
    "np.random.seed(2342)\n",
    "X, G, Z = ULA.ULA_with_burnin(d=dim, step=h, burn_in=10000, n=100000,f_grad=f_grad)"
   ]
  },
  {
   "cell_type": "code",
   "execution_count": 7,
   "metadata": {},
   "outputs": [
    {
     "name": "stdout",
     "output_type": "stream",
     "text": [
      "expectation =  0.9479575579086128\n"
     ]
    },
    {
     "data": {
      "image/png": "[encoded data removed]",
      "text/plain": [
       "<matplotlib.figure.Figure at 0x7f89a353c080>"
      ]
     },
     "metadata": {},
     "output_type": "display_data"
    }
   ],
   "source": [
    "print ('expectation = ', local_weighted_estimator(X))\n",
    "ULA.plot_distr(X,Z,G,0)"
   ]
  },
  {
   "cell_type": "markdown",
   "metadata": {},
   "source": [
    "### Generate train ant test trajectories"
   ]
  },
  {
   "cell_type": "code",
   "execution_count": 8,
   "metadata": {},
   "outputs": [],
   "source": [
    "np.random.seed(123)\n",
    "\n",
    "XX, GG, ZZ = ULA.generate_train_trajectories(X, N_train=N_train,d = dim, step = h, n = n, f_grad=f_grad)\n",
    "XX_test, GG_test, ZZ_test = ULA.generate_test_trajetories(N_test=N_test, d =dim, step=h, \n",
    "                                                          burn_in=10000, n = n, f_grad=f_grad)"
   ]
  },
  {
   "cell_type": "markdown",
   "metadata": {},
   "source": [
    "### Algorithm 1 "
   ]
  },
  {
   "cell_type": "code",
   "execution_count": 9,
   "metadata": {},
   "outputs": [
    {
     "name": "stderr",
     "output_type": "stream",
     "text": [
      "100%|██████████| 1000/1000 [00:04<00:00, 206.84it/s]\n"
     ]
    }
   ],
   "source": [
    "Betas, degrees = Algo1.G_pml_fit_meansum(XX,max_deg = deg)"
   ]
  },
  {
   "cell_type": "code",
   "execution_count": 10,
   "metadata": {},
   "outputs": [],
   "source": [
    "k_comb = np.zeros((dim,dim), dtype=np.int16)\n",
    "for i in range(dim):\n",
    "    k_comb[i,i] = 1\n",
    "\n",
    "# k_comb = np.array([[1,0], [0,1], [1,1], [2,0], [0,2]], dtype=np.int16)"
   ]
  },
  {
   "cell_type": "markdown",
   "metadata": {},
   "source": [
    "### Check and time"
   ]
  },
  {
   "cell_type": "code",
   "execution_count": 11,
   "metadata": {},
   "outputs": [
    {
     "name": "stdout",
     "output_type": "stream",
     "text": [
      "mean of target function = 1.2272299916624019\n",
      "            (k = [1 0 0 0 0 0 0 0]) = 1.238738864659978 [Time:41.847257797002385]\n",
      "            (k = [0 1 0 0 0 0 0 0]) = 1.3177103956482294 [Time:84.21489848800411]\n",
      "            (k = [0 0 1 0 0 0 0 0]) = 1.0975873416588138 [Time:126.39794491499924]\n",
      "            (k = [0 0 0 1 0 0 0 0]) = 1.1128058150170936 [Time:168.26948809600435]\n",
      "            (k = [0 0 0 0 1 0 0 0]) = 1.1078289011795566 [Time:209.90946464000444]\n",
      "            (k = [0 0 0 0 0 1 0 0]) = 0.9131296360796564 [Time:251.5825928980048]\n",
      "            (k = [0 0 0 0 0 0 1 0]) = 1.0273850307188848 [Time:293.1780042130049]\n",
      "            (k = [0 0 0 0 0 0 0 1]) = 1.043931322826207 [Time:334.801383955004]\n"
     ]
    }
   ],
   "source": [
    "time_1 = timeit.default_timer()\n",
    "p = local_weighted_estimator(XX_test[-1])\n",
    "print (\"mean of target function =\", p)\n",
    "for i in range(len(k_comb)):\n",
    "    p = p - Algo1.M_bias(k_comb[i],XX_test[-1],GG_test[-1], ZZ_test[-1], h, degrees,Betas, n_tilde)\n",
    "    print (\"            (k = {}) = {} [Time:{}]\".format(k_comb[i],p,timeit.default_timer()-time_1))"
   ]
  },
  {
   "cell_type": "markdown",
   "metadata": {},
   "source": [
    "## Check results on test trajectories"
   ]
  },
  {
   "cell_type": "code",
   "execution_count": 12,
   "metadata": {},
   "outputs": [
    {
     "name": "stderr",
     "output_type": "stream",
     "text": [
      "100%|██████████| 50/50 [00:00<00:00, 15360.38it/s]\n"
     ]
    }
   ],
   "source": [
    "P_test = estimator(XX_test)\n",
    "\n",
    "M_test = np.empty((len(k_comb),P_test.shape[0]))\n",
    "for i in range(len(k_comb)):\n",
    "    M_test[i] = Algo1.estimator_bias(k_comb[i], XX_test, GG_test, ZZ_test, h, degrees,Betas, n_tilde, n_jobs=8)"
   ]
  },
  {
   "cell_type": "code",
   "execution_count": 13,
   "metadata": {},
   "outputs": [],
   "source": [
    "res_zv_1 = []\n",
    "for i in range (XX_test.shape[0]):\n",
    "    res_zv_1.append(ZVnbrosse.ZVpolyOne(XX_test[i].reshape(-1,dim), GG_test[i].reshape(-1,dim)))\n",
    "res_zv_1 = np.array(res_zv_1).reshape(-1)\n",
    "\n",
    "res_zv_2 = []\n",
    "for i in range (XX_test.shape[0]):\n",
    "    res_zv_2.append(ZVnbrosse.ZVpolyTwo(XX_test[i].reshape(-1,dim), GG_test[i].reshape(-1,dim)))\n",
    "res_zv_2 = np.array(res_zv_2).reshape(-1)\n",
    "\n",
    "res_cv_1 = []\n",
    "for i in range (XX_test.shape[0]):\n",
    "    res_cv_1.append(ZVnbrosse.CVpolyOne(XX_test[i].reshape(-1,dim), GG_test[i].reshape(-1,dim)))\n",
    "res_cv_1 = np.array(res_cv_1).reshape(-1)\n",
    "\n",
    "res_cv_2 = []\n",
    "for i in range (XX_test.shape[0]):\n",
    "    res_cv_2.append(ZVnbrosse.CVpolyTwo(XX_test[i].reshape(-1,dim), GG_test[i].reshape(-1,dim)))\n",
    "res_cv_2 = np.array(res_cv_2).reshape(-1)"
   ]
  },
  {
   "cell_type": "code",
   "execution_count": 19,
   "metadata": {},
   "outputs": [
    {
     "name": "stderr",
     "output_type": "stream",
     "text": [
      "/home/yerlan.turashev/anaconda3/lib/python3.6/site-packages/numpy/lib/function_base.py:838: RuntimeWarning:\n",
      "\n",
      "divide by zero encountered in true_divide\n",
      "\n",
      "/home/yerlan.turashev/anaconda3/lib/python3.6/site-packages/numpy/lib/function_base.py:838: RuntimeWarning:\n",
      "\n",
      "invalid value encountered in true_divide\n",
      "\n"
     ]
    },
    {
     "data": {
      "image/png": "[encoded data removed]",
      "text/plain": [
       "<matplotlib.figure.Figure at 0x7f89ad105ba8>"
      ]
     },
     "metadata": {},
     "output_type": "display_data"
    }
   ],
   "source": [
    "plt.figure(figsize=(10,10))\n",
    "plt.hist(P_test,15, facecolor='r', density=True, alpha=1, label=r\"$\\pi$\")\n",
    "\n",
    "plt.hist((P_test-M_test.sum(axis=0)),15, density=True, facecolor='g', alpha=0.7, label=\"Distribution of $\\pi - M^2_N$\")\n",
    "\n",
    "plt.hist(res_zv_1,15, facecolor='y', density=True, alpha=0.5, label=\"ZV 1\")\n",
    "plt.hist(res_zv_2,15, facecolor='b', density=True, alpha=0.5, label=\"ZV 2\")\n",
    "plt.hist(res_cv_1,15, facecolor='pink', density=True, alpha=0.5, label=\"CV 1\")\n",
    "plt.hist(res_cv_2,15, facecolor='black', density=True, alpha=0.5, label=\"CV 2\")\n",
    "\n",
    "plt.legend(loc=2, prop={'size': 17})\n",
    "plt.grid(linestyle='-', linewidth=0.2, color='black')\n",
    "plt.tick_params(axis='y',color = 'w', labelcolor = 'w', which='both')\n",
    "# plt.xlim(-0.65, 0.65)\n",
    "plt.show()"
   ]
  },
  {
   "cell_type": "code",
   "execution_count": 20,
   "metadata": {},
   "outputs": [
    {
     "data": {
      "image/png": "[encoded data removed]",
      "text/plain": [
       "<matplotlib.figure.Figure at 0x7f89a379d588>"
      ]
     },
     "metadata": {},
     "output_type": "display_data"
    }
   ],
   "source": [
    "all_data = [P_test]\n",
    "all_data.append(P_test - M_test.sum(axis = 0))\n",
    "all_data.append(res_zv_1)\n",
    "all_data.append(res_zv_2)\n",
    "all_data.append(res_cv_1)\n",
    "all_data.append(res_cv_2)\n",
    "    \n",
    "plt.figure(figsize=(10,10))\n",
    "plt.violinplot(all_data, showmeans=True, showmedians=False)\n",
    "plt.title('violin plot')\n",
    "plt.xticks(np.arange(1,7), ('pi', 'CV_B', 'ZV_1', 'ZV_2', 'CV_1', 'CV_2'))\n",
    "plt.grid()\n",
    "plt.show()"
   ]
  },
  {
   "cell_type": "code",
   "execution_count": 26,
   "metadata": {},
   "outputs": [
    {
     "data": {
      "text/plain": [
       "array([1., 1., 1., 1., 1., 1., 1., 1., 1., 1., 1., 1., 1., 1., 1., 1., 1.,\n",
       "       1., 1., 1., 1., 1., 1., 1., 1., 1., 1., 1., 1., 1., 1., 1., 1., 1.,\n",
       "       1., 1., 1., 1., 1., 1., 1., 1., 1., 1., 1., 1., 1., 1., 1., 1.])"
      ]
     },
     "execution_count": 26,
     "metadata": {},
     "output_type": "execute_result"
    }
   ],
   "source": [
    "res_cv_2"
   ]
  },
  {
   "cell_type": "code",
   "execution_count": 21,
   "metadata": {},
   "outputs": [
    {
     "name": "stdout",
     "output_type": "stream",
     "text": [
      "          Variance of Pi =  0.16765056657999874\n",
      "Variance of new estimator = 0.14106235830509428\n",
      "Variance of new estimator = 0.14614325895556243\n",
      "Variance of new estimator = 0.12126559663221526\n",
      "Variance of new estimator = 0.09824354492643957\n",
      "Variance of new estimator = 0.06675737494294492\n",
      "Variance of new estimator = 0.03613857845390991\n",
      "Variance of new estimator = 0.023817025719912448\n",
      "Variance of new estimator = 0.0024536131388902876\n",
      "        Variance of CV 1 =  0.018652074170195806\n",
      "        Variance of CV 2 =  1.763365735203856e-31\n",
      "        Variance of ZV 1 =  2.3142603086840909e-32\n",
      "        Variance of ZV 2 =  2.7595038680722257e-31\n"
     ]
    }
   ],
   "source": [
    "print ('          Variance of Pi = ',P_test.var(ddof = 1))\n",
    "for i in range(len(k_comb)):\n",
    "    print ('Variance of new estimator =',(P_test-M_test[:i+1].sum(axis = 0)).var(ddof = 1))\n",
    "print ('        Variance of CV 1 = ',res_cv_1.var(ddof=1))\n",
    "print ('        Variance of CV 2 = ',res_cv_2.var(ddof=1))\n",
    "print ('        Variance of ZV 1 = ',res_zv_1.var(ddof=1))\n",
    "print ('        Variance of ZV 2 = ',res_zv_2.var(ddof=1))"
   ]
  },
  {
   "cell_type": "code",
   "execution_count": 27,
   "metadata": {},
   "outputs": [
    {
     "name": "stdout",
     "output_type": "stream",
     "text": [
      "VRF CVB =  68.32803587603188\n",
      "VRF CV1 =  8.988306879450864\n",
      "VRF CV2 =  9.507418865696474e+29\n",
      "VRF ZV1 =  7.244239809623074e+30\n",
      "VRF ZV2 =  6.075387989838859e+29\n"
     ]
    }
   ],
   "source": [
    "print ('VRF CVB = ',P_test.var(ddof = 1)/ (P_test - M_test.sum(axis = 0)).var(ddof=1))\n",
    "print ('VRF CV1 = ',P_test.var(ddof = 1)/res_cv_1.var(ddof = 1))\n",
    "print ('VRF CV2 = ',P_test.var(ddof = 1)/res_cv_2.var(ddof = 1))\n",
    "print ('VRF ZV1 = ',P_test.var(ddof = 1)/res_zv_1.var(ddof = 1))\n",
    "print ('VRF ZV2 = ',P_test.var(ddof = 1)/res_zv_2.var(ddof = 1))"
   ]
  },
  {
   "cell_type": "code",
   "execution_count": 28,
   "metadata": {},
   "outputs": [],
   "source": [
    "np.save(\"logs/gaussian_8d_M_test_(K = {}, n_tilde={}).npy\".format(deg, n_tilde), M_test)"
   ]
  }
 ],
 "metadata": {
  "kernelspec": {
   "display_name": "Python 3",
   "language": "python",
   "name": "python3"
  },
  "language_info": {
   "codemirror_mode": {
    "name": "ipython",
    "version": 3
   },
   "file_extension": ".py",
   "mimetype": "text/x-python",
   "name": "python",
   "nbconvert_exporter": "python",
   "pygments_lexer": "ipython3",
   "version": "3.6.4"
  }
 },
 "nbformat": 4,
 "nbformat_minor": 2
}
