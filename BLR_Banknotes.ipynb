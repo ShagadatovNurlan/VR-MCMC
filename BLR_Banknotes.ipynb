{
 "cells": [
  {
   "cell_type": "code",
   "execution_count": 156,
   "metadata": {},
   "outputs": [],
   "source": [
    "import numpy as np\n",
    "from tqdm import tqdm\n",
    "import timeit\n",
    "from matplotlib import pyplot as plt\n",
    "from scipy.stats import multivariate_normal\n",
    "from scipy.stats import bernoulli\n",
    "\n",
    "from Code import ULA\n",
    "from Code import Algo1\n",
    "from Code import ZVnbrosse"
   ]
  },
  {
   "cell_type": "code",
   "execution_count": 157,
   "metadata": {},
   "outputs": [],
   "source": [
    "def r(theta, x):\n",
    "    return np.exp(theta.T @ x)/(1+np.exp(theta.T @ x))\n",
    "\n",
    "def f_grad(theta):\n",
    "    n = X_reg.shape[0]\n",
    "    p = X_reg.shape[1]\n",
    "    lambda_c = 3*p / np.pi**2\n",
    "    LOG = np.zeros((p))\n",
    "    for i in range(n):\n",
    "        LOG = LOG + X_reg[i].reshape((p)) / (1+np.exp(theta.T @ X_reg[i].reshape((p))))\n",
    "    F = X_reg.T @ Y_reg - LOG + 1/100* theta\n",
    "    return F\n",
    "\n",
    "def local_weighted_estimator(X):\n",
    "    return X.sum(axis=1).mean()\n",
    "\n",
    "def estimator(XX):\n",
    "    Pi = np.empty(XX.shape[0])\n",
    "    for i in tqdm(range(XX.shape[0])):\n",
    "        Pi[i] = local_weighted_estimator(XX[i])\n",
    "    return Pi"
   ]
  },
  {
   "cell_type": "code",
   "execution_count": 158,
   "metadata": {},
   "outputs": [],
   "source": [
    "data = np.loadtxt(\"data/swiss.txt\")\n",
    "Y_reg = data[:,-1]\n",
    "X_reg = data[:,0:-1]\n",
    "# Normalization of the covariates\n",
    "X_reg = np.dot(X_reg - np.mean(X_reg, axis=0), np.diag(1./np.std(X_reg, axis=0)))"
   ]
  },
  {
   "cell_type": "code",
   "execution_count": 159,
   "metadata": {},
   "outputs": [],
   "source": [
    "dim = X_reg.shape[1]\n",
    "h = 0.12\n",
    "n = 2000\n",
    "N_train = 10\n",
    "N_test = 100\n",
    "deg = 1\n",
    "\n",
    "np.random.seed(55)"
   ]
  },
  {
   "cell_type": "code",
   "execution_count": 160,
   "metadata": {},
   "outputs": [],
   "source": [
    "f_target = 'sum'"
   ]
  },
  {
   "cell_type": "code",
   "execution_count": null,
   "metadata": {},
   "outputs": [],
   "source": [
    "np.random.seed(2342)\n",
    "X, G, Z = ULA.ULA_with_burnin(d=dim, step=h, burn_in=10000, n=100000,f_grad=f_grad)"
   ]
  },
  {
   "cell_type": "code",
   "execution_count": null,
   "metadata": {},
   "outputs": [],
   "source": [
    "print ('expectation = ',local_weighted_estimator(X))\n",
    "ULA.plot_distr(X,Z,G,0)\n",
    "ULA.plot_distr(X,Z,G,1)\n",
    "ULA.plot_distr(X,Z,G,2)\n",
    "ULA.plot_distr(X,Z,G,3)"
   ]
  },
  {
   "cell_type": "code",
   "execution_count": null,
   "metadata": {},
   "outputs": [],
   "source": [
    "np.random.seed(123)\n",
    "\n",
    "XX, GG, ZZ = ULA.generate_train_trajectories(X, N_train=N_train,d = dim, step = h, n = n, f_grad=f_grad)\n",
    "XX_test, GG_test, ZZ_test = ULA.generate_test_trajetories(N_test=N_test, d =dim, step=h, \n",
    "                                                          burn_in=10000, n = n, f_grad=f_grad)"
   ]
  },
  {
   "cell_type": "code",
   "execution_count": null,
   "metadata": {},
   "outputs": [],
   "source": [
    "ULA.plot_distr(XX_test[5],ZZ_test[5],GG_test[5],0)\n",
    "ULA.plot_distr(XX_test[5],ZZ_test[5],GG_test[5],1)\n",
    "ULA.plot_distr(XX_test[5],ZZ_test[5],GG_test[5],2)\n",
    "ULA.plot_distr(XX_test[5],ZZ_test[5],GG_test[5],3)"
   ]
  },
  {
   "cell_type": "code",
   "execution_count": null,
   "metadata": {},
   "outputs": [],
   "source": [
    "Betas, degrees = Algo1.G_pml_fit_mean(XX,f_target='sum',max_deg = deg)"
   ]
  },
  {
   "cell_type": "code",
   "execution_count": null,
   "metadata": {},
   "outputs": [],
   "source": [
    "k_comb = np.zeros((dim,dim), dtype=np.int16)\n",
    "for i in range(dim):\n",
    "    k_comb[i,i] = 1"
   ]
  },
  {
   "cell_type": "code",
   "execution_count": null,
   "metadata": {},
   "outputs": [],
   "source": [
    "i_test = 5\n",
    "time_1 = timeit.default_timer()\n",
    "p = local_weighted_estimator(XX_test[i_test])\n",
    "print (\"mean of target function =\", p)\n",
    "for i in range(len(k_comb)):\n",
    "    p = p - Algo1.M_bias(k_comb[i],XX_test[i_test],GG_test[i_test], ZZ_test[i_test], h, degrees,Betas, 100)\n",
    "    print (\"            (k = {}) = {} [Time:{}]\".format(k_comb[i],p,timeit.default_timer()-time_1))"
   ]
  },
  {
   "cell_type": "code",
   "execution_count": null,
   "metadata": {},
   "outputs": [],
   "source": [
    "P_test = estimator(XX_test)"
   ]
  },
  {
   "cell_type": "code",
   "execution_count": null,
   "metadata": {},
   "outputs": [],
   "source": [
    "res_zv_1 = []\n",
    "for i in range (XX_test.shape[0]):\n",
    "    res_zv_1.append(ZVnbrosse.ZVpolyOne(XX_test[i].reshape(-1,dim), GG_test[i].reshape(-1,dim), f_target))\n",
    "res_zv_1 = np.array(res_zv_1).reshape(-1)\n",
    "\n",
    "res_zv_2 = []\n",
    "for i in range (XX_test.shape[0]):\n",
    "    res_zv_2.append(ZVnbrosse.ZVpolyTwo(XX_test[i].reshape(-1,dim), GG_test[i].reshape(-1,dim), f_target))\n",
    "res_zv_2 = np.array(res_zv_2).reshape(-1)\n",
    "\n",
    "res_cv_1 = []\n",
    "for i in range (XX_test.shape[0]):\n",
    "    res_cv_1.append(ZVnbrosse.CVpolyOne(XX_test[i].reshape(-1,dim), GG_test[i].reshape(-1,dim), f_target))\n",
    "res_cv_1 = np.array(res_cv_1).reshape(-1)\n",
    "\n",
    "res_cv_2 = []\n",
    "for i in range (XX_test.shape[0]):\n",
    "    res_cv_2.append(ZVnbrosse.CVpolyTwo(XX_test[i].reshape(-1,dim), GG_test[i].reshape(-1,dim), f_target))\n",
    "res_cv_2 = np.array(res_cv_2).reshape(-1)"
   ]
  },
  {
   "cell_type": "code",
   "execution_count": null,
   "metadata": {},
   "outputs": [],
   "source": [
    "def save_plot(M_test, n_tilde):\n",
    "    all_data = [P_test]\n",
    "    all_data.append(P_test - M_test.sum(axis = 0))\n",
    "    all_data.append(res_zv_1)\n",
    "    all_data.append(res_cv_1)\n",
    "        \n",
    "    plt.figure(figsize=(10,10))\n",
    "    plt.violinplot(all_data, showmeans=True, showmedians=False)\n",
    "    plt.xticks(np.arange(1,5), ('O', 'CV_B', 'ZV', 'CV'))\n",
    "    plt.tick_params(labelsize = 15)\n",
    "    plt.grid()\n",
    "    plt.savefig(\"Algo1_logs/BLR_banknotes_{}d_violin_(h = {}, n = {}, K = 1, n_tilde={}, f_target = {}).png\".format(dim, h, n, n_tilde,f_target))\n",
    "\n",
    "    all_data.append(res_zv_2)\n",
    "    all_data.append(res_cv_2)\n",
    "    plt.figure(figsize=(10,10))\n",
    "    plt.violinplot(all_data, showmeans=True, showmedians=False)\n",
    "    plt.xticks(np.arange(1,7), ('O', 'CV_B', 'ZV-1', 'CV-1', 'ZV-2', 'CV-2'))\n",
    "    plt.tick_params(labelsize = 15)\n",
    "    plt.grid()\n",
    "    plt.savefig(\"Algo1_logs/BLR_banknotes_{}d_violin_full_(h = {}, n = {}, K = 1, n_tilde={}, f_target = {}).png\".format(dim, h, n, n_tilde,f_target))"
   ]
  },
  {
   "cell_type": "code",
   "execution_count": null,
   "metadata": {},
   "outputs": [],
   "source": [
    "for n_tilde in [50, 100]:\n",
    "    M_test = np.empty((len(k_comb),P_test.shape[0]))\n",
    "    for i in range(len(k_comb)):\n",
    "        M_test[i] = Algo1.estimator_bias(k_comb[i], XX_test, GG_test, ZZ_test, h, degrees,Betas, n_tilde, n_jobs=8)\n",
    "    save_plot(M_test, n_tilde)\n",
    "    np.save(\"Algo1_logs/BLR_banknotes_{}d_M_test(h = {}, n = {}, K = 1, n_tilde={}, f_target = {}).npy\".\n",
    "            format(dim, h, n, n_tilde,f_target), M_test)\n",
    "    print(\"plots_saved for n_tilde = {}\".format(n_tilde))"
   ]
  },
  {
   "cell_type": "code",
   "execution_count": 108,
   "metadata": {},
   "outputs": [],
   "source": [
    "M_test = np.load('Algo1_logs/BLR_banknotes_4d_M_test(h = 0.1, n = 1000, K = 1, n_tilde=50, f_target = sum).npy')"
   ]
  },
  {
   "cell_type": "code",
   "execution_count": null,
   "metadata": {},
   "outputs": [],
   "source": []
  },
  {
   "cell_type": "code",
   "execution_count": null,
   "metadata": {},
   "outputs": [],
   "source": []
  },
  {
   "cell_type": "code",
   "execution_count": 109,
   "metadata": {},
   "outputs": [
    {
     "data": {
      "image/png": "[encoded data removed]",
      "text/plain": [
       "<matplotlib.figure.Figure at 0x7fe40d7b2128>"
      ]
     },
     "metadata": {},
     "output_type": "display_data"
    }
   ],
   "source": [
    "plt.figure(figsize=(10,10))\n",
    "plt.hist(P_test,15, facecolor='r', density=True, alpha=1, label=r\"$\\pi$\")\n",
    "\n",
    "plt.hist((P_test-M_test.sum(axis=0)),15, density=True, facecolor='g', alpha=0.7, label=\"Distribution of $\\pi - M^2_N$\")\n",
    "\n",
    "plt.hist(res_zv_1,15, facecolor='y', density=True, alpha=0.8, label=\"ZV 1\")\n",
    "# plt.hist(res_zv_2,15, facecolor='b', density=True, alpha=0.8, label=\"ZV 2\")\n",
    "plt.hist(res_cv_1,15, facecolor='pink', density=True, alpha=0.8, label=\"CV 1\")\n",
    "# plt.hist(res_cv_2,15, facecolor='black', density=True, alpha=0.8, label=\"CV 2\")\n",
    "\n",
    "plt.legend(loc=2, prop={'size': 17})\n",
    "plt.grid(linestyle='-', linewidth=0.2, color='black')\n",
    "plt.tick_params(axis='y',color = 'w', labelcolor = 'w', which='both')\n",
    "# plt.xlim(-1.339, -1.338)\n",
    "plt.show()"
   ]
  },
  {
   "cell_type": "code",
   "execution_count": 136,
   "metadata": {},
   "outputs": [
    {
     "data": {
      "image/png": "[encoded data removed]",
      "text/plain": [
       "<matplotlib.figure.Figure at 0x7fe40c98ea20>"
      ]
     },
     "metadata": {},
     "output_type": "display_data"
    }
   ],
   "source": [
    "all_data = [P_test]\n",
    "all_data.append(P_test - M_test.sum(axis = 0))\n",
    "all_data.append(res_zv_1)\n",
    "# all_data.append(res_zv_2)\n",
    "all_data.append(res_cv_1)\n",
    "# all_data.append(res_cv_2)\n",
    "    \n",
    "plt.figure(figsize=(10,10))\n",
    "plt.violinplot(all_data, showmeans=True, showmedians=False)\n",
    "# plt.title('violin plot')\n",
    "plt.xticks(np.arange(1,5), ('pi', 'CV_B', 'ZV_1','CV_1'))\n",
    "plt.grid()\n",
    "plt.show()"
   ]
  },
  {
   "cell_type": "code",
   "execution_count": 111,
   "metadata": {},
   "outputs": [
    {
     "name": "stdout",
     "output_type": "stream",
     "text": [
      "          Variance of Pi =  0.00397315392357152\n",
      "Variance of new estimator = 0.003948700327118479\n",
      "Variance of new estimator = 0.003059943117931124\n",
      "Variance of new estimator = 0.0029462804156944636\n",
      "Variance of new estimator = 0.00014965401645997034\n",
      "        Variance of CV 1 =  0.0005388099244714072\n",
      "        Variance of CV 2 =  3.0503698403532516e-06\n",
      "        Variance of ZV 1 =  0.0002522190307687482\n",
      "        Variance of ZV 2 =  2.609471327395953e-06\n"
     ]
    }
   ],
   "source": [
    "print ('          Variance of Pi = ',P_test.var(ddof = 1))\n",
    "for i in range(len(k_comb)):\n",
    "    print ('Variance of new estimator =',(P_test-M_test[:i+1].sum(axis = 0)).var(ddof = 1))\n",
    "print ('        Variance of CV 1 = ',res_cv_1.var(ddof=1))\n",
    "print ('        Variance of CV 2 = ',res_cv_2.var(ddof=1))\n",
    "print ('        Variance of ZV 1 = ',res_zv_1.var(ddof=1))\n",
    "print ('        Variance of ZV 2 = ',res_zv_2.var(ddof=1))"
   ]
  },
  {
   "cell_type": "code",
   "execution_count": 112,
   "metadata": {},
   "outputs": [
    {
     "name": "stdout",
     "output_type": "stream",
     "text": [
      "VRF CVB =  26.548929441090305\n",
      "VRF CV1 =  7.373943468968826\n",
      "VRF CV2 =  1302.5154756681584\n",
      "VRF ZV1 =  15.752791973950535\n",
      "VRF ZV2 =  1522.5896072735984\n"
     ]
    }
   ],
   "source": [
    "print ('VRF CVB = ',P_test.var(ddof = 1)/ (P_test - M_test.sum(axis = 0)).var(ddof=1))\n",
    "print ('VRF CV1 = ',P_test.var(ddof = 1)/res_cv_1.var(ddof = 1))\n",
    "print ('VRF CV2 = ',P_test.var(ddof = 1)/res_cv_2.var(ddof = 1))\n",
    "print ('VRF ZV1 = ',P_test.var(ddof = 1)/res_zv_1.var(ddof = 1))\n",
    "print ('VRF ZV2 = ',P_test.var(ddof = 1)/res_zv_2.var(ddof = 1))"
   ]
  }
 ],
 "metadata": {
  "kernelspec": {
   "display_name": "Python 3",
   "language": "python",
   "name": "python3"
  },
  "language_info": {
   "codemirror_mode": {
    "name": "ipython",
    "version": 3
   },
   "file_extension": ".py",
   "mimetype": "text/x-python",
   "name": "python",
   "nbconvert_exporter": "python",
   "pygments_lexer": "ipython3",
   "version": "3.7.3"
  }
 },
 "nbformat": 4,
 "nbformat_minor": 2
}
